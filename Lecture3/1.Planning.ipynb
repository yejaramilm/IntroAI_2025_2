{
 "cells": [
  {
   "cell_type": "code",
   "execution_count": null,
   "id": "3778f41d",
   "metadata": {},
   "outputs": [],
   "source": [
    "import random\n",
    "\n",
    "# --- Datos del problema ---\n",
    "tasks = ['A', 'B', 'C', 'D', 'E', 'F', 'G', 'H', 'I', 'J']\n",
    "precedence = {\n",
    "    'C': ['A'],\n",
    "    'D': ['A'],\n",
    "    'E': ['B'],\n",
    "    'F': ['C', 'D'],\n",
    "    'G': ['E', 'F'],\n",
    "    'H': ['G'],\n",
    "    'I': ['F'],\n",
    "    'J': ['H', 'I']\n",
    "}\n",
    "\n",
    "def is_valid(order):\n",
    "    position = {task: i for i, task in enumerate(order)}\n",
    "    for task, preds in precedence.items():\n",
    "        for pred in preds:\n",
    "            if position[pred] > position[task]:\n",
    "                return False\n",
    "    return True\n",
    "\n",
    "def fitness(order):\n",
    "    position = {task: i for i, task in enumerate(order)}\n",
    "    score = 100\n",
    "    for task, preds in precedence.items():\n",
    "        for pred in preds:\n",
    "            if position[pred] > position[task]:\n",
    "                score -= 30\n",
    "            else:\n",
    "                # Penalizar distancia grande entre pred y task\n",
    "                score -= (position[task] - position[pred] - 1) * 2\n",
    "    return score\n"
   ]
  },
  {
   "cell_type": "markdown",
   "id": "c8e6923b",
   "metadata": {},
   "source": [
    "## Generar población"
   ]
  },
  {
   "cell_type": "code",
   "execution_count": 20,
   "id": "a6bbef35",
   "metadata": {},
   "outputs": [
    {
     "name": "stdout",
     "output_type": "stream",
     "text": [
      "['J', 'H', 'D', 'C', 'I', 'G', 'F', 'B', 'E', 'A'] -> Fitness: -150\n",
      "['B', 'G', 'J', 'D', 'C', 'H', 'A', 'E', 'I', 'F'] -> Fitness: -146\n",
      "['G', 'A', 'I', 'E', 'H', 'J', 'C', 'F', 'B', 'D'] -> Fitness: -82\n",
      "['F', 'D', 'B', 'G', 'I', 'E', 'H', 'J', 'A', 'C'] -> Fitness: -42\n",
      "['I', 'B', 'F', 'A', 'G', 'J', 'C', 'E', 'D', 'H'] -> Fitness: -90\n",
      "['C', 'B', 'J', 'G', 'D', 'F', 'A', 'E', 'I', 'H'] -> Fitness: -112\n",
      "['A', 'I', 'E', 'B', 'G', 'J', 'F', 'C', 'H', 'D'] -> Fitness: -122\n",
      "['C', 'F', 'I', 'H', 'E', 'B', 'A', 'J', 'D', 'G'] -> Fitness: -58\n",
      "['J', 'C', 'D', 'A', 'B', 'H', 'I', 'F', 'G', 'E'] -> Fitness: -136\n",
      "['C', 'H', 'I', 'G', 'B', 'E', 'J', 'D', 'A', 'F'] -> Fitness: -112\n",
      "['B', 'I', 'C', 'H', 'F', 'A', 'E', 'D', 'G', 'J'] -> Fitness: -66\n",
      "['F', 'I', 'B', 'H', 'G', 'E', 'D', 'C', 'A', 'J'] -> Fitness: -114\n",
      "['A', 'C', 'G', 'D', 'F', 'I', 'E', 'B', 'H', 'J'] -> Fitness: -14\n",
      "['A', 'E', 'F', 'B', 'I', 'D', 'J', 'G', 'C', 'H'] -> Fitness: -66\n",
      "['A', 'G', 'C', 'B', 'D', 'E', 'J', 'I', 'H', 'F'] -> Fitness: -92\n",
      "['D', 'B', 'F', 'A', 'I', 'C', 'E', 'H', 'G', 'J'] -> Fitness: -26\n",
      "['C', 'B', 'J', 'G', 'A', 'D', 'F', 'I', 'H', 'E'] -> Fitness: -82\n",
      "['H', 'G', 'A', 'J', 'D', 'F', 'C', 'B', 'E', 'I'] -> Fitness: -68\n",
      "['F', 'G', 'D', 'C', 'B', 'A', 'I', 'J', 'E', 'H'] -> Fitness: -110\n",
      "['I', 'J', 'E', 'B', 'A', 'G', 'C', 'F', 'D', 'H'] -> Fitness: -68\n"
     ]
    }
   ],
   "source": [
    "def create_individual():\n",
    "    return random.sample(tasks, len(tasks))\n",
    "\n",
    "def create_population(size=20):\n",
    "    return [create_individual() for _ in range(size)]\n",
    "\n",
    "population = create_population()\n",
    "\n",
    "for ind in population:\n",
    "    print(ind, \"-> Fitness:\", fitness(ind))\n"
   ]
  },
  {
   "cell_type": "markdown",
   "id": "d4324e8d",
   "metadata": {},
   "source": [
    "## Operadores GA: selección, cruce, mutación"
   ]
  },
  {
   "cell_type": "code",
   "execution_count": 3,
   "id": "0def57a5",
   "metadata": {},
   "outputs": [],
   "source": [
    "def selection(pop):\n",
    "    a, b = random.sample(pop, 2)\n",
    "    return a if fitness(a) > fitness(b) else b\n",
    "\n",
    "def crossover(p1, p2):\n",
    "    size = len(p1)\n",
    "    start, end = sorted(random.sample(range(size), 2))\n",
    "    child = [None]*size\n",
    "    child[start:end] = p1[start:end]\n",
    "    fill = [x for x in p2 if x not in child]\n",
    "    idx = 0\n",
    "    for i in range(size):\n",
    "        if child[i] is None:\n",
    "            child[i] = fill[idx]\n",
    "            idx += 1\n",
    "    return child\n",
    "\n",
    "def mutate(ind, prob=0.2):\n",
    "    if random.random() < prob:\n",
    "        i, j = random.sample(range(len(ind)), 2)\n",
    "        ind[i], ind[j] = ind[j], ind[i]\n",
    "    return ind\n"
   ]
  },
  {
   "cell_type": "markdown",
   "id": "169df4d5",
   "metadata": {},
   "source": [
    "## Evolución"
   ]
  },
  {
   "cell_type": "code",
   "execution_count": 21,
   "id": "edbabe07",
   "metadata": {},
   "outputs": [
    {
     "name": "stdout",
     "output_type": "stream",
     "text": [
      "Gen  1: ['D', 'F', 'B', 'G', 'I', 'E', 'H', 'J', 'A', 'C'] | Fitness: -8 | Válido: False\n",
      "Gen  2: ['B', 'H', 'A', 'D', 'F', 'I', 'E', 'J', 'C', 'G'] | Fitness: -4 | Válido: False\n",
      "Gen  3: ['A', 'D', 'F', 'I', 'B', 'E', 'H', 'J', 'C', 'G'] | Fitness: 2 | Válido: False\n",
      "Gen  4: ['A', 'D', 'F', 'I', 'B', 'J', 'E', 'C', 'G', 'H'] | Fitness: 12 | Válido: False\n",
      "Gen  5: ['D', 'F', 'I', 'B', 'E', 'G', 'H', 'J', 'A', 'C'] | Fitness: 26 | Válido: False\n",
      "Gen  6: ['B', 'E', 'F', 'A', 'I', 'C', 'G', 'H', 'J', 'D'] | Fitness: 6 | Válido: False\n",
      "Gen  7: ['D', 'F', 'I', 'B', 'E', 'G', 'H', 'A', 'C', 'J'] | Fitness: 18 | Válido: False\n",
      "Gen  8: ['D', 'B', 'C', 'F', 'E', 'I', 'G', 'H', 'J', 'A'] | Fitness: 20 | Válido: False\n",
      "Gen  9: ['E', 'A', 'B', 'C', 'D', 'F', 'I', 'G', 'H', 'J'] | Fitness: 44 | Válido: False\n",
      "Gen 10: ['A', 'B', 'C', 'D', 'F', 'H', 'E', 'G', 'I', 'J'] | Fitness: 38 | Válido: False\n",
      "Gen 11: ['A', 'B', 'C', 'D', 'F', 'E', 'G', 'H', 'I', 'J'] | Fitness: 76 | Válido: True\n",
      "Gen 12: ['A', 'C', 'B', 'D', 'I', 'E', 'F', 'J', 'G', 'H'] | Fitness: 10 | Válido: False\n",
      "Gen 13: ['A', 'B', 'C', 'D', 'F', 'H', 'E', 'I', 'G', 'J'] | Fitness: 34 | Válido: False\n",
      "Gen 14: ['A', 'B', 'D', 'F', 'I', 'C', 'E', 'G', 'H', 'J'] | Fitness: 38 | Válido: False\n",
      "Gen 15: ['A', 'D', 'F', 'B', 'I', 'C', 'E', 'G', 'H', 'J'] | Fitness: 40 | Válido: False\n",
      "Gen 16: ['A', 'D', 'F', 'B', 'I', 'C', 'E', 'G', 'H', 'J'] | Fitness: 40 | Válido: False\n",
      "Gen 17: ['A', 'D', 'B', 'F', 'I', 'C', 'E', 'G', 'H', 'J'] | Fitness: 40 | Válido: False\n",
      "Gen 18: ['A', 'C', 'D', 'B', 'F', 'I', 'E', 'G', 'H', 'J'] | Fitness: 78 | Válido: True\n",
      "Gen 19: ['A', 'C', 'D', 'B', 'F', 'I', 'E', 'G', 'H', 'J'] | Fitness: 78 | Válido: True\n",
      "Gen 20: ['A', 'C', 'D', 'F', 'B', 'I', 'E', 'G', 'H', 'J'] | Fitness: 80 | Válido: True\n",
      "\n",
      "Mejor solución encontrada: ['A', 'C', 'D', 'F', 'B', 'I', 'E', 'G', 'H', 'J']\n"
     ]
    }
   ],
   "source": [
    "def evolve(population, generations=20):\n",
    "    for gen in range(generations):\n",
    "        new_pop = []\n",
    "        for _ in range(len(population)):\n",
    "            p1 = selection(population)\n",
    "            p2 = selection(population)\n",
    "            child = crossover(p1, p2)\n",
    "            child = mutate(child)\n",
    "            new_pop.append(child)\n",
    "        population = new_pop\n",
    "        best = max(population, key=fitness)\n",
    "        print(f\"Gen {gen+1:2d}: {best} | Fitness: {fitness(best)} | Válido: {is_valid(best)}\")\n",
    "    return best\n",
    "\n",
    "best = evolve(population)\n",
    "print(\"\\nMejor solución encontrada:\", best)\n"
   ]
  }
 ],
 "metadata": {
  "kernelspec": {
   "display_name": "Python 3",
   "language": "python",
   "name": "python3"
  },
  "language_info": {
   "codemirror_mode": {
    "name": "ipython",
    "version": 3
   },
   "file_extension": ".py",
   "mimetype": "text/x-python",
   "name": "python",
   "nbconvert_exporter": "python",
   "pygments_lexer": "ipython3",
   "version": "3.11.9"
  }
 },
 "nbformat": 4,
 "nbformat_minor": 5
}
