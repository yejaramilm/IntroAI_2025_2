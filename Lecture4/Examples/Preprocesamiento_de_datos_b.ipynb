{
  "cells": [
    {
      "cell_type": "markdown",
      "metadata": {
        "id": "XWseYLyCtOsE"
      },
      "source": [
        "# **Semana 9 - Preprocesamiento de datos**\n",
        "\n",
        "## **Objetivos de aprendizaje**\n",
        "\n",
        "- Reconocer el impacto de la calidad y cantidad de datos en los algoritmos de ML\n",
        "- Explicar un proceso típico de recolección y transformación de datos en el flujo de trabajo de ML\n",
        "- Identificar cuando implementar transformaciones de características como imputación, escalamiento, one-hot-encoding"
      ]
    },
    {
      "cell_type": "markdown",
      "metadata": {
        "id": "zR1UwTMwuo2z"
      },
      "source": [
        "## **Ejemplo 2: Predicción del precio de casas en California**\n",
        "\n",
        "En este ejemplo usaremos kNN para predecir el precio de una casa en California.\n",
        "\n",
        "Intuición: \n",
        "\n",
        "- Encuentre las casas similares a la casa que queremos vender. \n",
        "- Asignar el precio de esta casa como el promedio de los precios de las casas cercanas"
      ]
    },
    {
      "cell_type": "markdown",
      "metadata": {
        "id": "fAsfat9Lwt7u"
      },
      "source": [
        "## **Descarga de datos**\n",
        "\n",
        "Lo primero que hará será descargar los datos con los que va a trabajar:\n",
        "\n",
        "- Tabla de datos."
      ]
    },
    {
      "cell_type": "markdown",
      "metadata": {
        "id": "dezqH47XyxXp"
      },
      "source": [
        "## **Importar librerías necesarias**"
      ]
    },
    {
      "cell_type": "code",
      "execution_count": 1,
      "metadata": {
        "id": "TjdstBiByoH9"
      },
      "outputs": [],
      "source": [
        "import sys\n",
        "import time\n",
        "\n",
        "import matplotlib.pyplot as plt\n",
        "import seaborn as sns\n",
        "\n",
        "%matplotlib inline\n",
        "import numpy as np\n",
        "import pandas as pd\n",
        "from IPython.display import HTML\n",
        "\n",
        "sys.path.append(\"code/.\")\n",
        "\n",
        "#import mglearn\n",
        "from IPython.display import display\n",
        "#from plotting_functions import *\n",
        "\n",
        "\n",
        "# Preprocessing and pipeline\n",
        "from sklearn.impute import SimpleImputer\n",
        "\n",
        "# train test split and cross validation\n",
        "from sklearn.neighbors import KNeighborsClassifier, KNeighborsRegressor\n",
        "from sklearn.pipeline import Pipeline\n",
        "from sklearn.preprocessing import (\n",
        "    MinMaxScaler,\n",
        "    OneHotEncoder,\n",
        "    OrdinalEncoder,\n",
        "    StandardScaler,\n",
        ")\n",
        "from sklearn.model_selection import cross_val_score, cross_validate, train_test_split\n",
        "\n",
        "pd.set_option(\"display.max_colwidth\", 200)"
      ]
    },
    {
      "cell_type": "markdown",
      "metadata": {
        "id": "FK23F-k6yEq4"
      },
      "source": [
        "## **Técnicas comunes de pre-procesamiento**\n",
        "\n",
        "Algunas transformaciones de características comúnmente realizadas incluyen:\n",
        "\n",
        "- Imputación: abordar valores faltantes\n",
        "- Escalado: escalar características numéricas\n",
        "- Codificación one-hot: abordar variables categóricas\n",
        "\n",
        "¡Podemos tener una lección para cada una de ellas! En esta lección nuestro objetivo es familiarizarnos con ellas para que podamos usarlas para construir frameworks de aprendizaje automático."
      ]
    },
    {
      "cell_type": "code",
      "execution_count": 2,
      "metadata": {
        "colab": {
          "base_uri": "https://localhost:8080/",
          "height": 206
        },
        "id": "fECV1u8TyDHn",
        "outputId": "1c1934c5-0962-4114-f0f9-9b3f501240d1"
      },
      "outputs": [
        {
          "data": {
            "text/html": [
              "<div>\n",
              "<style scoped>\n",
              "    .dataframe tbody tr th:only-of-type {\n",
              "        vertical-align: middle;\n",
              "    }\n",
              "\n",
              "    .dataframe tbody tr th {\n",
              "        vertical-align: top;\n",
              "    }\n",
              "\n",
              "    .dataframe thead th {\n",
              "        text-align: right;\n",
              "    }\n",
              "</style>\n",
              "<table border=\"1\" class=\"dataframe\">\n",
              "  <thead>\n",
              "    <tr style=\"text-align: right;\">\n",
              "      <th></th>\n",
              "      <th>longitude</th>\n",
              "      <th>latitude</th>\n",
              "      <th>housing_median_age</th>\n",
              "      <th>total_rooms</th>\n",
              "      <th>total_bedrooms</th>\n",
              "      <th>population</th>\n",
              "      <th>households</th>\n",
              "      <th>median_income</th>\n",
              "      <th>median_house_value</th>\n",
              "      <th>ocean_proximity</th>\n",
              "    </tr>\n",
              "  </thead>\n",
              "  <tbody>\n",
              "    <tr>\n",
              "      <th>0</th>\n",
              "      <td>-122.23</td>\n",
              "      <td>37.88</td>\n",
              "      <td>41.0</td>\n",
              "      <td>880.0</td>\n",
              "      <td>129.0</td>\n",
              "      <td>322.0</td>\n",
              "      <td>126.0</td>\n",
              "      <td>8.3252</td>\n",
              "      <td>452600.0</td>\n",
              "      <td>NEAR BAY</td>\n",
              "    </tr>\n",
              "    <tr>\n",
              "      <th>1</th>\n",
              "      <td>-122.22</td>\n",
              "      <td>37.86</td>\n",
              "      <td>21.0</td>\n",
              "      <td>7099.0</td>\n",
              "      <td>1106.0</td>\n",
              "      <td>2401.0</td>\n",
              "      <td>1138.0</td>\n",
              "      <td>8.3014</td>\n",
              "      <td>358500.0</td>\n",
              "      <td>NEAR BAY</td>\n",
              "    </tr>\n",
              "    <tr>\n",
              "      <th>2</th>\n",
              "      <td>-122.24</td>\n",
              "      <td>37.85</td>\n",
              "      <td>52.0</td>\n",
              "      <td>1467.0</td>\n",
              "      <td>190.0</td>\n",
              "      <td>496.0</td>\n",
              "      <td>177.0</td>\n",
              "      <td>7.2574</td>\n",
              "      <td>352100.0</td>\n",
              "      <td>NEAR BAY</td>\n",
              "    </tr>\n",
              "    <tr>\n",
              "      <th>3</th>\n",
              "      <td>-122.25</td>\n",
              "      <td>37.85</td>\n",
              "      <td>52.0</td>\n",
              "      <td>1274.0</td>\n",
              "      <td>235.0</td>\n",
              "      <td>558.0</td>\n",
              "      <td>219.0</td>\n",
              "      <td>5.6431</td>\n",
              "      <td>341300.0</td>\n",
              "      <td>NEAR BAY</td>\n",
              "    </tr>\n",
              "    <tr>\n",
              "      <th>4</th>\n",
              "      <td>-122.25</td>\n",
              "      <td>37.85</td>\n",
              "      <td>52.0</td>\n",
              "      <td>1627.0</td>\n",
              "      <td>280.0</td>\n",
              "      <td>565.0</td>\n",
              "      <td>259.0</td>\n",
              "      <td>3.8462</td>\n",
              "      <td>342200.0</td>\n",
              "      <td>NEAR BAY</td>\n",
              "    </tr>\n",
              "  </tbody>\n",
              "</table>\n",
              "</div>"
            ],
            "text/plain": [
              "   longitude  latitude  housing_median_age  total_rooms  total_bedrooms  \\\n",
              "0    -122.23     37.88                41.0        880.0           129.0   \n",
              "1    -122.22     37.86                21.0       7099.0          1106.0   \n",
              "2    -122.24     37.85                52.0       1467.0           190.0   \n",
              "3    -122.25     37.85                52.0       1274.0           235.0   \n",
              "4    -122.25     37.85                52.0       1627.0           280.0   \n",
              "\n",
              "   population  households  median_income  median_house_value ocean_proximity  \n",
              "0       322.0       126.0         8.3252            452600.0        NEAR BAY  \n",
              "1      2401.0      1138.0         8.3014            358500.0        NEAR BAY  \n",
              "2       496.0       177.0         7.2574            352100.0        NEAR BAY  \n",
              "3       558.0       219.0         5.6431            341300.0        NEAR BAY  \n",
              "4       565.0       259.0         3.8462            342200.0        NEAR BAY  "
            ]
          },
          "execution_count": 2,
          "metadata": {},
          "output_type": "execute_result"
        }
      ],
      "source": [
        "# Cargar los datos\n",
        "housing_df = pd.read_csv(\"housing.csv\")\n",
        "housing_df.head()"
      ]
    },
    {
      "cell_type": "markdown",
      "metadata": {
        "id": "5ADNJBwjUyW8"
      },
      "source": [
        "## **Descripción de las columnas**\n",
        "\n",
        "`longitude`: A measure of how far west a house is; a higher value is farther west\n",
        "\n",
        "`latitude`: A measure of how far north a house is; a higher value is farther north\n",
        "\n",
        "`housingMedianAge`: Median age of a house within a block; a lower number is a newer building\n",
        "\n",
        "`totalRooms`: Total number of rooms within a block\n",
        "\n",
        "`totalBedrooms`: Total number of bedrooms within a block\n",
        "\n",
        "`population`: Total number of people residing within a block\n",
        "\n",
        "`households`: Total number of households, a group of people residing within a home unit, for a block\n",
        "\n",
        "`medianIncome`: Median income for households within a block of houses (measured in tens of thousands of US Dollars)\n",
        "\n",
        "`medianHouseValue`: Median house value for households within a block (measured in US Dollars)\n",
        "\n",
        "`oceanProximity`: Location of the house w.r.t ocean/sea"
      ]
    },
    {
      "cell_type": "markdown",
      "metadata": {
        "id": "LqoRK6GdpjGm"
      },
      "source": [
        "## **Particiones de entrenamiento, validación y prueba** "
      ]
    },
    {
      "cell_type": "code",
      "execution_count": 3,
      "metadata": {
        "id": "OSZjihZRzl3e"
      },
      "outputs": [],
      "source": [
        "train_df, test_df = train_test_split(housing_df, test_size=0.20, random_state=123)\n",
        "train_df, val_df = train_test_split(train_df, test_size = 0.20, random_state=123)\n"
      ]
    },
    {
      "cell_type": "markdown",
      "metadata": {
        "id": "0ZvVWE0Tpp2l"
      },
      "source": [
        "## **Creación de nuevas variables**\n",
        "\n",
        "Vamos a agregar algunas características al dataset que puedan ayudar a predecir la columna objetivo: `median_house_value`\n",
        "\n",
        "\n",
        "\n"
      ]
    },
    {
      "cell_type": "code",
      "execution_count": 4,
      "metadata": {
        "id": "WklSlbF0qA8h"
      },
      "outputs": [],
      "source": [
        "train_df = train_df.assign(\n",
        "    rooms_per_household=train_df[\"total_rooms\"] / train_df[\"households\"]\n",
        ")\n",
        "\n",
        "val_df = val_df.assign(\n",
        "    rooms_per_household=val_df[\"total_rooms\"] / val_df[\"households\"]\n",
        ")\n",
        "\n",
        "test_df = test_df.assign(\n",
        "    rooms_per_household=test_df[\"total_rooms\"] / test_df[\"households\"]\n",
        ")\n",
        "\n",
        "train_df = train_df.assign(\n",
        "    bedrooms_per_household=train_df[\"total_bedrooms\"] / train_df[\"households\"]\n",
        ")\n",
        "\n",
        "val_df = val_df.assign(\n",
        "    bedrooms_per_household=val_df[\"total_bedrooms\"] / val_df[\"households\"]\n",
        ")\n",
        "\n",
        "test_df = test_df.assign(\n",
        "    bedrooms_per_household=test_df[\"total_bedrooms\"] / test_df[\"households\"]\n",
        ")\n",
        "\n",
        "train_df = train_df.assign(\n",
        "    population_per_household=train_df[\"population\"] / train_df[\"households\"]\n",
        ")\n",
        "\n",
        "val_df = val_df.assign(\n",
        "    population_per_household=val_df[\"population\"] / val_df[\"households\"]\n",
        ")\n",
        "\n",
        "test_df = test_df.assign(\n",
        "    population_per_household=test_df[\"population\"] / test_df[\"households\"]\n",
        ")"
      ]
    },
    {
      "cell_type": "markdown",
      "metadata": {
        "id": "fiA8KstNrAJX"
      },
      "source": [
        "¿Qué pasa si agregamos estas características antes de hacer la partición en entrenamiento, validación y prueba?"
      ]
    },
    {
      "cell_type": "code",
      "execution_count": 5,
      "metadata": {
        "colab": {
          "base_uri": "https://localhost:8080/",
          "height": 270
        },
        "id": "Ko9_mU0Cph1e",
        "outputId": "5524ffc8-ab3e-4a03-b765-fe5e4ee883b8"
      },
      "outputs": [
        {
          "data": {
            "text/html": [
              "<div>\n",
              "<style scoped>\n",
              "    .dataframe tbody tr th:only-of-type {\n",
              "        vertical-align: middle;\n",
              "    }\n",
              "\n",
              "    .dataframe tbody tr th {\n",
              "        vertical-align: top;\n",
              "    }\n",
              "\n",
              "    .dataframe thead th {\n",
              "        text-align: right;\n",
              "    }\n",
              "</style>\n",
              "<table border=\"1\" class=\"dataframe\">\n",
              "  <thead>\n",
              "    <tr style=\"text-align: right;\">\n",
              "      <th></th>\n",
              "      <th>longitude</th>\n",
              "      <th>latitude</th>\n",
              "      <th>housing_median_age</th>\n",
              "      <th>total_rooms</th>\n",
              "      <th>total_bedrooms</th>\n",
              "      <th>population</th>\n",
              "      <th>households</th>\n",
              "      <th>median_income</th>\n",
              "      <th>median_house_value</th>\n",
              "      <th>ocean_proximity</th>\n",
              "      <th>rooms_per_household</th>\n",
              "      <th>bedrooms_per_household</th>\n",
              "      <th>population_per_household</th>\n",
              "    </tr>\n",
              "  </thead>\n",
              "  <tbody>\n",
              "    <tr>\n",
              "      <th>17854</th>\n",
              "      <td>-121.89</td>\n",
              "      <td>37.46</td>\n",
              "      <td>5.0</td>\n",
              "      <td>1519.0</td>\n",
              "      <td>186.0</td>\n",
              "      <td>705.0</td>\n",
              "      <td>186.0</td>\n",
              "      <td>10.3798</td>\n",
              "      <td>500001.0</td>\n",
              "      <td>&lt;1H OCEAN</td>\n",
              "      <td>8.166667</td>\n",
              "      <td>1.000000</td>\n",
              "      <td>3.790323</td>\n",
              "    </tr>\n",
              "    <tr>\n",
              "      <th>10905</th>\n",
              "      <td>-117.86</td>\n",
              "      <td>33.76</td>\n",
              "      <td>15.0</td>\n",
              "      <td>851.0</td>\n",
              "      <td>297.0</td>\n",
              "      <td>1326.0</td>\n",
              "      <td>254.0</td>\n",
              "      <td>2.8289</td>\n",
              "      <td>117500.0</td>\n",
              "      <td>&lt;1H OCEAN</td>\n",
              "      <td>3.350394</td>\n",
              "      <td>1.169291</td>\n",
              "      <td>5.220472</td>\n",
              "    </tr>\n",
              "    <tr>\n",
              "      <th>12881</th>\n",
              "      <td>-121.34</td>\n",
              "      <td>38.68</td>\n",
              "      <td>28.0</td>\n",
              "      <td>3379.0</td>\n",
              "      <td>552.0</td>\n",
              "      <td>1543.0</td>\n",
              "      <td>556.0</td>\n",
              "      <td>4.2743</td>\n",
              "      <td>124000.0</td>\n",
              "      <td>INLAND</td>\n",
              "      <td>6.077338</td>\n",
              "      <td>0.992806</td>\n",
              "      <td>2.775180</td>\n",
              "    </tr>\n",
              "    <tr>\n",
              "      <th>12280</th>\n",
              "      <td>-116.99</td>\n",
              "      <td>33.92</td>\n",
              "      <td>26.0</td>\n",
              "      <td>503.0</td>\n",
              "      <td>69.0</td>\n",
              "      <td>293.0</td>\n",
              "      <td>59.0</td>\n",
              "      <td>3.7083</td>\n",
              "      <td>147500.0</td>\n",
              "      <td>INLAND</td>\n",
              "      <td>8.525424</td>\n",
              "      <td>1.169492</td>\n",
              "      <td>4.966102</td>\n",
              "    </tr>\n",
              "    <tr>\n",
              "      <th>13104</th>\n",
              "      <td>-121.32</td>\n",
              "      <td>38.41</td>\n",
              "      <td>17.0</td>\n",
              "      <td>4401.0</td>\n",
              "      <td>655.0</td>\n",
              "      <td>1970.0</td>\n",
              "      <td>639.0</td>\n",
              "      <td>5.8239</td>\n",
              "      <td>247500.0</td>\n",
              "      <td>INLAND</td>\n",
              "      <td>6.887324</td>\n",
              "      <td>1.025039</td>\n",
              "      <td>3.082942</td>\n",
              "    </tr>\n",
              "  </tbody>\n",
              "</table>\n",
              "</div>"
            ],
            "text/plain": [
              "       longitude  latitude  housing_median_age  total_rooms  total_bedrooms  \\\n",
              "17854    -121.89     37.46                 5.0       1519.0           186.0   \n",
              "10905    -117.86     33.76                15.0        851.0           297.0   \n",
              "12881    -121.34     38.68                28.0       3379.0           552.0   \n",
              "12280    -116.99     33.92                26.0        503.0            69.0   \n",
              "13104    -121.32     38.41                17.0       4401.0           655.0   \n",
              "\n",
              "       population  households  median_income  median_house_value  \\\n",
              "17854       705.0       186.0        10.3798            500001.0   \n",
              "10905      1326.0       254.0         2.8289            117500.0   \n",
              "12881      1543.0       556.0         4.2743            124000.0   \n",
              "12280       293.0        59.0         3.7083            147500.0   \n",
              "13104      1970.0       639.0         5.8239            247500.0   \n",
              "\n",
              "      ocean_proximity  rooms_per_household  bedrooms_per_household  \\\n",
              "17854       <1H OCEAN             8.166667                1.000000   \n",
              "10905       <1H OCEAN             3.350394                1.169291   \n",
              "12881          INLAND             6.077338                0.992806   \n",
              "12280          INLAND             8.525424                1.169492   \n",
              "13104          INLAND             6.887324                1.025039   \n",
              "\n",
              "       population_per_household  \n",
              "17854                  3.790323  \n",
              "10905                  5.220472  \n",
              "12881                  2.775180  \n",
              "12280                  4.966102  \n",
              "13104                  3.082942  "
            ]
          },
          "execution_count": 5,
          "metadata": {},
          "output_type": "execute_result"
        }
      ],
      "source": [
        "train_df.head()"
      ]
    },
    {
      "cell_type": "markdown",
      "metadata": {
        "id": "LgOPfImrsDUD"
      },
      "source": [
        "## ¿Cuándo se pueden hacer procedimientos o transformaciones antes de hacer las particiones?\n",
        "\n",
        "- Aquí habría estado bien agregar nuevas características antes de dividir porque no estamos usando información global en los datos, sino que solo estamos mirando una fila a la vez.\n",
        "\n",
        "- Pero para estar seguros y evitar romper accidentalmente la regla de oro, es mejor hacerlo después de la división.\n",
        "\n",
        "- Pregunta: ¿Deberíamos eliminar las columnas total_rooms, total_bedrooms y population?\n",
        "        \n",
        "- Probablemente sí. Pero los mantendré en esta lección. Podrías experimentar eliminándolos y examinar si los resultados cambian."
      ]
    },
    {
      "cell_type": "code",
      "execution_count": 77,
      "metadata": {
        "id": "upYlpsP-sc5b"
      },
      "outputs": [],
      "source": [
        "#train_df = train_df.drop(columns = ['population', 'total_rooms', 'total_bedrooms'])\n",
        "#val_df = val_df.drop(columns = ['population', 'total_rooms', 'total_bedrooms'])\n",
        "#test_df =  test_df.drop(columns = ['population', 'total_rooms', 'total_bedrooms'])"
      ]
    },
    {
      "cell_type": "markdown",
      "metadata": {
        "id": "iHs83POgxkmS"
      },
      "source": [
        "## **Análisis exploratorio de datos (Exploratory Data Analysis - EDA)**\n",
        "\n",
        "el objetivo principal del Análisis Exploratorio de Datos es comprender mejor los datos y extraer información valiosa de ellos a través de técnicas visuales y estadísticas. El EDA es importante para explorar datos nuevos o desconocidos, detectar patrones, identificar problemas de calidad de datos y mejorar la calidad de los resultados del análisis. En resumen, el EDA busca obtener una comprensión completa de los datos a través de una exploración sistemática y rigurosa."
      ]
    },
    {
      "cell_type": "markdown",
      "metadata": {
        "id": "Kmkfp6zpyGKa"
      },
      "source": [
        "1. Revisar la escala de las caracteríticas\n",
        "\n"
      ]
    },
    {
      "cell_type": "code",
      "execution_count": 6,
      "metadata": {
        "colab": {
          "base_uri": "https://localhost:8080/",
          "height": 270
        },
        "id": "B5eDs-NuyTch",
        "outputId": "1c4d2952-ecda-4e30-bfa5-790ad70eeae2"
      },
      "outputs": [
        {
          "data": {
            "text/html": [
              "<div>\n",
              "<style scoped>\n",
              "    .dataframe tbody tr th:only-of-type {\n",
              "        vertical-align: middle;\n",
              "    }\n",
              "\n",
              "    .dataframe tbody tr th {\n",
              "        vertical-align: top;\n",
              "    }\n",
              "\n",
              "    .dataframe thead th {\n",
              "        text-align: right;\n",
              "    }\n",
              "</style>\n",
              "<table border=\"1\" class=\"dataframe\">\n",
              "  <thead>\n",
              "    <tr style=\"text-align: right;\">\n",
              "      <th></th>\n",
              "      <th>longitude</th>\n",
              "      <th>latitude</th>\n",
              "      <th>housing_median_age</th>\n",
              "      <th>total_rooms</th>\n",
              "      <th>total_bedrooms</th>\n",
              "      <th>population</th>\n",
              "      <th>households</th>\n",
              "      <th>median_income</th>\n",
              "      <th>median_house_value</th>\n",
              "      <th>ocean_proximity</th>\n",
              "      <th>rooms_per_household</th>\n",
              "      <th>bedrooms_per_household</th>\n",
              "      <th>population_per_household</th>\n",
              "    </tr>\n",
              "  </thead>\n",
              "  <tbody>\n",
              "    <tr>\n",
              "      <th>17854</th>\n",
              "      <td>-121.89</td>\n",
              "      <td>37.46</td>\n",
              "      <td>5.0</td>\n",
              "      <td>1519.0</td>\n",
              "      <td>186.0</td>\n",
              "      <td>705.0</td>\n",
              "      <td>186.0</td>\n",
              "      <td>10.3798</td>\n",
              "      <td>500001.0</td>\n",
              "      <td>&lt;1H OCEAN</td>\n",
              "      <td>8.166667</td>\n",
              "      <td>1.000000</td>\n",
              "      <td>3.790323</td>\n",
              "    </tr>\n",
              "    <tr>\n",
              "      <th>10905</th>\n",
              "      <td>-117.86</td>\n",
              "      <td>33.76</td>\n",
              "      <td>15.0</td>\n",
              "      <td>851.0</td>\n",
              "      <td>297.0</td>\n",
              "      <td>1326.0</td>\n",
              "      <td>254.0</td>\n",
              "      <td>2.8289</td>\n",
              "      <td>117500.0</td>\n",
              "      <td>&lt;1H OCEAN</td>\n",
              "      <td>3.350394</td>\n",
              "      <td>1.169291</td>\n",
              "      <td>5.220472</td>\n",
              "    </tr>\n",
              "    <tr>\n",
              "      <th>12881</th>\n",
              "      <td>-121.34</td>\n",
              "      <td>38.68</td>\n",
              "      <td>28.0</td>\n",
              "      <td>3379.0</td>\n",
              "      <td>552.0</td>\n",
              "      <td>1543.0</td>\n",
              "      <td>556.0</td>\n",
              "      <td>4.2743</td>\n",
              "      <td>124000.0</td>\n",
              "      <td>INLAND</td>\n",
              "      <td>6.077338</td>\n",
              "      <td>0.992806</td>\n",
              "      <td>2.775180</td>\n",
              "    </tr>\n",
              "    <tr>\n",
              "      <th>12280</th>\n",
              "      <td>-116.99</td>\n",
              "      <td>33.92</td>\n",
              "      <td>26.0</td>\n",
              "      <td>503.0</td>\n",
              "      <td>69.0</td>\n",
              "      <td>293.0</td>\n",
              "      <td>59.0</td>\n",
              "      <td>3.7083</td>\n",
              "      <td>147500.0</td>\n",
              "      <td>INLAND</td>\n",
              "      <td>8.525424</td>\n",
              "      <td>1.169492</td>\n",
              "      <td>4.966102</td>\n",
              "    </tr>\n",
              "    <tr>\n",
              "      <th>13104</th>\n",
              "      <td>-121.32</td>\n",
              "      <td>38.41</td>\n",
              "      <td>17.0</td>\n",
              "      <td>4401.0</td>\n",
              "      <td>655.0</td>\n",
              "      <td>1970.0</td>\n",
              "      <td>639.0</td>\n",
              "      <td>5.8239</td>\n",
              "      <td>247500.0</td>\n",
              "      <td>INLAND</td>\n",
              "      <td>6.887324</td>\n",
              "      <td>1.025039</td>\n",
              "      <td>3.082942</td>\n",
              "    </tr>\n",
              "  </tbody>\n",
              "</table>\n",
              "</div>"
            ],
            "text/plain": [
              "       longitude  latitude  housing_median_age  total_rooms  total_bedrooms  \\\n",
              "17854    -121.89     37.46                 5.0       1519.0           186.0   \n",
              "10905    -117.86     33.76                15.0        851.0           297.0   \n",
              "12881    -121.34     38.68                28.0       3379.0           552.0   \n",
              "12280    -116.99     33.92                26.0        503.0            69.0   \n",
              "13104    -121.32     38.41                17.0       4401.0           655.0   \n",
              "\n",
              "       population  households  median_income  median_house_value  \\\n",
              "17854       705.0       186.0        10.3798            500001.0   \n",
              "10905      1326.0       254.0         2.8289            117500.0   \n",
              "12881      1543.0       556.0         4.2743            124000.0   \n",
              "12280       293.0        59.0         3.7083            147500.0   \n",
              "13104      1970.0       639.0         5.8239            247500.0   \n",
              "\n",
              "      ocean_proximity  rooms_per_household  bedrooms_per_household  \\\n",
              "17854       <1H OCEAN             8.166667                1.000000   \n",
              "10905       <1H OCEAN             3.350394                1.169291   \n",
              "12881          INLAND             6.077338                0.992806   \n",
              "12280          INLAND             8.525424                1.169492   \n",
              "13104          INLAND             6.887324                1.025039   \n",
              "\n",
              "       population_per_household  \n",
              "17854                  3.790323  \n",
              "10905                  5.220472  \n",
              "12881                  2.775180  \n",
              "12280                  4.966102  \n",
              "13104                  3.082942  "
            ]
          },
          "execution_count": 6,
          "metadata": {},
          "output_type": "execute_result"
        }
      ],
      "source": [
        "train_df.head()"
      ]
    },
    {
      "cell_type": "markdown",
      "metadata": {
        "id": "nGQGyWMoyZbR"
      },
      "source": [
        "2. Revisar qué tipo de variables tenemos"
      ]
    },
    {
      "cell_type": "code",
      "execution_count": 7,
      "metadata": {
        "colab": {
          "base_uri": "https://localhost:8080/"
        },
        "id": "z1z3-W7PyLA9",
        "outputId": "c2b3db56-4f11-4ac9-c12d-d2bd3a9112d9"
      },
      "outputs": [
        {
          "name": "stdout",
          "output_type": "stream",
          "text": [
            "<class 'pandas.core.frame.DataFrame'>\n",
            "Index: 13209 entries, 17854 to 18303\n",
            "Data columns (total 13 columns):\n",
            " #   Column                    Non-Null Count  Dtype  \n",
            "---  ------                    --------------  -----  \n",
            " 0   longitude                 13209 non-null  float64\n",
            " 1   latitude                  13209 non-null  float64\n",
            " 2   housing_median_age        13209 non-null  float64\n",
            " 3   total_rooms               13209 non-null  float64\n",
            " 4   total_bedrooms            13074 non-null  float64\n",
            " 5   population                13209 non-null  float64\n",
            " 6   households                13209 non-null  float64\n",
            " 7   median_income             13209 non-null  float64\n",
            " 8   median_house_value        13209 non-null  float64\n",
            " 9   ocean_proximity           13209 non-null  object \n",
            " 10  rooms_per_household       13209 non-null  float64\n",
            " 11  bedrooms_per_household    13074 non-null  float64\n",
            " 12  population_per_household  13209 non-null  float64\n",
            "dtypes: float64(12), object(1)\n",
            "memory usage: 1.4+ MB\n"
          ]
        }
      ],
      "source": [
        "train_df.info()"
      ]
    },
    {
      "cell_type": "markdown",
      "metadata": {
        "id": "tIf29saDyh8Y"
      },
      "source": [
        "Tenemos una variable categórica y todas las otras son variables numéricas. Además podemos ver que la variable `total_bedrooms` tiene algunos valores nulos. Esto afectó el cálculo de nuestra variable `bedrooms_per_household`"
      ]
    },
    {
      "cell_type": "code",
      "execution_count": 8,
      "metadata": {
        "colab": {
          "base_uri": "https://localhost:8080/"
        },
        "id": "8zS09z9nynD3",
        "outputId": "ffc9c2b8-ae86-464c-f2f2-58116c08a3bc"
      },
      "outputs": [
        {
          "data": {
            "text/plain": [
              "np.int64(207)"
            ]
          },
          "execution_count": 8,
          "metadata": {},
          "output_type": "execute_result"
        }
      ],
      "source": [
        "housing_df[\"total_bedrooms\"].isnull().sum()"
      ]
    },
    {
      "cell_type": "markdown",
      "metadata": {
        "id": "zB8-E93ZyrUN"
      },
      "source": [
        "¿Qué podemos hacer con estos datos faltantes?"
      ]
    },
    {
      "cell_type": "markdown",
      "metadata": {
        "id": "G0_gZMt4x9Sn"
      },
      "source": [
        "3. Estadísticas de cada una de las variables"
      ]
    },
    {
      "cell_type": "code",
      "execution_count": 9,
      "metadata": {
        "colab": {
          "base_uri": "https://localhost:8080/",
          "height": 364
        },
        "id": "5atpcelGx7An",
        "outputId": "497535c1-d62a-4aa0-d411-365417f2c182"
      },
      "outputs": [
        {
          "data": {
            "text/html": [
              "<div>\n",
              "<style scoped>\n",
              "    .dataframe tbody tr th:only-of-type {\n",
              "        vertical-align: middle;\n",
              "    }\n",
              "\n",
              "    .dataframe tbody tr th {\n",
              "        vertical-align: top;\n",
              "    }\n",
              "\n",
              "    .dataframe thead th {\n",
              "        text-align: right;\n",
              "    }\n",
              "</style>\n",
              "<table border=\"1\" class=\"dataframe\">\n",
              "  <thead>\n",
              "    <tr style=\"text-align: right;\">\n",
              "      <th></th>\n",
              "      <th>longitude</th>\n",
              "      <th>latitude</th>\n",
              "      <th>housing_median_age</th>\n",
              "      <th>total_rooms</th>\n",
              "      <th>total_bedrooms</th>\n",
              "      <th>population</th>\n",
              "      <th>households</th>\n",
              "      <th>median_income</th>\n",
              "      <th>median_house_value</th>\n",
              "      <th>rooms_per_household</th>\n",
              "      <th>bedrooms_per_household</th>\n",
              "      <th>population_per_household</th>\n",
              "    </tr>\n",
              "  </thead>\n",
              "  <tbody>\n",
              "    <tr>\n",
              "      <th>count</th>\n",
              "      <td>13209.000000</td>\n",
              "      <td>13209.000000</td>\n",
              "      <td>13209.000000</td>\n",
              "      <td>13209.000000</td>\n",
              "      <td>13074.000000</td>\n",
              "      <td>13209.000000</td>\n",
              "      <td>13209.000000</td>\n",
              "      <td>13209.000000</td>\n",
              "      <td>13209.000000</td>\n",
              "      <td>13209.000000</td>\n",
              "      <td>13074.000000</td>\n",
              "      <td>13209.000000</td>\n",
              "    </tr>\n",
              "    <tr>\n",
              "      <th>mean</th>\n",
              "      <td>-119.569365</td>\n",
              "      <td>35.628628</td>\n",
              "      <td>28.595352</td>\n",
              "      <td>2654.158528</td>\n",
              "      <td>542.056601</td>\n",
              "      <td>1436.301537</td>\n",
              "      <td>503.736998</td>\n",
              "      <td>3.875573</td>\n",
              "      <td>207337.779469</td>\n",
              "      <td>5.417153</td>\n",
              "      <td>1.094952</td>\n",
              "      <td>3.050996</td>\n",
              "    </tr>\n",
              "    <tr>\n",
              "      <th>std</th>\n",
              "      <td>2.001771</td>\n",
              "      <td>2.136972</td>\n",
              "      <td>12.568914</td>\n",
              "      <td>2166.088754</td>\n",
              "      <td>422.296636</td>\n",
              "      <td>1101.209993</td>\n",
              "      <td>383.013042</td>\n",
              "      <td>1.915422</td>\n",
              "      <td>116003.604608</td>\n",
              "      <td>2.349999</td>\n",
              "      <td>0.425765</td>\n",
              "      <td>11.013213</td>\n",
              "    </tr>\n",
              "    <tr>\n",
              "      <th>min</th>\n",
              "      <td>-124.350000</td>\n",
              "      <td>32.540000</td>\n",
              "      <td>1.000000</td>\n",
              "      <td>2.000000</td>\n",
              "      <td>1.000000</td>\n",
              "      <td>5.000000</td>\n",
              "      <td>1.000000</td>\n",
              "      <td>0.499900</td>\n",
              "      <td>14999.000000</td>\n",
              "      <td>0.888889</td>\n",
              "      <td>0.333333</td>\n",
              "      <td>0.970588</td>\n",
              "    </tr>\n",
              "    <tr>\n",
              "      <th>25%</th>\n",
              "      <td>-121.800000</td>\n",
              "      <td>33.930000</td>\n",
              "      <td>18.000000</td>\n",
              "      <td>1459.000000</td>\n",
              "      <td>298.000000</td>\n",
              "      <td>791.000000</td>\n",
              "      <td>281.000000</td>\n",
              "      <td>2.562500</td>\n",
              "      <td>119300.000000</td>\n",
              "      <td>4.431907</td>\n",
              "      <td>1.006369</td>\n",
              "      <td>2.428380</td>\n",
              "    </tr>\n",
              "    <tr>\n",
              "      <th>50%</th>\n",
              "      <td>-118.490000</td>\n",
              "      <td>34.250000</td>\n",
              "      <td>29.000000</td>\n",
              "      <td>2143.000000</td>\n",
              "      <td>438.000000</td>\n",
              "      <td>1174.000000</td>\n",
              "      <td>413.000000</td>\n",
              "      <td>3.531300</td>\n",
              "      <td>180400.000000</td>\n",
              "      <td>5.221884</td>\n",
              "      <td>1.049180</td>\n",
              "      <td>2.816514</td>\n",
              "    </tr>\n",
              "    <tr>\n",
              "      <th>75%</th>\n",
              "      <td>-118.010000</td>\n",
              "      <td>37.710000</td>\n",
              "      <td>37.000000</td>\n",
              "      <td>3166.000000</td>\n",
              "      <td>651.000000</td>\n",
              "      <td>1742.000000</td>\n",
              "      <td>608.000000</td>\n",
              "      <td>4.750000</td>\n",
              "      <td>265600.000000</td>\n",
              "      <td>6.051808</td>\n",
              "      <td>1.099188</td>\n",
              "      <td>3.280000</td>\n",
              "    </tr>\n",
              "    <tr>\n",
              "      <th>max</th>\n",
              "      <td>-114.310000</td>\n",
              "      <td>41.950000</td>\n",
              "      <td>52.000000</td>\n",
              "      <td>30450.000000</td>\n",
              "      <td>5419.000000</td>\n",
              "      <td>15037.000000</td>\n",
              "      <td>4930.000000</td>\n",
              "      <td>15.000100</td>\n",
              "      <td>500001.000000</td>\n",
              "      <td>141.909091</td>\n",
              "      <td>25.636364</td>\n",
              "      <td>1243.333333</td>\n",
              "    </tr>\n",
              "  </tbody>\n",
              "</table>\n",
              "</div>"
            ],
            "text/plain": [
              "          longitude      latitude  housing_median_age   total_rooms  \\\n",
              "count  13209.000000  13209.000000        13209.000000  13209.000000   \n",
              "mean    -119.569365     35.628628           28.595352   2654.158528   \n",
              "std        2.001771      2.136972           12.568914   2166.088754   \n",
              "min     -124.350000     32.540000            1.000000      2.000000   \n",
              "25%     -121.800000     33.930000           18.000000   1459.000000   \n",
              "50%     -118.490000     34.250000           29.000000   2143.000000   \n",
              "75%     -118.010000     37.710000           37.000000   3166.000000   \n",
              "max     -114.310000     41.950000           52.000000  30450.000000   \n",
              "\n",
              "       total_bedrooms    population    households  median_income  \\\n",
              "count    13074.000000  13209.000000  13209.000000   13209.000000   \n",
              "mean       542.056601   1436.301537    503.736998       3.875573   \n",
              "std        422.296636   1101.209993    383.013042       1.915422   \n",
              "min          1.000000      5.000000      1.000000       0.499900   \n",
              "25%        298.000000    791.000000    281.000000       2.562500   \n",
              "50%        438.000000   1174.000000    413.000000       3.531300   \n",
              "75%        651.000000   1742.000000    608.000000       4.750000   \n",
              "max       5419.000000  15037.000000   4930.000000      15.000100   \n",
              "\n",
              "       median_house_value  rooms_per_household  bedrooms_per_household  \\\n",
              "count        13209.000000         13209.000000            13074.000000   \n",
              "mean        207337.779469             5.417153                1.094952   \n",
              "std         116003.604608             2.349999                0.425765   \n",
              "min          14999.000000             0.888889                0.333333   \n",
              "25%         119300.000000             4.431907                1.006369   \n",
              "50%         180400.000000             5.221884                1.049180   \n",
              "75%         265600.000000             6.051808                1.099188   \n",
              "max         500001.000000           141.909091               25.636364   \n",
              "\n",
              "       population_per_household  \n",
              "count              13209.000000  \n",
              "mean                   3.050996  \n",
              "std                   11.013213  \n",
              "min                    0.970588  \n",
              "25%                    2.428380  \n",
              "50%                    2.816514  \n",
              "75%                    3.280000  \n",
              "max                 1243.333333  "
            ]
          },
          "execution_count": 9,
          "metadata": {},
          "output_type": "execute_result"
        }
      ],
      "source": [
        "train_df.describe()"
      ]
    },
    {
      "cell_type": "markdown",
      "metadata": {
        "id": "OY0EZZnhy3O7"
      },
      "source": [
        "4. Graficar la distribución de cada una de las variables"
      ]
    },
    {
      "cell_type": "code",
      "execution_count": 10,
      "metadata": {
        "colab": {
          "base_uri": "https://localhost:8080/",
          "height": 966
        },
        "id": "V7UyPyEwy01-",
        "outputId": "a239cf6e-1c74-43b5-9ce6-1bc1a0580f3d"
      },
      "outputs": [
        {
          "data": {
            "image/png": "[encoded data removed]",
            "text/plain": [
              "<Figure size 2000x1500 with 12 Axes>"
            ]
          },
          "metadata": {},
          "output_type": "display_data"
        }
      ],
      "source": [
        "train_df.hist(bins=50, figsize=(20, 15));"
      ]
    },
    {
      "cell_type": "code",
      "execution_count": 11,
      "metadata": {},
      "outputs": [
        {
          "data": {
            "image/png": "[encoded data removed]",
            "text/plain": [
              "<Figure size 640x480 with 2 Axes>"
            ]
          },
          "metadata": {},
          "output_type": "display_data"
        }
      ],
      "source": [
        "import seaborn as sns\n",
        "import matplotlib.pyplot as plt\n",
        "ff = train_df.drop(columns = ['ocean_proximity'])\n",
        "corr_matrix = ff.corr()\n",
        "sns.heatmap(corr_matrix[['median_house_value']], annot=True, cmap='coolwarm')\n",
        "plt.title(\"Correlación de Variables con el Precio de la Vivienda\")\n",
        "plt.show()"
      ]
    },
    {
      "cell_type": "code",
      "execution_count": 13,
      "metadata": {
        "colab": {
          "base_uri": "https://localhost:8080/",
          "height": 624
        },
        "id": "rgOAHOm6zQID",
        "outputId": "3a0ca2ab-8aa9-4f64-82a4-d189e83dd5a6"
      },
      "outputs": [
        {
          "data": {
            "image/png": "[encoded data removed]",
            "text/plain": [
              "<Figure size 1000x700 with 2 Axes>"
            ]
          },
          "metadata": {},
          "output_type": "display_data"
        }
      ],
      "source": [
        "train_df.plot(\n",
        "    kind=\"scatter\",\n",
        "    x=\"longitude\",\n",
        "    y=\"latitude\",\n",
        "    alpha=0.4,\n",
        "    s=train_df[\"population_per_household\"],\n",
        "    figsize=(10, 7),\n",
        "    c=\"median_house_value\",\n",
        "    cmap=plt.get_cmap(\"jet\"),\n",
        "    colorbar=True,\n",
        "    sharex=False,\n",
        ");"
      ]
    },
    {
      "cell_type": "markdown",
      "metadata": {
        "id": "8Em6VUv1zZVc"
      },
      "source": [
        "## **¿Qué transformaciones debemos aplicar a los datos?**\n",
        "\n",
        "Esto es lo que podemos ver del EDA:\n",
        "\n",
        "- Algunos valores faltantes en la columna `total_bedrooms`\n",
        "- Las escalas de las columnas son bastante diferentes\n",
        "- Tenemos una variable categórica `ocean_proximity`\n",
        "\n",
        "Primero vamos a trabajar con las variables numéricas que no tienen valores nulos. Después incluiremos de nuevo la variable categórica.\n"
      ]
    },
    {
      "cell_type": "code",
      "execution_count": 14,
      "metadata": {
        "id": "ozVZMu5Ez9bn"
      },
      "outputs": [],
      "source": [
        "X_train = train_df.drop(columns=[\"median_house_value\", \"ocean_proximity\", \"total_bedrooms\", \"bedrooms_per_household\"])\n",
        "y_train = train_df[\"median_house_value\"]\n",
        "\n",
        "X_val = val_df.drop(columns=[\"median_house_value\", \"ocean_proximity\", \"total_bedrooms\", \"bedrooms_per_household\"])\n",
        "y_val = val_df[\"median_house_value\"]\n",
        "\n",
        "X_test = test_df.drop(columns=[\"median_house_value\", \"ocean_proximity\", \"total_bedrooms\", \"bedrooms_per_household\"])\n",
        "y_test = test_df[\"median_house_value\"]"
      ]
    },
    {
      "cell_type": "markdown",
      "metadata": {
        "id": "ZPzS4BDw0NGX"
      },
      "source": [
        "Vamos a entrenar nuestra regresión con kNN con los datos sin preprocesamiento"
      ]
    },
    {
      "cell_type": "code",
      "execution_count": 15,
      "metadata": {
        "id": "BsKdziBq0Yjl"
      },
      "outputs": [],
      "source": [
        "# Crear un clasificador KNN con diferentes números de vecinos\n",
        "n_neighbors = [9,11,13,15,16,17,18,19,20]\n",
        "det_coef = []\n",
        "\n",
        "for k in n_neighbors:\n",
        "  clf = Pipeline(steps=[(\"regressor\", KNeighborsRegressor(n_neighbors=k))])\n",
        "\n",
        "  # Entrenar el clasificador con los datos de entrenamiento\n",
        "  clf.fit(X_train, y_train)\n",
        "\n",
        "  # Evaluar el rendimiento del clasificador en los datos de validación\n",
        "  det_coef.append(clf.score(X_val, y_val))"
      ]
    },
    {
      "cell_type": "code",
      "execution_count": 16,
      "metadata": {
        "colab": {
          "base_uri": "https://localhost:8080/",
          "height": 525
        },
        "id": "TDeyalQ82IEt",
        "outputId": "3f3efb99-d592-49fd-9183-a3aca9657c9d"
      },
      "outputs": [
        {
          "data": {
            "text/plain": [
              "[Text(0.5, 0, 'Number of neighbors'),\n",
              " Text(0, 0.5, 'Determination Coefficient (%)'),\n",
              " Text(0.5, 1.0, 'k-NN Regression')]"
            ]
          },
          "execution_count": 16,
          "metadata": {},
          "output_type": "execute_result"
        },
        {
          "data": {
            "image/png": "[encoded data removed]",
            "text/plain": [
              "<Figure size 640x480 with 1 Axes>"
            ]
          },
          "metadata": {},
          "output_type": "display_data"
        }
      ],
      "source": [
        "gfg = sns.barplot(x = n_neighbors,y = det_coef)\n",
        "gfg.set(xlabel =\"Number of neighbors\", ylabel = \"Determination Coefficient (%)\", title ='k-NN Regression')"
      ]
    },
    {
      "cell_type": "code",
      "execution_count": 17,
      "metadata": {
        "colab": {
          "base_uri": "https://localhost:8080/"
        },
        "id": "-2zaiDG-2WLb",
        "outputId": "a6a3957e-e08d-4622-b7f6-07f30e9b9729"
      },
      "outputs": [
        {
          "name": "stdout",
          "output_type": "stream",
          "text": [
            "El número óptimo de vecinos es 18\n",
            "El coeficiente de determinación en el conjunto de test es 0.25\n"
          ]
        },
        {
          "name": "stderr",
          "output_type": "stream",
          "text": [
            "/home/jlondono/Documents/EAFIT/Introduction-to-AI/.venv/lib/python3.10/site-packages/sklearn/utils/validation.py:2732: UserWarning: X has feature names, but KNeighborsRegressor was fitted without feature names\n",
            "  warnings.warn(\n"
          ]
        }
      ],
      "source": [
        "#Re-entrenar el modelo con los datos de entrenamiento y validación para el valor de k óptimo\n",
        "k_opt = n_neighbors[np.argmax(det_coef)]\n",
        "print(f\"El número óptimo de vecinos es {k_opt}\")\n",
        "X_train_test = np.vstack([X_train,X_val])\n",
        "y_train_test = np.hstack([y_train,y_val])\n",
        "\n",
        "# Entrenar el regresor con los datos de entrenamiento\n",
        "clf = Pipeline(steps=[(\"regressor\", KNeighborsRegressor(n_neighbors=k_opt))])\n",
        "clf.fit(X_train_test, y_train_test)\n",
        "#Validar el rendimiento del clasificador con los datos de prueba\n",
        "det_coef = clf.score(X_test, y_test)\n",
        "\n",
        "print(f\"El coeficiente de determinación en el conjunto de test es {det_coef:0.2f}\")"
      ]
    },
    {
      "cell_type": "markdown",
      "metadata": {
        "id": "XgFY9bEe27yx"
      },
      "source": [
        "## **Imputación de datos**\n",
        "\n",
        "La imputación de datos se utiliza para abordar valores faltantes en un conjunto de datos. Reemplaza los valores faltantes con valores estimados para permitir un análisis más completo y reducir el impacto de los valores faltantes en los resultados del análisis. La elección de la técnica de imputación depende del tipo de datos y la cantidad de valores faltantes, y en algunos casos puede ser necesario eliminar filas o columnas con valores faltantes."
      ]
    },
    {
      "cell_type": "markdown",
      "metadata": {
        "id": "WtmAwSun3Usb"
      },
      "source": [
        "¿Qué pasa si intentamos hacer la regresión sin tener en cuenta los valores nulos o faltantes?\n"
      ]
    },
    {
      "cell_type": "code",
      "execution_count": 18,
      "metadata": {
        "id": "7nXhDBVs3eie"
      },
      "outputs": [],
      "source": [
        "X_train = train_df.drop(columns=[\"median_house_value\", \"ocean_proximity\"])\n",
        "y_train = train_df[\"median_house_value\"]\n",
        "\n",
        "X_val = val_df.drop(columns=[\"median_house_value\", \"ocean_proximity\"])\n",
        "y_val = val_df[\"median_house_value\"]\n",
        "\n",
        "X_test = test_df.drop(columns=[\"median_house_value\", \"ocean_proximity\"])\n",
        "y_test = test_df[\"median_house_value\"]"
      ]
    },
    {
      "cell_type": "code",
      "execution_count": 19,
      "metadata": {
        "colab": {
          "base_uri": "https://localhost:8080/",
          "height": 476
        },
        "id": "eMXYIznw3m1A",
        "outputId": "7692e432-d258-406c-ec15-b9ce706587a4"
      },
      "outputs": [
        {
          "ename": "ValueError",
          "evalue": "Input X contains NaN.\nKNeighborsRegressor does not accept missing values encoded as NaN natively. For supervised learning, you might want to consider sklearn.ensemble.HistGradientBoostingClassifier and Regressor which accept missing values encoded as NaNs natively. Alternatively, it is possible to preprocess the data, for instance by using an imputer transformer in a pipeline or drop samples with missing values. See https://scikit-learn.org/stable/modules/impute.html You can find a list of all estimators that handle NaN values at the following page: https://scikit-learn.org/stable/modules/impute.html#estimators-that-handle-nan-values",
          "output_type": "error",
          "traceback": [
            "\u001b[0;31m---------------------------------------------------------------------------\u001b[0m",
            "\u001b[0;31mValueError\u001b[0m                                Traceback (most recent call last)",
            "Cell \u001b[0;32mIn[19], line 9\u001b[0m\n\u001b[1;32m      6\u001b[0m clf \u001b[38;5;241m=\u001b[39m Pipeline(steps\u001b[38;5;241m=\u001b[39m[(\u001b[38;5;124m\"\u001b[39m\u001b[38;5;124mregressor\u001b[39m\u001b[38;5;124m\"\u001b[39m, KNeighborsRegressor(n_neighbors\u001b[38;5;241m=\u001b[39mk))])\n\u001b[1;32m      8\u001b[0m \u001b[38;5;66;03m# Entrenar el clasificador con los datos de entrenamiento\u001b[39;00m\n\u001b[0;32m----> 9\u001b[0m \u001b[43mclf\u001b[49m\u001b[38;5;241;43m.\u001b[39;49m\u001b[43mfit\u001b[49m\u001b[43m(\u001b[49m\u001b[43mX_train\u001b[49m\u001b[43m,\u001b[49m\u001b[43m \u001b[49m\u001b[43my_train\u001b[49m\u001b[43m)\u001b[49m\n\u001b[1;32m     11\u001b[0m \u001b[38;5;66;03m# Evaluar el rendimiento del clasificador en los datos de validación\u001b[39;00m\n\u001b[1;32m     12\u001b[0m det_coef\u001b[38;5;241m.\u001b[39mappend(clf\u001b[38;5;241m.\u001b[39mscore(X_val, y_val))\n",
            "File \u001b[0;32m~/Documents/EAFIT/Introduction-to-AI/.venv/lib/python3.10/site-packages/sklearn/base.py:1389\u001b[0m, in \u001b[0;36m_fit_context.<locals>.decorator.<locals>.wrapper\u001b[0;34m(estimator, *args, **kwargs)\u001b[0m\n\u001b[1;32m   1382\u001b[0m     estimator\u001b[38;5;241m.\u001b[39m_validate_params()\n\u001b[1;32m   1384\u001b[0m \u001b[38;5;28;01mwith\u001b[39;00m config_context(\n\u001b[1;32m   1385\u001b[0m     skip_parameter_validation\u001b[38;5;241m=\u001b[39m(\n\u001b[1;32m   1386\u001b[0m         prefer_skip_nested_validation \u001b[38;5;129;01mor\u001b[39;00m global_skip_validation\n\u001b[1;32m   1387\u001b[0m     )\n\u001b[1;32m   1388\u001b[0m ):\n\u001b[0;32m-> 1389\u001b[0m     \u001b[38;5;28;01mreturn\u001b[39;00m \u001b[43mfit_method\u001b[49m\u001b[43m(\u001b[49m\u001b[43mestimator\u001b[49m\u001b[43m,\u001b[49m\u001b[43m \u001b[49m\u001b[38;5;241;43m*\u001b[39;49m\u001b[43margs\u001b[49m\u001b[43m,\u001b[49m\u001b[43m \u001b[49m\u001b[38;5;241;43m*\u001b[39;49m\u001b[38;5;241;43m*\u001b[39;49m\u001b[43mkwargs\u001b[49m\u001b[43m)\u001b[49m\n",
            "File \u001b[0;32m~/Documents/EAFIT/Introduction-to-AI/.venv/lib/python3.10/site-packages/sklearn/pipeline.py:662\u001b[0m, in \u001b[0;36mPipeline.fit\u001b[0;34m(self, X, y, **params)\u001b[0m\n\u001b[1;32m    656\u001b[0m     \u001b[38;5;28;01mif\u001b[39;00m \u001b[38;5;28mself\u001b[39m\u001b[38;5;241m.\u001b[39m_final_estimator \u001b[38;5;241m!=\u001b[39m \u001b[38;5;124m\"\u001b[39m\u001b[38;5;124mpassthrough\u001b[39m\u001b[38;5;124m\"\u001b[39m:\n\u001b[1;32m    657\u001b[0m         last_step_params \u001b[38;5;241m=\u001b[39m \u001b[38;5;28mself\u001b[39m\u001b[38;5;241m.\u001b[39m_get_metadata_for_step(\n\u001b[1;32m    658\u001b[0m             step_idx\u001b[38;5;241m=\u001b[39m\u001b[38;5;28mlen\u001b[39m(\u001b[38;5;28mself\u001b[39m) \u001b[38;5;241m-\u001b[39m \u001b[38;5;241m1\u001b[39m,\n\u001b[1;32m    659\u001b[0m             step_params\u001b[38;5;241m=\u001b[39mrouted_params[\u001b[38;5;28mself\u001b[39m\u001b[38;5;241m.\u001b[39msteps[\u001b[38;5;241m-\u001b[39m\u001b[38;5;241m1\u001b[39m][\u001b[38;5;241m0\u001b[39m]],\n\u001b[1;32m    660\u001b[0m             all_params\u001b[38;5;241m=\u001b[39mparams,\n\u001b[1;32m    661\u001b[0m         )\n\u001b[0;32m--> 662\u001b[0m         \u001b[38;5;28;43mself\u001b[39;49m\u001b[38;5;241;43m.\u001b[39;49m\u001b[43m_final_estimator\u001b[49m\u001b[38;5;241;43m.\u001b[39;49m\u001b[43mfit\u001b[49m\u001b[43m(\u001b[49m\u001b[43mXt\u001b[49m\u001b[43m,\u001b[49m\u001b[43m \u001b[49m\u001b[43my\u001b[49m\u001b[43m,\u001b[49m\u001b[43m \u001b[49m\u001b[38;5;241;43m*\u001b[39;49m\u001b[38;5;241;43m*\u001b[39;49m\u001b[43mlast_step_params\u001b[49m\u001b[43m[\u001b[49m\u001b[38;5;124;43m\"\u001b[39;49m\u001b[38;5;124;43mfit\u001b[39;49m\u001b[38;5;124;43m\"\u001b[39;49m\u001b[43m]\u001b[49m\u001b[43m)\u001b[49m\n\u001b[1;32m    664\u001b[0m \u001b[38;5;28;01mreturn\u001b[39;00m \u001b[38;5;28mself\u001b[39m\n",
            "File \u001b[0;32m~/Documents/EAFIT/Introduction-to-AI/.venv/lib/python3.10/site-packages/sklearn/base.py:1389\u001b[0m, in \u001b[0;36m_fit_context.<locals>.decorator.<locals>.wrapper\u001b[0;34m(estimator, *args, **kwargs)\u001b[0m\n\u001b[1;32m   1382\u001b[0m     estimator\u001b[38;5;241m.\u001b[39m_validate_params()\n\u001b[1;32m   1384\u001b[0m \u001b[38;5;28;01mwith\u001b[39;00m config_context(\n\u001b[1;32m   1385\u001b[0m     skip_parameter_validation\u001b[38;5;241m=\u001b[39m(\n\u001b[1;32m   1386\u001b[0m         prefer_skip_nested_validation \u001b[38;5;129;01mor\u001b[39;00m global_skip_validation\n\u001b[1;32m   1387\u001b[0m     )\n\u001b[1;32m   1388\u001b[0m ):\n\u001b[0;32m-> 1389\u001b[0m     \u001b[38;5;28;01mreturn\u001b[39;00m \u001b[43mfit_method\u001b[49m\u001b[43m(\u001b[49m\u001b[43mestimator\u001b[49m\u001b[43m,\u001b[49m\u001b[43m \u001b[49m\u001b[38;5;241;43m*\u001b[39;49m\u001b[43margs\u001b[49m\u001b[43m,\u001b[49m\u001b[43m \u001b[49m\u001b[38;5;241;43m*\u001b[39;49m\u001b[38;5;241;43m*\u001b[39;49m\u001b[43mkwargs\u001b[49m\u001b[43m)\u001b[49m\n",
            "File \u001b[0;32m~/Documents/EAFIT/Introduction-to-AI/.venv/lib/python3.10/site-packages/sklearn/neighbors/_regression.py:222\u001b[0m, in \u001b[0;36mKNeighborsRegressor.fit\u001b[0;34m(self, X, y)\u001b[0m\n\u001b[1;32m    200\u001b[0m \u001b[38;5;129m@_fit_context\u001b[39m(\n\u001b[1;32m    201\u001b[0m     \u001b[38;5;66;03m# KNeighborsRegressor.metric is not validated yet\u001b[39;00m\n\u001b[1;32m    202\u001b[0m     prefer_skip_nested_validation\u001b[38;5;241m=\u001b[39m\u001b[38;5;28;01mFalse\u001b[39;00m\n\u001b[1;32m    203\u001b[0m )\n\u001b[1;32m    204\u001b[0m \u001b[38;5;28;01mdef\u001b[39;00m\u001b[38;5;250m \u001b[39m\u001b[38;5;21mfit\u001b[39m(\u001b[38;5;28mself\u001b[39m, X, y):\n\u001b[1;32m    205\u001b[0m \u001b[38;5;250m    \u001b[39m\u001b[38;5;124;03m\"\"\"Fit the k-nearest neighbors regressor from the training dataset.\u001b[39;00m\n\u001b[1;32m    206\u001b[0m \n\u001b[1;32m    207\u001b[0m \u001b[38;5;124;03m    Parameters\u001b[39;00m\n\u001b[0;32m   (...)\u001b[0m\n\u001b[1;32m    220\u001b[0m \u001b[38;5;124;03m        The fitted k-nearest neighbors regressor.\u001b[39;00m\n\u001b[1;32m    221\u001b[0m \u001b[38;5;124;03m    \"\"\"\u001b[39;00m\n\u001b[0;32m--> 222\u001b[0m     \u001b[38;5;28;01mreturn\u001b[39;00m \u001b[38;5;28;43mself\u001b[39;49m\u001b[38;5;241;43m.\u001b[39;49m\u001b[43m_fit\u001b[49m\u001b[43m(\u001b[49m\u001b[43mX\u001b[49m\u001b[43m,\u001b[49m\u001b[43m \u001b[49m\u001b[43my\u001b[49m\u001b[43m)\u001b[49m\n",
            "File \u001b[0;32m~/Documents/EAFIT/Introduction-to-AI/.venv/lib/python3.10/site-packages/sklearn/neighbors/_base.py:478\u001b[0m, in \u001b[0;36mNeighborsBase._fit\u001b[0;34m(self, X, y)\u001b[0m\n\u001b[1;32m    476\u001b[0m \u001b[38;5;28;01mif\u001b[39;00m \u001b[38;5;28mself\u001b[39m\u001b[38;5;241m.\u001b[39m__sklearn_tags__()\u001b[38;5;241m.\u001b[39mtarget_tags\u001b[38;5;241m.\u001b[39mrequired:\n\u001b[1;32m    477\u001b[0m     \u001b[38;5;28;01mif\u001b[39;00m \u001b[38;5;129;01mnot\u001b[39;00m \u001b[38;5;28misinstance\u001b[39m(X, (KDTree, BallTree, NeighborsBase)):\n\u001b[0;32m--> 478\u001b[0m         X, y \u001b[38;5;241m=\u001b[39m \u001b[43mvalidate_data\u001b[49m\u001b[43m(\u001b[49m\n\u001b[1;32m    479\u001b[0m \u001b[43m            \u001b[49m\u001b[38;5;28;43mself\u001b[39;49m\u001b[43m,\u001b[49m\n\u001b[1;32m    480\u001b[0m \u001b[43m            \u001b[49m\u001b[43mX\u001b[49m\u001b[43m,\u001b[49m\n\u001b[1;32m    481\u001b[0m \u001b[43m            \u001b[49m\u001b[43my\u001b[49m\u001b[43m,\u001b[49m\n\u001b[1;32m    482\u001b[0m \u001b[43m            \u001b[49m\u001b[43maccept_sparse\u001b[49m\u001b[38;5;241;43m=\u001b[39;49m\u001b[38;5;124;43m\"\u001b[39;49m\u001b[38;5;124;43mcsr\u001b[39;49m\u001b[38;5;124;43m\"\u001b[39;49m\u001b[43m,\u001b[49m\n\u001b[1;32m    483\u001b[0m \u001b[43m            \u001b[49m\u001b[43mmulti_output\u001b[49m\u001b[38;5;241;43m=\u001b[39;49m\u001b[38;5;28;43;01mTrue\u001b[39;49;00m\u001b[43m,\u001b[49m\n\u001b[1;32m    484\u001b[0m \u001b[43m            \u001b[49m\u001b[43morder\u001b[49m\u001b[38;5;241;43m=\u001b[39;49m\u001b[38;5;124;43m\"\u001b[39;49m\u001b[38;5;124;43mC\u001b[39;49m\u001b[38;5;124;43m\"\u001b[39;49m\u001b[43m,\u001b[49m\n\u001b[1;32m    485\u001b[0m \u001b[43m            \u001b[49m\u001b[43mensure_all_finite\u001b[49m\u001b[38;5;241;43m=\u001b[39;49m\u001b[43mensure_all_finite\u001b[49m\u001b[43m,\u001b[49m\n\u001b[1;32m    486\u001b[0m \u001b[43m        \u001b[49m\u001b[43m)\u001b[49m\n\u001b[1;32m    488\u001b[0m     \u001b[38;5;28;01mif\u001b[39;00m is_classifier(\u001b[38;5;28mself\u001b[39m):\n\u001b[1;32m    489\u001b[0m         \u001b[38;5;66;03m# Classification targets require a specific format\u001b[39;00m\n\u001b[1;32m    490\u001b[0m         \u001b[38;5;28;01mif\u001b[39;00m y\u001b[38;5;241m.\u001b[39mndim \u001b[38;5;241m==\u001b[39m \u001b[38;5;241m1\u001b[39m \u001b[38;5;129;01mor\u001b[39;00m y\u001b[38;5;241m.\u001b[39mndim \u001b[38;5;241m==\u001b[39m \u001b[38;5;241m2\u001b[39m \u001b[38;5;129;01mand\u001b[39;00m y\u001b[38;5;241m.\u001b[39mshape[\u001b[38;5;241m1\u001b[39m] \u001b[38;5;241m==\u001b[39m \u001b[38;5;241m1\u001b[39m:\n",
            "File \u001b[0;32m~/Documents/EAFIT/Introduction-to-AI/.venv/lib/python3.10/site-packages/sklearn/utils/validation.py:2961\u001b[0m, in \u001b[0;36mvalidate_data\u001b[0;34m(_estimator, X, y, reset, validate_separately, skip_check_array, **check_params)\u001b[0m\n\u001b[1;32m   2959\u001b[0m         y \u001b[38;5;241m=\u001b[39m check_array(y, input_name\u001b[38;5;241m=\u001b[39m\u001b[38;5;124m\"\u001b[39m\u001b[38;5;124my\u001b[39m\u001b[38;5;124m\"\u001b[39m, \u001b[38;5;241m*\u001b[39m\u001b[38;5;241m*\u001b[39mcheck_y_params)\n\u001b[1;32m   2960\u001b[0m     \u001b[38;5;28;01melse\u001b[39;00m:\n\u001b[0;32m-> 2961\u001b[0m         X, y \u001b[38;5;241m=\u001b[39m \u001b[43mcheck_X_y\u001b[49m\u001b[43m(\u001b[49m\u001b[43mX\u001b[49m\u001b[43m,\u001b[49m\u001b[43m \u001b[49m\u001b[43my\u001b[49m\u001b[43m,\u001b[49m\u001b[43m \u001b[49m\u001b[38;5;241;43m*\u001b[39;49m\u001b[38;5;241;43m*\u001b[39;49m\u001b[43mcheck_params\u001b[49m\u001b[43m)\u001b[49m\n\u001b[1;32m   2962\u001b[0m     out \u001b[38;5;241m=\u001b[39m X, y\n\u001b[1;32m   2964\u001b[0m \u001b[38;5;28;01mif\u001b[39;00m \u001b[38;5;129;01mnot\u001b[39;00m no_val_X \u001b[38;5;129;01mand\u001b[39;00m check_params\u001b[38;5;241m.\u001b[39mget(\u001b[38;5;124m\"\u001b[39m\u001b[38;5;124mensure_2d\u001b[39m\u001b[38;5;124m\"\u001b[39m, \u001b[38;5;28;01mTrue\u001b[39;00m):\n",
            "File \u001b[0;32m~/Documents/EAFIT/Introduction-to-AI/.venv/lib/python3.10/site-packages/sklearn/utils/validation.py:1370\u001b[0m, in \u001b[0;36mcheck_X_y\u001b[0;34m(X, y, accept_sparse, accept_large_sparse, dtype, order, copy, force_writeable, force_all_finite, ensure_all_finite, ensure_2d, allow_nd, multi_output, ensure_min_samples, ensure_min_features, y_numeric, estimator)\u001b[0m\n\u001b[1;32m   1364\u001b[0m     \u001b[38;5;28;01mraise\u001b[39;00m \u001b[38;5;167;01mValueError\u001b[39;00m(\n\u001b[1;32m   1365\u001b[0m         \u001b[38;5;124mf\u001b[39m\u001b[38;5;124m\"\u001b[39m\u001b[38;5;132;01m{\u001b[39;00mestimator_name\u001b[38;5;132;01m}\u001b[39;00m\u001b[38;5;124m requires y to be passed, but the target y is None\u001b[39m\u001b[38;5;124m\"\u001b[39m\n\u001b[1;32m   1366\u001b[0m     )\n\u001b[1;32m   1368\u001b[0m ensure_all_finite \u001b[38;5;241m=\u001b[39m _deprecate_force_all_finite(force_all_finite, ensure_all_finite)\n\u001b[0;32m-> 1370\u001b[0m X \u001b[38;5;241m=\u001b[39m \u001b[43mcheck_array\u001b[49m\u001b[43m(\u001b[49m\n\u001b[1;32m   1371\u001b[0m \u001b[43m    \u001b[49m\u001b[43mX\u001b[49m\u001b[43m,\u001b[49m\n\u001b[1;32m   1372\u001b[0m \u001b[43m    \u001b[49m\u001b[43maccept_sparse\u001b[49m\u001b[38;5;241;43m=\u001b[39;49m\u001b[43maccept_sparse\u001b[49m\u001b[43m,\u001b[49m\n\u001b[1;32m   1373\u001b[0m \u001b[43m    \u001b[49m\u001b[43maccept_large_sparse\u001b[49m\u001b[38;5;241;43m=\u001b[39;49m\u001b[43maccept_large_sparse\u001b[49m\u001b[43m,\u001b[49m\n\u001b[1;32m   1374\u001b[0m \u001b[43m    \u001b[49m\u001b[43mdtype\u001b[49m\u001b[38;5;241;43m=\u001b[39;49m\u001b[43mdtype\u001b[49m\u001b[43m,\u001b[49m\n\u001b[1;32m   1375\u001b[0m \u001b[43m    \u001b[49m\u001b[43morder\u001b[49m\u001b[38;5;241;43m=\u001b[39;49m\u001b[43morder\u001b[49m\u001b[43m,\u001b[49m\n\u001b[1;32m   1376\u001b[0m \u001b[43m    \u001b[49m\u001b[43mcopy\u001b[49m\u001b[38;5;241;43m=\u001b[39;49m\u001b[43mcopy\u001b[49m\u001b[43m,\u001b[49m\n\u001b[1;32m   1377\u001b[0m \u001b[43m    \u001b[49m\u001b[43mforce_writeable\u001b[49m\u001b[38;5;241;43m=\u001b[39;49m\u001b[43mforce_writeable\u001b[49m\u001b[43m,\u001b[49m\n\u001b[1;32m   1378\u001b[0m \u001b[43m    \u001b[49m\u001b[43mensure_all_finite\u001b[49m\u001b[38;5;241;43m=\u001b[39;49m\u001b[43mensure_all_finite\u001b[49m\u001b[43m,\u001b[49m\n\u001b[1;32m   1379\u001b[0m \u001b[43m    \u001b[49m\u001b[43mensure_2d\u001b[49m\u001b[38;5;241;43m=\u001b[39;49m\u001b[43mensure_2d\u001b[49m\u001b[43m,\u001b[49m\n\u001b[1;32m   1380\u001b[0m \u001b[43m    \u001b[49m\u001b[43mallow_nd\u001b[49m\u001b[38;5;241;43m=\u001b[39;49m\u001b[43mallow_nd\u001b[49m\u001b[43m,\u001b[49m\n\u001b[1;32m   1381\u001b[0m \u001b[43m    \u001b[49m\u001b[43mensure_min_samples\u001b[49m\u001b[38;5;241;43m=\u001b[39;49m\u001b[43mensure_min_samples\u001b[49m\u001b[43m,\u001b[49m\n\u001b[1;32m   1382\u001b[0m \u001b[43m    \u001b[49m\u001b[43mensure_min_features\u001b[49m\u001b[38;5;241;43m=\u001b[39;49m\u001b[43mensure_min_features\u001b[49m\u001b[43m,\u001b[49m\n\u001b[1;32m   1383\u001b[0m \u001b[43m    \u001b[49m\u001b[43mestimator\u001b[49m\u001b[38;5;241;43m=\u001b[39;49m\u001b[43mestimator\u001b[49m\u001b[43m,\u001b[49m\n\u001b[1;32m   1384\u001b[0m \u001b[43m    \u001b[49m\u001b[43minput_name\u001b[49m\u001b[38;5;241;43m=\u001b[39;49m\u001b[38;5;124;43m\"\u001b[39;49m\u001b[38;5;124;43mX\u001b[39;49m\u001b[38;5;124;43m\"\u001b[39;49m\u001b[43m,\u001b[49m\n\u001b[1;32m   1385\u001b[0m \u001b[43m\u001b[49m\u001b[43m)\u001b[49m\n\u001b[1;32m   1387\u001b[0m y \u001b[38;5;241m=\u001b[39m _check_y(y, multi_output\u001b[38;5;241m=\u001b[39mmulti_output, y_numeric\u001b[38;5;241m=\u001b[39my_numeric, estimator\u001b[38;5;241m=\u001b[39mestimator)\n\u001b[1;32m   1389\u001b[0m check_consistent_length(X, y)\n",
            "File \u001b[0;32m~/Documents/EAFIT/Introduction-to-AI/.venv/lib/python3.10/site-packages/sklearn/utils/validation.py:1107\u001b[0m, in \u001b[0;36mcheck_array\u001b[0;34m(array, accept_sparse, accept_large_sparse, dtype, order, copy, force_writeable, force_all_finite, ensure_all_finite, ensure_non_negative, ensure_2d, allow_nd, ensure_min_samples, ensure_min_features, estimator, input_name)\u001b[0m\n\u001b[1;32m   1101\u001b[0m     \u001b[38;5;28;01mraise\u001b[39;00m \u001b[38;5;167;01mValueError\u001b[39;00m(\n\u001b[1;32m   1102\u001b[0m         \u001b[38;5;124m\"\u001b[39m\u001b[38;5;124mFound array with dim \u001b[39m\u001b[38;5;132;01m%d\u001b[39;00m\u001b[38;5;124m. \u001b[39m\u001b[38;5;132;01m%s\u001b[39;00m\u001b[38;5;124m expected <= 2.\u001b[39m\u001b[38;5;124m\"\u001b[39m\n\u001b[1;32m   1103\u001b[0m         \u001b[38;5;241m%\u001b[39m (array\u001b[38;5;241m.\u001b[39mndim, estimator_name)\n\u001b[1;32m   1104\u001b[0m     )\n\u001b[1;32m   1106\u001b[0m \u001b[38;5;28;01mif\u001b[39;00m ensure_all_finite:\n\u001b[0;32m-> 1107\u001b[0m     \u001b[43m_assert_all_finite\u001b[49m\u001b[43m(\u001b[49m\n\u001b[1;32m   1108\u001b[0m \u001b[43m        \u001b[49m\u001b[43marray\u001b[49m\u001b[43m,\u001b[49m\n\u001b[1;32m   1109\u001b[0m \u001b[43m        \u001b[49m\u001b[43minput_name\u001b[49m\u001b[38;5;241;43m=\u001b[39;49m\u001b[43minput_name\u001b[49m\u001b[43m,\u001b[49m\n\u001b[1;32m   1110\u001b[0m \u001b[43m        \u001b[49m\u001b[43mestimator_name\u001b[49m\u001b[38;5;241;43m=\u001b[39;49m\u001b[43mestimator_name\u001b[49m\u001b[43m,\u001b[49m\n\u001b[1;32m   1111\u001b[0m \u001b[43m        \u001b[49m\u001b[43mallow_nan\u001b[49m\u001b[38;5;241;43m=\u001b[39;49m\u001b[43mensure_all_finite\u001b[49m\u001b[43m \u001b[49m\u001b[38;5;241;43m==\u001b[39;49m\u001b[43m \u001b[49m\u001b[38;5;124;43m\"\u001b[39;49m\u001b[38;5;124;43mallow-nan\u001b[39;49m\u001b[38;5;124;43m\"\u001b[39;49m\u001b[43m,\u001b[49m\n\u001b[1;32m   1112\u001b[0m \u001b[43m    \u001b[49m\u001b[43m)\u001b[49m\n\u001b[1;32m   1114\u001b[0m \u001b[38;5;28;01mif\u001b[39;00m copy:\n\u001b[1;32m   1115\u001b[0m     \u001b[38;5;28;01mif\u001b[39;00m _is_numpy_namespace(xp):\n\u001b[1;32m   1116\u001b[0m         \u001b[38;5;66;03m# only make a copy if `array` and `array_orig` may share memory`\u001b[39;00m\n",
            "File \u001b[0;32m~/Documents/EAFIT/Introduction-to-AI/.venv/lib/python3.10/site-packages/sklearn/utils/validation.py:120\u001b[0m, in \u001b[0;36m_assert_all_finite\u001b[0;34m(X, allow_nan, msg_dtype, estimator_name, input_name)\u001b[0m\n\u001b[1;32m    117\u001b[0m \u001b[38;5;28;01mif\u001b[39;00m first_pass_isfinite:\n\u001b[1;32m    118\u001b[0m     \u001b[38;5;28;01mreturn\u001b[39;00m\n\u001b[0;32m--> 120\u001b[0m \u001b[43m_assert_all_finite_element_wise\u001b[49m\u001b[43m(\u001b[49m\n\u001b[1;32m    121\u001b[0m \u001b[43m    \u001b[49m\u001b[43mX\u001b[49m\u001b[43m,\u001b[49m\n\u001b[1;32m    122\u001b[0m \u001b[43m    \u001b[49m\u001b[43mxp\u001b[49m\u001b[38;5;241;43m=\u001b[39;49m\u001b[43mxp\u001b[49m\u001b[43m,\u001b[49m\n\u001b[1;32m    123\u001b[0m \u001b[43m    \u001b[49m\u001b[43mallow_nan\u001b[49m\u001b[38;5;241;43m=\u001b[39;49m\u001b[43mallow_nan\u001b[49m\u001b[43m,\u001b[49m\n\u001b[1;32m    124\u001b[0m \u001b[43m    \u001b[49m\u001b[43mmsg_dtype\u001b[49m\u001b[38;5;241;43m=\u001b[39;49m\u001b[43mmsg_dtype\u001b[49m\u001b[43m,\u001b[49m\n\u001b[1;32m    125\u001b[0m \u001b[43m    \u001b[49m\u001b[43mestimator_name\u001b[49m\u001b[38;5;241;43m=\u001b[39;49m\u001b[43mestimator_name\u001b[49m\u001b[43m,\u001b[49m\n\u001b[1;32m    126\u001b[0m \u001b[43m    \u001b[49m\u001b[43minput_name\u001b[49m\u001b[38;5;241;43m=\u001b[39;49m\u001b[43minput_name\u001b[49m\u001b[43m,\u001b[49m\n\u001b[1;32m    127\u001b[0m \u001b[43m\u001b[49m\u001b[43m)\u001b[49m\n",
            "File \u001b[0;32m~/Documents/EAFIT/Introduction-to-AI/.venv/lib/python3.10/site-packages/sklearn/utils/validation.py:169\u001b[0m, in \u001b[0;36m_assert_all_finite_element_wise\u001b[0;34m(X, xp, allow_nan, msg_dtype, estimator_name, input_name)\u001b[0m\n\u001b[1;32m    152\u001b[0m \u001b[38;5;28;01mif\u001b[39;00m estimator_name \u001b[38;5;129;01mand\u001b[39;00m input_name \u001b[38;5;241m==\u001b[39m \u001b[38;5;124m\"\u001b[39m\u001b[38;5;124mX\u001b[39m\u001b[38;5;124m\"\u001b[39m \u001b[38;5;129;01mand\u001b[39;00m has_nan_error:\n\u001b[1;32m    153\u001b[0m     \u001b[38;5;66;03m# Improve the error message on how to handle missing values in\u001b[39;00m\n\u001b[1;32m    154\u001b[0m     \u001b[38;5;66;03m# scikit-learn.\u001b[39;00m\n\u001b[1;32m    155\u001b[0m     msg_err \u001b[38;5;241m+\u001b[39m\u001b[38;5;241m=\u001b[39m (\n\u001b[1;32m    156\u001b[0m         \u001b[38;5;124mf\u001b[39m\u001b[38;5;124m\"\u001b[39m\u001b[38;5;130;01m\\n\u001b[39;00m\u001b[38;5;132;01m{\u001b[39;00mestimator_name\u001b[38;5;132;01m}\u001b[39;00m\u001b[38;5;124m does not accept missing values\u001b[39m\u001b[38;5;124m\"\u001b[39m\n\u001b[1;32m    157\u001b[0m         \u001b[38;5;124m\"\u001b[39m\u001b[38;5;124m encoded as NaN natively. For supervised learning, you might want\u001b[39m\u001b[38;5;124m\"\u001b[39m\n\u001b[0;32m   (...)\u001b[0m\n\u001b[1;32m    167\u001b[0m         \u001b[38;5;124m\"\u001b[39m\u001b[38;5;124m#estimators-that-handle-nan-values\u001b[39m\u001b[38;5;124m\"\u001b[39m\n\u001b[1;32m    168\u001b[0m     )\n\u001b[0;32m--> 169\u001b[0m \u001b[38;5;28;01mraise\u001b[39;00m \u001b[38;5;167;01mValueError\u001b[39;00m(msg_err)\n",
            "\u001b[0;31mValueError\u001b[0m: Input X contains NaN.\nKNeighborsRegressor does not accept missing values encoded as NaN natively. For supervised learning, you might want to consider sklearn.ensemble.HistGradientBoostingClassifier and Regressor which accept missing values encoded as NaNs natively. Alternatively, it is possible to preprocess the data, for instance by using an imputer transformer in a pipeline or drop samples with missing values. See https://scikit-learn.org/stable/modules/impute.html You can find a list of all estimators that handle NaN values at the following page: https://scikit-learn.org/stable/modules/impute.html#estimators-that-handle-nan-values"
          ]
        }
      ],
      "source": [
        "# Crear un clasificador KNN con diferentes números de vecinos\n",
        "n_neighbors = [9,11,13,15,16,17,18,19,20]\n",
        "det_coef = []\n",
        "\n",
        "for k in n_neighbors:\n",
        "  clf = Pipeline(steps=[(\"regressor\", KNeighborsRegressor(n_neighbors=k))])\n",
        "\n",
        "  # Entrenar el clasificador con los datos de entrenamiento\n",
        "  clf.fit(X_train, y_train)\n",
        "\n",
        "  # Evaluar el rendimiento del clasificador en los datos de validación\n",
        "  det_coef.append(clf.score(X_val, y_val))"
      ]
    },
    {
      "cell_type": "markdown",
      "metadata": {
        "id": "QHBam0ed3pBy"
      },
      "source": [
        "## ¿Cuál es el problema?\n",
        "\n",
        "`ValueError: Input X contains NaN.`\n",
        "\n",
        "- El regresor no puede manejar valores faltantes (NaN).\n",
        "- ¿Cuáles son las posibles formas de abordar el problema?\n",
        "  - ¿Eliminar las filas?\n",
        "  - ¿Reemplazarlas con algunos valores razonables?\n",
        "\n",
        "Para abordar los valores faltantes (NaN) en los datos y hacerlos compatibles con el clasificador, hay varias opciones. Una opción es eliminar las filas con valores faltantes si los datos faltantes no representan una cantidad significativa de los datos totales. Otra opción es reemplazar los valores faltantes con algún valor razonable, como la media o la mediana de la columna correspondiente, o un valor constante.\n",
        "\n",
        "La elección de la opción depende del conjunto de datos y de la cantidad de valores faltantes. En general, es importante considerar cuidadosamente las implicaciones de cada opción y determinar la mejor opción para el análisis en cuestión."
      ]
    },
    {
      "cell_type": "markdown",
      "metadata": {
        "id": "wC8Gwox04RLq"
      },
      "source": [
        "- `SimpleImputer` es un transformador en `sklearn` que ayuda a resolver este problema. Por ejemplo:\n",
        "\n",
        "  - Puede *imputar* valores faltantes en columnas categóricas con el valor más frecuente.\n",
        "  - Puede *imputar* valores faltantes en numéricas con la `media` o `mediana` de la columna."
      ]
    },
    {
      "cell_type": "code",
      "execution_count": 20,
      "metadata": {
        "colab": {
          "base_uri": "https://localhost:8080/",
          "height": 487
        },
        "id": "wCItISyZ42JY",
        "outputId": "30fc5ba5-a451-4ed4-b82f-591518cedc85"
      },
      "outputs": [
        {
          "data": {
            "text/html": [
              "<div>\n",
              "<style scoped>\n",
              "    .dataframe tbody tr th:only-of-type {\n",
              "        vertical-align: middle;\n",
              "    }\n",
              "\n",
              "    .dataframe tbody tr th {\n",
              "        vertical-align: top;\n",
              "    }\n",
              "\n",
              "    .dataframe thead th {\n",
              "        text-align: right;\n",
              "    }\n",
              "</style>\n",
              "<table border=\"1\" class=\"dataframe\">\n",
              "  <thead>\n",
              "    <tr style=\"text-align: right;\">\n",
              "      <th></th>\n",
              "      <th>longitude</th>\n",
              "      <th>latitude</th>\n",
              "      <th>housing_median_age</th>\n",
              "      <th>total_rooms</th>\n",
              "      <th>total_bedrooms</th>\n",
              "      <th>population</th>\n",
              "      <th>households</th>\n",
              "      <th>median_income</th>\n",
              "      <th>rooms_per_household</th>\n",
              "      <th>bedrooms_per_household</th>\n",
              "      <th>population_per_household</th>\n",
              "    </tr>\n",
              "  </thead>\n",
              "  <tbody>\n",
              "    <tr>\n",
              "      <th>20248</th>\n",
              "      <td>-119.23</td>\n",
              "      <td>34.25</td>\n",
              "      <td>28.0</td>\n",
              "      <td>26.0</td>\n",
              "      <td>3.0</td>\n",
              "      <td>29.0</td>\n",
              "      <td>9.0</td>\n",
              "      <td>8.0000</td>\n",
              "      <td>2.888889</td>\n",
              "      <td>0.333333</td>\n",
              "      <td>3.222222</td>\n",
              "    </tr>\n",
              "    <tr>\n",
              "      <th>12649</th>\n",
              "      <td>-121.47</td>\n",
              "      <td>38.51</td>\n",
              "      <td>52.0</td>\n",
              "      <td>20.0</td>\n",
              "      <td>4.0</td>\n",
              "      <td>74.0</td>\n",
              "      <td>9.0</td>\n",
              "      <td>3.6250</td>\n",
              "      <td>2.222222</td>\n",
              "      <td>0.444444</td>\n",
              "      <td>8.222222</td>\n",
              "    </tr>\n",
              "    <tr>\n",
              "      <th>8219</th>\n",
              "      <td>-118.21</td>\n",
              "      <td>33.79</td>\n",
              "      <td>33.0</td>\n",
              "      <td>32.0</td>\n",
              "      <td>18.0</td>\n",
              "      <td>96.0</td>\n",
              "      <td>36.0</td>\n",
              "      <td>4.5938</td>\n",
              "      <td>0.888889</td>\n",
              "      <td>0.500000</td>\n",
              "      <td>2.666667</td>\n",
              "    </tr>\n",
              "    <tr>\n",
              "      <th>12138</th>\n",
              "      <td>-117.22</td>\n",
              "      <td>33.87</td>\n",
              "      <td>16.0</td>\n",
              "      <td>56.0</td>\n",
              "      <td>7.0</td>\n",
              "      <td>39.0</td>\n",
              "      <td>14.0</td>\n",
              "      <td>2.6250</td>\n",
              "      <td>4.000000</td>\n",
              "      <td>0.500000</td>\n",
              "      <td>2.785714</td>\n",
              "    </tr>\n",
              "    <tr>\n",
              "      <th>1419</th>\n",
              "      <td>-122.05</td>\n",
              "      <td>37.97</td>\n",
              "      <td>16.0</td>\n",
              "      <td>60.0</td>\n",
              "      <td>10.0</td>\n",
              "      <td>65.0</td>\n",
              "      <td>19.0</td>\n",
              "      <td>6.1359</td>\n",
              "      <td>3.157895</td>\n",
              "      <td>0.526316</td>\n",
              "      <td>3.421053</td>\n",
              "    </tr>\n",
              "    <tr>\n",
              "      <th>...</th>\n",
              "      <td>...</td>\n",
              "      <td>...</td>\n",
              "      <td>...</td>\n",
              "      <td>...</td>\n",
              "      <td>...</td>\n",
              "      <td>...</td>\n",
              "      <td>...</td>\n",
              "      <td>...</td>\n",
              "      <td>...</td>\n",
              "      <td>...</td>\n",
              "      <td>...</td>\n",
              "    </tr>\n",
              "    <tr>\n",
              "      <th>13311</th>\n",
              "      <td>-117.61</td>\n",
              "      <td>34.08</td>\n",
              "      <td>12.0</td>\n",
              "      <td>4427.0</td>\n",
              "      <td>NaN</td>\n",
              "      <td>2400.0</td>\n",
              "      <td>843.0</td>\n",
              "      <td>4.7147</td>\n",
              "      <td>5.251483</td>\n",
              "      <td>NaN</td>\n",
              "      <td>2.846975</td>\n",
              "    </tr>\n",
              "    <tr>\n",
              "      <th>19060</th>\n",
              "      <td>-122.41</td>\n",
              "      <td>38.16</td>\n",
              "      <td>37.0</td>\n",
              "      <td>1549.0</td>\n",
              "      <td>NaN</td>\n",
              "      <td>863.0</td>\n",
              "      <td>275.0</td>\n",
              "      <td>2.7457</td>\n",
              "      <td>5.632727</td>\n",
              "      <td>NaN</td>\n",
              "      <td>3.138182</td>\n",
              "    </tr>\n",
              "    <tr>\n",
              "      <th>19833</th>\n",
              "      <td>-119.38</td>\n",
              "      <td>36.53</td>\n",
              "      <td>38.0</td>\n",
              "      <td>1281.0</td>\n",
              "      <td>NaN</td>\n",
              "      <td>1423.0</td>\n",
              "      <td>293.0</td>\n",
              "      <td>1.9602</td>\n",
              "      <td>4.372014</td>\n",
              "      <td>NaN</td>\n",
              "      <td>4.856655</td>\n",
              "    </tr>\n",
              "    <tr>\n",
              "      <th>4043</th>\n",
              "      <td>-118.50</td>\n",
              "      <td>34.17</td>\n",
              "      <td>37.0</td>\n",
              "      <td>880.0</td>\n",
              "      <td>NaN</td>\n",
              "      <td>369.0</td>\n",
              "      <td>155.0</td>\n",
              "      <td>4.1429</td>\n",
              "      <td>5.677419</td>\n",
              "      <td>NaN</td>\n",
              "      <td>2.380645</td>\n",
              "    </tr>\n",
              "    <tr>\n",
              "      <th>7547</th>\n",
              "      <td>-118.20</td>\n",
              "      <td>33.92</td>\n",
              "      <td>45.0</td>\n",
              "      <td>1283.0</td>\n",
              "      <td>NaN</td>\n",
              "      <td>1025.0</td>\n",
              "      <td>248.0</td>\n",
              "      <td>3.2798</td>\n",
              "      <td>5.173387</td>\n",
              "      <td>NaN</td>\n",
              "      <td>4.133065</td>\n",
              "    </tr>\n",
              "  </tbody>\n",
              "</table>\n",
              "<p>13209 rows × 11 columns</p>\n",
              "</div>"
            ],
            "text/plain": [
              "       longitude  latitude  housing_median_age  total_rooms  total_bedrooms  \\\n",
              "20248    -119.23     34.25                28.0         26.0             3.0   \n",
              "12649    -121.47     38.51                52.0         20.0             4.0   \n",
              "8219     -118.21     33.79                33.0         32.0            18.0   \n",
              "12138    -117.22     33.87                16.0         56.0             7.0   \n",
              "1419     -122.05     37.97                16.0         60.0            10.0   \n",
              "...          ...       ...                 ...          ...             ...   \n",
              "13311    -117.61     34.08                12.0       4427.0             NaN   \n",
              "19060    -122.41     38.16                37.0       1549.0             NaN   \n",
              "19833    -119.38     36.53                38.0       1281.0             NaN   \n",
              "4043     -118.50     34.17                37.0        880.0             NaN   \n",
              "7547     -118.20     33.92                45.0       1283.0             NaN   \n",
              "\n",
              "       population  households  median_income  rooms_per_household  \\\n",
              "20248        29.0         9.0         8.0000             2.888889   \n",
              "12649        74.0         9.0         3.6250             2.222222   \n",
              "8219         96.0        36.0         4.5938             0.888889   \n",
              "12138        39.0        14.0         2.6250             4.000000   \n",
              "1419         65.0        19.0         6.1359             3.157895   \n",
              "...           ...         ...            ...                  ...   \n",
              "13311      2400.0       843.0         4.7147             5.251483   \n",
              "19060       863.0       275.0         2.7457             5.632727   \n",
              "19833      1423.0       293.0         1.9602             4.372014   \n",
              "4043        369.0       155.0         4.1429             5.677419   \n",
              "7547       1025.0       248.0         3.2798             5.173387   \n",
              "\n",
              "       bedrooms_per_household  population_per_household  \n",
              "20248                0.333333                  3.222222  \n",
              "12649                0.444444                  8.222222  \n",
              "8219                 0.500000                  2.666667  \n",
              "12138                0.500000                  2.785714  \n",
              "1419                 0.526316                  3.421053  \n",
              "...                       ...                       ...  \n",
              "13311                     NaN                  2.846975  \n",
              "19060                     NaN                  3.138182  \n",
              "19833                     NaN                  4.856655  \n",
              "4043                      NaN                  2.380645  \n",
              "7547                      NaN                  4.133065  \n",
              "\n",
              "[13209 rows x 11 columns]"
            ]
          },
          "execution_count": 20,
          "metadata": {},
          "output_type": "execute_result"
        }
      ],
      "source": [
        "X_train.sort_values(\"bedrooms_per_household\")"
      ]
    },
    {
      "cell_type": "code",
      "execution_count": 21,
      "metadata": {
        "id": "wvaoEbGU5BgH"
      },
      "outputs": [],
      "source": [
        "imputer = SimpleImputer(strategy=\"median\")\n",
        "imputer.fit(X_train)\n",
        "X_train_imp = imputer.transform(X_train)\n",
        "X_val_imp = imputer.transform(X_val)\n",
        "X_test_imp = imputer.transform(X_test)"
      ]
    },
    {
      "cell_type": "markdown",
      "metadata": {
        "id": "k5LgYzhg5MiO"
      },
      "source": [
        "- Revisemos si los valores `NaN` se reemplazaron\n",
        "- Note que `imputer.transform` devuelve un arreglo de `numpy` y no un `dataframe`"
      ]
    },
    {
      "cell_type": "code",
      "execution_count": 22,
      "metadata": {
        "colab": {
          "base_uri": "https://localhost:8080/"
        },
        "id": "QWLBALO-5oIV",
        "outputId": "edbdc4d3-5518-4efb-83fc-fbe6e70e1db7"
      },
      "outputs": [
        {
          "name": "stdout",
          "output_type": "stream",
          "text": [
            "<class 'pandas.core.frame.DataFrame'>\n",
            "Index: 13209 entries, 17854 to 18303\n",
            "Data columns (total 11 columns):\n",
            " #   Column                    Non-Null Count  Dtype  \n",
            "---  ------                    --------------  -----  \n",
            " 0   longitude                 13209 non-null  float64\n",
            " 1   latitude                  13209 non-null  float64\n",
            " 2   housing_median_age        13209 non-null  float64\n",
            " 3   total_rooms               13209 non-null  float64\n",
            " 4   total_bedrooms            13209 non-null  float64\n",
            " 5   population                13209 non-null  float64\n",
            " 6   households                13209 non-null  float64\n",
            " 7   median_income             13209 non-null  float64\n",
            " 8   rooms_per_household       13209 non-null  float64\n",
            " 9   bedrooms_per_household    13209 non-null  float64\n",
            " 10  population_per_household  13209 non-null  float64\n",
            "dtypes: float64(11)\n",
            "memory usage: 1.2 MB\n"
          ]
        }
      ],
      "source": [
        "pd.DataFrame(X_train_imp, columns=X_train.columns, index=X_train.index).info()"
      ]
    },
    {
      "cell_type": "markdown",
      "metadata": {
        "id": "D5CT10CX6Tzc"
      },
      "source": [
        "Entrenemos el regresor incluyendo estas características"
      ]
    },
    {
      "cell_type": "code",
      "execution_count": 23,
      "metadata": {
        "id": "W2yKJKYA6TS8"
      },
      "outputs": [],
      "source": [
        "# Crear un clasificador KNN con diferentes números de vecinos\n",
        "n_neighbors = [9,11,13,15,16,17,18,19,20]\n",
        "det_coef = []\n",
        "\n",
        "for k in n_neighbors:\n",
        "  clf = Pipeline(steps=[(\"regressor\", KNeighborsRegressor(n_neighbors=k))])\n",
        "\n",
        "  # Entrenar el clasificador con los datos de entrenamiento\n",
        "  clf.fit(X_train_imp, y_train)\n",
        "\n",
        "  # Evaluar el rendimiento del clasificador en los datos de validación\n",
        "  det_coef.append(clf.score(X_val_imp, y_val))"
      ]
    },
    {
      "cell_type": "code",
      "execution_count": 24,
      "metadata": {
        "colab": {
          "base_uri": "https://localhost:8080/",
          "height": 525
        },
        "id": "jC_kfxEY6iFd",
        "outputId": "ba3ffe04-20cc-4d8d-ec5f-5c43c0ab5a0b"
      },
      "outputs": [
        {
          "data": {
            "image/png": "[encoded data removed]",
            "text/plain": [
              "<Figure size 640x480 with 1 Axes>"
            ]
          },
          "metadata": {},
          "output_type": "display_data"
        }
      ],
      "source": [
        "gfg = sns.barplot(x = n_neighbors,y = det_coef)\n",
        "gfg.set(xlabel =\"Number of neighbors\", ylabel = \"Determination Coefficient (%)\", title ='k-NN Regression')\n",
        "plt.show()"
      ]
    },
    {
      "cell_type": "code",
      "execution_count": 25,
      "metadata": {
        "colab": {
          "base_uri": "https://localhost:8080/"
        },
        "id": "zpWAZfR-6ovW",
        "outputId": "a66f0988-1ece-45a2-ef8d-45b92f38befc"
      },
      "outputs": [
        {
          "name": "stdout",
          "output_type": "stream",
          "text": [
            "El número óptimo de vecinos es 16\n",
            "El coeficiente de determinación en el conjunto de test es 0.30\n"
          ]
        }
      ],
      "source": [
        "#Re-entrenar el modelo con los datos de entrenamiento y validación para el valor de k óptimo\n",
        "k_opt = n_neighbors[np.argmax(det_coef)]\n",
        "print(f\"El número óptimo de vecinos es {k_opt}\")\n",
        "X_train_test_imp = np.vstack([X_train_imp,X_val_imp])\n",
        "y_train_test = np.hstack([y_train,y_val])\n",
        "\n",
        "# Entrenar el regresor con los datos de entrenamiento\n",
        "clf = Pipeline(steps=[(\"regressor\", KNeighborsRegressor(n_neighbors=k_opt))])\n",
        "clf.fit(X_train_test_imp, y_train_test)\n",
        "#Validar el rendimiento del clasificador con los datos de prueba\n",
        "det_coef = clf.score(X_test_imp, y_test)\n",
        "\n",
        "print(f\"El coeficiente de determinación en el conjunto de test es {det_coef:0.2f}\")"
      ]
    },
    {
      "cell_type": "markdown",
      "metadata": {
        "id": "SuJ9eS8h7Ekl"
      },
      "source": [
        "¿Qué porcentaje de datos faltantes se puede imputar?\n",
        "\n",
        "Chat-gpt: No hay una respuesta única a esta pregunta, ya que depende del tipo de datos y de la cantidad de valores faltantes en el conjunto de datos. En general, se recomienda tener cuidado al imputar valores faltantes y no imputar más del 5-10% de los datos totales. Si hay una gran cantidad de valores faltantes, la imputación puede no ser adecuada y es posible que deba considerar eliminar filas o columnas con valores faltantes o usar técnicas de modelado que puedan manejar valores faltantes de manera efectiva.\n",
        "\n",
        "También es importante tener en cuenta que la imputación puede introducir sesgos en los datos y afectar los resultados del análisis. Por lo tanto, es importante evaluar cuidadosamente la calidad de los datos imputados y considerar si la imputación es necesaria y apropiada para el análisis en cuestión."
      ]
    },
    {
      "cell_type": "markdown",
      "metadata": {
        "id": "09RBRzNw7sLb"
      },
      "source": [
        "## **Escalamiento**\n",
        "\n",
        "- Este problema afecta a un número considerable de algoritmos de ML.\n",
        "- Hay diferentes formas de afrentar este problema, vamos a considerar las más utilizadas\n",
        "\n",
        "| Técnica | ¿Qué hace? | Cómo actualiza $X$ | Implementación en sklearn | \n",
        "|---------|------------|-----------------------|----------------|\n",
        "| Estandarización | Convierte la media de cada columna a $0$, y la s.d. to $1$   | `X -= np.mean(X,axis=0)`<br>`X /=  np.std(X,axis=0)` | [`StandardScaler()`](https://scikit-learn.org/stable/modules/generated/sklearn.preprocessing.StandardScaler.html#sklearn.preprocessing.StandardScaler) |\n",
        "| MinMax | Deja el valor mínimo en 0 y el valor máximo en 1 | `X -= np.min(X,axis=0)`<br>`X /=  np.max(X,axis=0)` | [`MinMaxScaler()`](https://scikit-learn.org/stable/modules/generated/sklearn.preprocessing.MinMaxScaler.html) |"
      ]
    },
    {
      "cell_type": "markdown",
      "metadata": {
        "id": "b9eiiFAG88kv"
      },
      "source": [
        "Hay muchos artículos donde se discute este tema a fondo; puede consultar [en este link](http://www.dataminingblog.com/standardization-vs-normalization/) y [en este link](https://medium.com/@rrfd/standardize-or-normalize-examples-in-python-e3f174b65dfc).\n",
        "\n",
        "![Scaling](images/scaling.png)"
      ]
    },
    {
      "cell_type": "code",
      "execution_count": 26,
      "metadata": {
        "id": "cPT02m5T-hbc"
      },
      "outputs": [],
      "source": [
        "from sklearn.preprocessing import MinMaxScaler, StandardScaler"
      ]
    },
    {
      "cell_type": "code",
      "execution_count": 27,
      "metadata": {
        "id": "6OupGM5R-thA"
      },
      "outputs": [],
      "source": [
        "X_train = train_df.drop(columns=[\"median_house_value\", \"ocean_proximity\"])\n",
        "y_train = train_df[\"median_house_value\"]\n",
        "\n",
        "X_val = val_df.drop(columns=[\"median_house_value\", \"ocean_proximity\"])\n",
        "y_val = val_df[\"median_house_value\"]\n",
        "\n",
        "X_test = test_df.drop(columns=[\"median_house_value\", \"ocean_proximity\"])\n",
        "y_test = test_df[\"median_house_value\"]"
      ]
    },
    {
      "cell_type": "code",
      "execution_count": 30,
      "metadata": {
        "id": "JJDo3lHo-x4d"
      },
      "outputs": [],
      "source": [
        "imputer = SimpleImputer(strategy=\"median\")\n",
        "imputer.fit(X_train)\n",
        "X_train_imp = imputer.transform(X_train)\n",
        "X_val_imp = imputer.transform(X_val)\n",
        "X_test_imp = imputer.transform(X_test)"
      ]
    },
    {
      "cell_type": "code",
      "execution_count": 31,
      "metadata": {
        "colab": {
          "base_uri": "https://localhost:8080/",
          "height": 487
        },
        "id": "D9zwG47Y-ky3",
        "outputId": "d3ae7d7c-6a32-4b31-d1f2-2e73a4081e5c"
      },
      "outputs": [
        {
          "data": {
            "text/html": [
              "<div>\n",
              "<style scoped>\n",
              "    .dataframe tbody tr th:only-of-type {\n",
              "        vertical-align: middle;\n",
              "    }\n",
              "\n",
              "    .dataframe tbody tr th {\n",
              "        vertical-align: top;\n",
              "    }\n",
              "\n",
              "    .dataframe thead th {\n",
              "        text-align: right;\n",
              "    }\n",
              "</style>\n",
              "<table border=\"1\" class=\"dataframe\">\n",
              "  <thead>\n",
              "    <tr style=\"text-align: right;\">\n",
              "      <th></th>\n",
              "      <th>longitude</th>\n",
              "      <th>latitude</th>\n",
              "      <th>housing_median_age</th>\n",
              "      <th>total_rooms</th>\n",
              "      <th>total_bedrooms</th>\n",
              "      <th>population</th>\n",
              "      <th>households</th>\n",
              "      <th>median_income</th>\n",
              "      <th>rooms_per_household</th>\n",
              "      <th>bedrooms_per_household</th>\n",
              "      <th>population_per_household</th>\n",
              "    </tr>\n",
              "  </thead>\n",
              "  <tbody>\n",
              "    <tr>\n",
              "      <th>0</th>\n",
              "      <td>-1.159335</td>\n",
              "      <td>0.857026</td>\n",
              "      <td>-1.877350</td>\n",
              "      <td>-0.524079</td>\n",
              "      <td>-0.844724</td>\n",
              "      <td>-0.664114</td>\n",
              "      <td>-0.829604</td>\n",
              "      <td>3.395843</td>\n",
              "      <td>1.170051</td>\n",
              "      <td>-0.223054</td>\n",
              "      <td>0.067133</td>\n",
              "    </tr>\n",
              "    <tr>\n",
              "      <th>1</th>\n",
              "      <td>0.853958</td>\n",
              "      <td>-0.874461</td>\n",
              "      <td>-1.081706</td>\n",
              "      <td>-0.832481</td>\n",
              "      <td>-0.580594</td>\n",
              "      <td>-0.100168</td>\n",
              "      <td>-0.652057</td>\n",
              "      <td>-0.546466</td>\n",
              "      <td>-0.879506</td>\n",
              "      <td>0.176602</td>\n",
              "      <td>0.196996</td>\n",
              "    </tr>\n",
              "    <tr>\n",
              "      <th>2</th>\n",
              "      <td>-0.884568</td>\n",
              "      <td>1.427949</td>\n",
              "      <td>-0.047369</td>\n",
              "      <td>0.334644</td>\n",
              "      <td>0.026191</td>\n",
              "      <td>0.096896</td>\n",
              "      <td>0.136457</td>\n",
              "      <td>0.208175</td>\n",
              "      <td>0.280941</td>\n",
              "      <td>-0.240038</td>\n",
              "      <td>-0.025045</td>\n",
              "    </tr>\n",
              "    <tr>\n",
              "      <th>3</th>\n",
              "      <td>1.288590</td>\n",
              "      <td>-0.799586</td>\n",
              "      <td>-0.206498</td>\n",
              "      <td>-0.993145</td>\n",
              "      <td>-1.123132</td>\n",
              "      <td>-1.038262</td>\n",
              "      <td>-1.161198</td>\n",
              "      <td>-0.087333</td>\n",
              "      <td>1.322719</td>\n",
              "      <td>0.177075</td>\n",
              "      <td>0.173898</td>\n",
              "    </tr>\n",
              "    <tr>\n",
              "      <th>4</th>\n",
              "      <td>-0.874576</td>\n",
              "      <td>1.301598</td>\n",
              "      <td>-0.922577</td>\n",
              "      <td>0.806480</td>\n",
              "      <td>0.271285</td>\n",
              "      <td>0.484666</td>\n",
              "      <td>0.353168</td>\n",
              "      <td>1.017217</td>\n",
              "      <td>0.625629</td>\n",
              "      <td>-0.163943</td>\n",
              "      <td>0.002901</td>\n",
              "    </tr>\n",
              "    <tr>\n",
              "      <th>...</th>\n",
              "      <td>...</td>\n",
              "      <td>...</td>\n",
              "      <td>...</td>\n",
              "      <td>...</td>\n",
              "      <td>...</td>\n",
              "      <td>...</td>\n",
              "      <td>...</td>\n",
              "      <td>...</td>\n",
              "      <td>...</td>\n",
              "      <td>...</td>\n",
              "      <td>...</td>\n",
              "    </tr>\n",
              "    <tr>\n",
              "      <th>13204</th>\n",
              "      <td>0.569200</td>\n",
              "      <td>-0.743430</td>\n",
              "      <td>1.862176</td>\n",
              "      <td>-0.402657</td>\n",
              "      <td>-0.554419</td>\n",
              "      <td>-0.636870</td>\n",
              "      <td>-0.513676</td>\n",
              "      <td>0.741289</td>\n",
              "      <td>0.164860</td>\n",
              "      <td>-0.215365</td>\n",
              "      <td>-0.059645</td>\n",
              "    </tr>\n",
              "    <tr>\n",
              "      <th>13205</th>\n",
              "      <td>-1.334187</td>\n",
              "      <td>1.016136</td>\n",
              "      <td>1.464354</td>\n",
              "      <td>-0.280774</td>\n",
              "      <td>0.111855</td>\n",
              "      <td>-0.202786</td>\n",
              "      <td>0.131235</td>\n",
              "      <td>-0.650729</td>\n",
              "      <td>-0.733651</td>\n",
              "      <td>-0.078170</td>\n",
              "      <td>-0.078224</td>\n",
              "    </tr>\n",
              "    <tr>\n",
              "      <th>13206</th>\n",
              "      <td>1.228641</td>\n",
              "      <td>-1.347111</td>\n",
              "      <td>-0.683884</td>\n",
              "      <td>-0.455750</td>\n",
              "      <td>-0.171311</td>\n",
              "      <td>-0.131044</td>\n",
              "      <td>-0.153361</td>\n",
              "      <td>-0.932609</td>\n",
              "      <td>-0.711128</td>\n",
              "      <td>-0.095732</td>\n",
              "      <td>-0.013405</td>\n",
              "    </tr>\n",
              "    <tr>\n",
              "      <th>13207</th>\n",
              "      <td>0.604170</td>\n",
              "      <td>-0.832344</td>\n",
              "      <td>0.589146</td>\n",
              "      <td>-0.583636</td>\n",
              "      <td>-0.740024</td>\n",
              "      <td>-0.684093</td>\n",
              "      <td>-0.743441</td>\n",
              "      <td>0.529944</td>\n",
              "      <td>0.395708</td>\n",
              "      <td>-0.104477</td>\n",
              "      <td>0.006150</td>\n",
              "    </tr>\n",
              "    <tr>\n",
              "      <th>13208</th>\n",
              "      <td>-1.279233</td>\n",
              "      <td>0.838308</td>\n",
              "      <td>0.589146</td>\n",
              "      <td>0.613037</td>\n",
              "      <td>1.199310</td>\n",
              "      <td>0.739849</td>\n",
              "      <td>1.282676</td>\n",
              "      <td>-0.177081</td>\n",
              "      <td>-0.602212</td>\n",
              "      <td>-0.104423</td>\n",
              "      <td>-0.071615</td>\n",
              "    </tr>\n",
              "  </tbody>\n",
              "</table>\n",
              "<p>13209 rows × 11 columns</p>\n",
              "</div>"
            ],
            "text/plain": [
              "       longitude  latitude  housing_median_age  total_rooms  total_bedrooms  \\\n",
              "0      -1.159335  0.857026           -1.877350    -0.524079       -0.844724   \n",
              "1       0.853958 -0.874461           -1.081706    -0.832481       -0.580594   \n",
              "2      -0.884568  1.427949           -0.047369     0.334644        0.026191   \n",
              "3       1.288590 -0.799586           -0.206498    -0.993145       -1.123132   \n",
              "4      -0.874576  1.301598           -0.922577     0.806480        0.271285   \n",
              "...          ...       ...                 ...          ...             ...   \n",
              "13204   0.569200 -0.743430            1.862176    -0.402657       -0.554419   \n",
              "13205  -1.334187  1.016136            1.464354    -0.280774        0.111855   \n",
              "13206   1.228641 -1.347111           -0.683884    -0.455750       -0.171311   \n",
              "13207   0.604170 -0.832344            0.589146    -0.583636       -0.740024   \n",
              "13208  -1.279233  0.838308            0.589146     0.613037        1.199310   \n",
              "\n",
              "       population  households  median_income  rooms_per_household  \\\n",
              "0       -0.664114   -0.829604       3.395843             1.170051   \n",
              "1       -0.100168   -0.652057      -0.546466            -0.879506   \n",
              "2        0.096896    0.136457       0.208175             0.280941   \n",
              "3       -1.038262   -1.161198      -0.087333             1.322719   \n",
              "4        0.484666    0.353168       1.017217             0.625629   \n",
              "...           ...         ...            ...                  ...   \n",
              "13204   -0.636870   -0.513676       0.741289             0.164860   \n",
              "13205   -0.202786    0.131235      -0.650729            -0.733651   \n",
              "13206   -0.131044   -0.153361      -0.932609            -0.711128   \n",
              "13207   -0.684093   -0.743441       0.529944             0.395708   \n",
              "13208    0.739849    1.282676      -0.177081            -0.602212   \n",
              "\n",
              "       bedrooms_per_household  population_per_household  \n",
              "0                   -0.223054                  0.067133  \n",
              "1                    0.176602                  0.196996  \n",
              "2                   -0.240038                 -0.025045  \n",
              "3                    0.177075                  0.173898  \n",
              "4                   -0.163943                  0.002901  \n",
              "...                       ...                       ...  \n",
              "13204               -0.215365                 -0.059645  \n",
              "13205               -0.078170                 -0.078224  \n",
              "13206               -0.095732                 -0.013405  \n",
              "13207               -0.104477                  0.006150  \n",
              "13208               -0.104423                 -0.071615  \n",
              "\n",
              "[13209 rows x 11 columns]"
            ]
          },
          "execution_count": 31,
          "metadata": {},
          "output_type": "execute_result"
        }
      ],
      "source": [
        "scaler = StandardScaler()\n",
        "X_train_imp_scaled = scaler.fit_transform(X_train_imp)\n",
        "X_val_imp_scaled = scaler.transform(X_val_imp)\n",
        "X_test_imp_scaled = scaler.transform(X_test_imp)\n",
        "pd.DataFrame(X_train_imp_scaled, columns=X_train.columns)"
      ]
    },
    {
      "cell_type": "code",
      "execution_count": 32,
      "metadata": {
        "id": "LD32beHZ_JzB"
      },
      "outputs": [],
      "source": [
        "# Crear un clasificador KNN con diferentes números de vecinos\n",
        "n_neighbors = [9,11,13,15,16,17,18,19,20]\n",
        "det_coef = []\n",
        "\n",
        "for k in n_neighbors:\n",
        "  clf = Pipeline(steps=[(\"regressor\", KNeighborsRegressor(n_neighbors=k))])\n",
        "\n",
        "  # Entrenar el clasificador con los datos de entrenamiento\n",
        "  clf.fit(X_train_imp_scaled, y_train)\n",
        "\n",
        "  # Evaluar el rendimiento del clasificador en los datos de validación\n",
        "  det_coef.append(clf.score(X_val_imp_scaled, y_val))"
      ]
    },
    {
      "cell_type": "code",
      "execution_count": 33,
      "metadata": {
        "colab": {
          "base_uri": "https://localhost:8080/"
        },
        "id": "biUOmvqx_YaQ",
        "outputId": "fd430ff0-1379-46e3-89e4-4c2151509218"
      },
      "outputs": [
        {
          "name": "stdout",
          "output_type": "stream",
          "text": [
            "El número óptimo de vecinos es 13\n",
            "El coeficiente de determinación en el conjunto de test es 0.73\n"
          ]
        }
      ],
      "source": [
        "#Re-entrenar el modelo con los datos de entrenamiento y validación para el valor de k óptimo\n",
        "k_opt = n_neighbors[np.argmax(det_coef)]\n",
        "print(f\"El número óptimo de vecinos es {k_opt}\")\n",
        "X_train_test_imp_scaled = np.vstack([X_train_imp_scaled,X_val_imp_scaled])\n",
        "y_train_test = np.hstack([y_train,y_val])\n",
        "\n",
        "# Entrenar el regresor con los datos de entrenamiento\n",
        "clf = Pipeline(steps=[(\"regressor\", KNeighborsRegressor(n_neighbors=k_opt))])\n",
        "clf.fit(X_train_test_imp_scaled, y_train_test)\n",
        "#Validar el rendimiento del clasificador con los datos de prueba\n",
        "det_coef = clf.score(X_test_imp_scaled, y_test)\n",
        "\n",
        "print(f\"El coeficiente de determinación en el conjunto de test es {det_coef:0.2f}\")"
      ]
    },
    {
      "cell_type": "markdown",
      "metadata": {
        "id": "6YGhTcw_C3KN"
      },
      "source": [
        "## **Vamos a utilizar `Pipelines` para simplificar el proceso**\n",
        "\n",
        "Los `pipelines` permiten hacer este proceso de una forma más elegante y organizada "
      ]
    },
    {
      "cell_type": "code",
      "execution_count": 34,
      "metadata": {
        "id": "0HXRrTwoDLnQ"
      },
      "outputs": [],
      "source": [
        "X_train = train_df.drop(columns=[\"median_house_value\", \"ocean_proximity\"])\n",
        "y_train = train_df[\"median_house_value\"]\n",
        "\n",
        "X_val = val_df.drop(columns=[\"median_house_value\", \"ocean_proximity\"])\n",
        "y_val = val_df[\"median_house_value\"]\n",
        "\n",
        "X_test = test_df.drop(columns=[\"median_house_value\", \"ocean_proximity\"])\n",
        "y_test = test_df[\"median_house_value\"]"
      ]
    },
    {
      "cell_type": "markdown",
      "metadata": {
        "id": "UdL_aVD5Dfmj"
      },
      "source": [
        "```\n",
        "pipe = Pipeline(\n",
        "    steps=[\n",
        "        (\"imputer\", SimpleImputer(strategy=\"median\")),\n",
        "        (\"scaler\", StandardScaler()),\n",
        "        (\"regressor\", KNeighborsRegressor()),\n",
        "    ]\n",
        ")\n",
        "```\n",
        "\n",
        "- Sintaxis: Pasamos una lista de pasos\n",
        "- El último paso debe ser un modelo de **clasificación/regresión**\n",
        "- Los pasos anteriores deben ser **transformaciones**"
      ]
    },
    {
      "cell_type": "code",
      "execution_count": 35,
      "metadata": {
        "id": "ExXmJhFbDRG8"
      },
      "outputs": [],
      "source": [
        "pipe = Pipeline(\n",
        "    steps=[\n",
        "        (\"imputer\", SimpleImputer(strategy=\"median\")),\n",
        "        (\"scaler\", StandardScaler()),\n",
        "        (\"regressor\", KNeighborsRegressor()),\n",
        "    ]\n",
        ")"
      ]
    },
    {
      "cell_type": "code",
      "execution_count": 36,
      "metadata": {
        "colab": {
          "base_uri": "https://localhost:8080/",
          "height": 159
        },
        "id": "leWtC1NoD41G",
        "outputId": "13d42e01-ad27-4a68-f9fd-35e16978a45c"
      },
      "outputs": [
        {
          "data": {
            "text/html": [
              "<style>#sk-container-id-1 {\n",
              "  /* Definition of color scheme common for light and dark mode */\n",
              "  --sklearn-color-text: #000;\n",
              "  --sklearn-color-text-muted: #666;\n",
              "  --sklearn-color-line: gray;\n",
              "  /* Definition of color scheme for unfitted estimators */\n",
              "  --sklearn-color-unfitted-level-0: #fff5e6;\n",
              "  --sklearn-color-unfitted-level-1: #f6e4d2;\n",
              "  --sklearn-color-unfitted-level-2: #ffe0b3;\n",
              "  --sklearn-color-unfitted-level-3: chocolate;\n",
              "  /* Definition of color scheme for fitted estimators */\n",
              "  --sklearn-color-fitted-level-0: #f0f8ff;\n",
              "  --sklearn-color-fitted-level-1: #d4ebff;\n",
              "  --sklearn-color-fitted-level-2: #b3dbfd;\n",
              "  --sklearn-color-fitted-level-3: cornflowerblue;\n",
              "\n",
              "  /* Specific color for light theme */\n",
              "  --sklearn-color-text-on-default-background: var(--sg-text-color, var(--theme-code-foreground, var(--jp-content-font-color1, black)));\n",
              "  --sklearn-color-background: var(--sg-background-color, var(--theme-background, var(--jp-layout-color0, white)));\n",
              "  --sklearn-color-border-box: var(--sg-text-color, var(--theme-code-foreground, var(--jp-content-font-color1, black)));\n",
              "  --sklearn-color-icon: #696969;\n",
              "\n",
              "  @media (prefers-color-scheme: dark) {\n",
              "    /* Redefinition of color scheme for dark theme */\n",
              "    --sklearn-color-text-on-default-background: var(--sg-text-color, var(--theme-code-foreground, var(--jp-content-font-color1, white)));\n",
              "    --sklearn-color-background: var(--sg-background-color, var(--theme-background, var(--jp-layout-color0, #111)));\n",
              "    --sklearn-color-border-box: var(--sg-text-color, var(--theme-code-foreground, var(--jp-content-font-color1, white)));\n",
              "    --sklearn-color-icon: #878787;\n",
              "  }\n",
              "}\n",
              "\n",
              "#sk-container-id-1 {\n",
              "  color: var(--sklearn-color-text);\n",
              "}\n",
              "\n",
              "#sk-container-id-1 pre {\n",
              "  padding: 0;\n",
              "}\n",
              "\n",
              "#sk-container-id-1 input.sk-hidden--visually {\n",
              "  border: 0;\n",
              "  clip: rect(1px 1px 1px 1px);\n",
              "  clip: rect(1px, 1px, 1px, 1px);\n",
              "  height: 1px;\n",
              "  margin: -1px;\n",
              "  overflow: hidden;\n",
              "  padding: 0;\n",
              "  position: absolute;\n",
              "  width: 1px;\n",
              "}\n",
              "\n",
              "#sk-container-id-1 div.sk-dashed-wrapped {\n",
              "  border: 1px dashed var(--sklearn-color-line);\n",
              "  margin: 0 0.4em 0.5em 0.4em;\n",
              "  box-sizing: border-box;\n",
              "  padding-bottom: 0.4em;\n",
              "  background-color: var(--sklearn-color-background);\n",
              "}\n",
              "\n",
              "#sk-container-id-1 div.sk-container {\n",
              "  /* jupyter's `normalize.less` sets `[hidden] { display: none; }`\n",
              "     but bootstrap.min.css set `[hidden] { display: none !important; }`\n",
              "     so we also need the `!important` here to be able to override the\n",
              "     default hidden behavior on the sphinx rendered scikit-learn.org.\n",
              "     See: https://github.com/scikit-learn/scikit-learn/issues/21755 */\n",
              "  display: inline-block !important;\n",
              "  position: relative;\n",
              "}\n",
              "\n",
              "#sk-container-id-1 div.sk-text-repr-fallback {\n",
              "  display: none;\n",
              "}\n",
              "\n",
              "div.sk-parallel-item,\n",
              "div.sk-serial,\n",
              "div.sk-item {\n",
              "  /* draw centered vertical line to link estimators */\n",
              "  background-image: linear-gradient(var(--sklearn-color-text-on-default-background), var(--sklearn-color-text-on-default-background));\n",
              "  background-size: 2px 100%;\n",
              "  background-repeat: no-repeat;\n",
              "  background-position: center center;\n",
              "}\n",
              "\n",
              "/* Parallel-specific style estimator block */\n",
              "\n",
              "#sk-container-id-1 div.sk-parallel-item::after {\n",
              "  content: \"\";\n",
              "  width: 100%;\n",
              "  border-bottom: 2px solid var(--sklearn-color-text-on-default-background);\n",
              "  flex-grow: 1;\n",
              "}\n",
              "\n",
              "#sk-container-id-1 div.sk-parallel {\n",
              "  display: flex;\n",
              "  align-items: stretch;\n",
              "  justify-content: center;\n",
              "  background-color: var(--sklearn-color-background);\n",
              "  position: relative;\n",
              "}\n",
              "\n",
              "#sk-container-id-1 div.sk-parallel-item {\n",
              "  display: flex;\n",
              "  flex-direction: column;\n",
              "}\n",
              "\n",
              "#sk-container-id-1 div.sk-parallel-item:first-child::after {\n",
              "  align-self: flex-end;\n",
              "  width: 50%;\n",
              "}\n",
              "\n",
              "#sk-container-id-1 div.sk-parallel-item:last-child::after {\n",
              "  align-self: flex-start;\n",
              "  width: 50%;\n",
              "}\n",
              "\n",
              "#sk-container-id-1 div.sk-parallel-item:only-child::after {\n",
              "  width: 0;\n",
              "}\n",
              "\n",
              "/* Serial-specific style estimator block */\n",
              "\n",
              "#sk-container-id-1 div.sk-serial {\n",
              "  display: flex;\n",
              "  flex-direction: column;\n",
              "  align-items: center;\n",
              "  background-color: var(--sklearn-color-background);\n",
              "  padding-right: 1em;\n",
              "  padding-left: 1em;\n",
              "}\n",
              "\n",
              "\n",
              "/* Toggleable style: style used for estimator/Pipeline/ColumnTransformer box that is\n",
              "clickable and can be expanded/collapsed.\n",
              "- Pipeline and ColumnTransformer use this feature and define the default style\n",
              "- Estimators will overwrite some part of the style using the `sk-estimator` class\n",
              "*/\n",
              "\n",
              "/* Pipeline and ColumnTransformer style (default) */\n",
              "\n",
              "#sk-container-id-1 div.sk-toggleable {\n",
              "  /* Default theme specific background. It is overwritten whether we have a\n",
              "  specific estimator or a Pipeline/ColumnTransformer */\n",
              "  background-color: var(--sklearn-color-background);\n",
              "}\n",
              "\n",
              "/* Toggleable label */\n",
              "#sk-container-id-1 label.sk-toggleable__label {\n",
              "  cursor: pointer;\n",
              "  display: flex;\n",
              "  width: 100%;\n",
              "  margin-bottom: 0;\n",
              "  padding: 0.5em;\n",
              "  box-sizing: border-box;\n",
              "  text-align: center;\n",
              "  align-items: start;\n",
              "  justify-content: space-between;\n",
              "  gap: 0.5em;\n",
              "}\n",
              "\n",
              "#sk-container-id-1 label.sk-toggleable__label .caption {\n",
              "  font-size: 0.6rem;\n",
              "  font-weight: lighter;\n",
              "  color: var(--sklearn-color-text-muted);\n",
              "}\n",
              "\n",
              "#sk-container-id-1 label.sk-toggleable__label-arrow:before {\n",
              "  /* Arrow on the left of the label */\n",
              "  content: \"▸\";\n",
              "  float: left;\n",
              "  margin-right: 0.25em;\n",
              "  color: var(--sklearn-color-icon);\n",
              "}\n",
              "\n",
              "#sk-container-id-1 label.sk-toggleable__label-arrow:hover:before {\n",
              "  color: var(--sklearn-color-text);\n",
              "}\n",
              "\n",
              "/* Toggleable content - dropdown */\n",
              "\n",
              "#sk-container-id-1 div.sk-toggleable__content {\n",
              "  max-height: 0;\n",
              "  max-width: 0;\n",
              "  overflow: hidden;\n",
              "  text-align: left;\n",
              "  /* unfitted */\n",
              "  background-color: var(--sklearn-color-unfitted-level-0);\n",
              "}\n",
              "\n",
              "#sk-container-id-1 div.sk-toggleable__content.fitted {\n",
              "  /* fitted */\n",
              "  background-color: var(--sklearn-color-fitted-level-0);\n",
              "}\n",
              "\n",
              "#sk-container-id-1 div.sk-toggleable__content pre {\n",
              "  margin: 0.2em;\n",
              "  border-radius: 0.25em;\n",
              "  color: var(--sklearn-color-text);\n",
              "  /* unfitted */\n",
              "  background-color: var(--sklearn-color-unfitted-level-0);\n",
              "}\n",
              "\n",
              "#sk-container-id-1 div.sk-toggleable__content.fitted pre {\n",
              "  /* unfitted */\n",
              "  background-color: var(--sklearn-color-fitted-level-0);\n",
              "}\n",
              "\n",
              "#sk-container-id-1 input.sk-toggleable__control:checked~div.sk-toggleable__content {\n",
              "  /* Expand drop-down */\n",
              "  max-height: 200px;\n",
              "  max-width: 100%;\n",
              "  overflow: auto;\n",
              "}\n",
              "\n",
              "#sk-container-id-1 input.sk-toggleable__control:checked~label.sk-toggleable__label-arrow:before {\n",
              "  content: \"▾\";\n",
              "}\n",
              "\n",
              "/* Pipeline/ColumnTransformer-specific style */\n",
              "\n",
              "#sk-container-id-1 div.sk-label input.sk-toggleable__control:checked~label.sk-toggleable__label {\n",
              "  color: var(--sklearn-color-text);\n",
              "  background-color: var(--sklearn-color-unfitted-level-2);\n",
              "}\n",
              "\n",
              "#sk-container-id-1 div.sk-label.fitted input.sk-toggleable__control:checked~label.sk-toggleable__label {\n",
              "  background-color: var(--sklearn-color-fitted-level-2);\n",
              "}\n",
              "\n",
              "/* Estimator-specific style */\n",
              "\n",
              "/* Colorize estimator box */\n",
              "#sk-container-id-1 div.sk-estimator input.sk-toggleable__control:checked~label.sk-toggleable__label {\n",
              "  /* unfitted */\n",
              "  background-color: var(--sklearn-color-unfitted-level-2);\n",
              "}\n",
              "\n",
              "#sk-container-id-1 div.sk-estimator.fitted input.sk-toggleable__control:checked~label.sk-toggleable__label {\n",
              "  /* fitted */\n",
              "  background-color: var(--sklearn-color-fitted-level-2);\n",
              "}\n",
              "\n",
              "#sk-container-id-1 div.sk-label label.sk-toggleable__label,\n",
              "#sk-container-id-1 div.sk-label label {\n",
              "  /* The background is the default theme color */\n",
              "  color: var(--sklearn-color-text-on-default-background);\n",
              "}\n",
              "\n",
              "/* On hover, darken the color of the background */\n",
              "#sk-container-id-1 div.sk-label:hover label.sk-toggleable__label {\n",
              "  color: var(--sklearn-color-text);\n",
              "  background-color: var(--sklearn-color-unfitted-level-2);\n",
              "}\n",
              "\n",
              "/* Label box, darken color on hover, fitted */\n",
              "#sk-container-id-1 div.sk-label.fitted:hover label.sk-toggleable__label.fitted {\n",
              "  color: var(--sklearn-color-text);\n",
              "  background-color: var(--sklearn-color-fitted-level-2);\n",
              "}\n",
              "\n",
              "/* Estimator label */\n",
              "\n",
              "#sk-container-id-1 div.sk-label label {\n",
              "  font-family: monospace;\n",
              "  font-weight: bold;\n",
              "  display: inline-block;\n",
              "  line-height: 1.2em;\n",
              "}\n",
              "\n",
              "#sk-container-id-1 div.sk-label-container {\n",
              "  text-align: center;\n",
              "}\n",
              "\n",
              "/* Estimator-specific */\n",
              "#sk-container-id-1 div.sk-estimator {\n",
              "  font-family: monospace;\n",
              "  border: 1px dotted var(--sklearn-color-border-box);\n",
              "  border-radius: 0.25em;\n",
              "  box-sizing: border-box;\n",
              "  margin-bottom: 0.5em;\n",
              "  /* unfitted */\n",
              "  background-color: var(--sklearn-color-unfitted-level-0);\n",
              "}\n",
              "\n",
              "#sk-container-id-1 div.sk-estimator.fitted {\n",
              "  /* fitted */\n",
              "  background-color: var(--sklearn-color-fitted-level-0);\n",
              "}\n",
              "\n",
              "/* on hover */\n",
              "#sk-container-id-1 div.sk-estimator:hover {\n",
              "  /* unfitted */\n",
              "  background-color: var(--sklearn-color-unfitted-level-2);\n",
              "}\n",
              "\n",
              "#sk-container-id-1 div.sk-estimator.fitted:hover {\n",
              "  /* fitted */\n",
              "  background-color: var(--sklearn-color-fitted-level-2);\n",
              "}\n",
              "\n",
              "/* Specification for estimator info (e.g. \"i\" and \"?\") */\n",
              "\n",
              "/* Common style for \"i\" and \"?\" */\n",
              "\n",
              ".sk-estimator-doc-link,\n",
              "a:link.sk-estimator-doc-link,\n",
              "a:visited.sk-estimator-doc-link {\n",
              "  float: right;\n",
              "  font-size: smaller;\n",
              "  line-height: 1em;\n",
              "  font-family: monospace;\n",
              "  background-color: var(--sklearn-color-background);\n",
              "  border-radius: 1em;\n",
              "  height: 1em;\n",
              "  width: 1em;\n",
              "  text-decoration: none !important;\n",
              "  margin-left: 0.5em;\n",
              "  text-align: center;\n",
              "  /* unfitted */\n",
              "  border: var(--sklearn-color-unfitted-level-1) 1pt solid;\n",
              "  color: var(--sklearn-color-unfitted-level-1);\n",
              "}\n",
              "\n",
              ".sk-estimator-doc-link.fitted,\n",
              "a:link.sk-estimator-doc-link.fitted,\n",
              "a:visited.sk-estimator-doc-link.fitted {\n",
              "  /* fitted */\n",
              "  border: var(--sklearn-color-fitted-level-1) 1pt solid;\n",
              "  color: var(--sklearn-color-fitted-level-1);\n",
              "}\n",
              "\n",
              "/* On hover */\n",
              "div.sk-estimator:hover .sk-estimator-doc-link:hover,\n",
              ".sk-estimator-doc-link:hover,\n",
              "div.sk-label-container:hover .sk-estimator-doc-link:hover,\n",
              ".sk-estimator-doc-link:hover {\n",
              "  /* unfitted */\n",
              "  background-color: var(--sklearn-color-unfitted-level-3);\n",
              "  color: var(--sklearn-color-background);\n",
              "  text-decoration: none;\n",
              "}\n",
              "\n",
              "div.sk-estimator.fitted:hover .sk-estimator-doc-link.fitted:hover,\n",
              ".sk-estimator-doc-link.fitted:hover,\n",
              "div.sk-label-container:hover .sk-estimator-doc-link.fitted:hover,\n",
              ".sk-estimator-doc-link.fitted:hover {\n",
              "  /* fitted */\n",
              "  background-color: var(--sklearn-color-fitted-level-3);\n",
              "  color: var(--sklearn-color-background);\n",
              "  text-decoration: none;\n",
              "}\n",
              "\n",
              "/* Span, style for the box shown on hovering the info icon */\n",
              ".sk-estimator-doc-link span {\n",
              "  display: none;\n",
              "  z-index: 9999;\n",
              "  position: relative;\n",
              "  font-weight: normal;\n",
              "  right: .2ex;\n",
              "  padding: .5ex;\n",
              "  margin: .5ex;\n",
              "  width: min-content;\n",
              "  min-width: 20ex;\n",
              "  max-width: 50ex;\n",
              "  color: var(--sklearn-color-text);\n",
              "  box-shadow: 2pt 2pt 4pt #999;\n",
              "  /* unfitted */\n",
              "  background: var(--sklearn-color-unfitted-level-0);\n",
              "  border: .5pt solid var(--sklearn-color-unfitted-level-3);\n",
              "}\n",
              "\n",
              ".sk-estimator-doc-link.fitted span {\n",
              "  /* fitted */\n",
              "  background: var(--sklearn-color-fitted-level-0);\n",
              "  border: var(--sklearn-color-fitted-level-3);\n",
              "}\n",
              "\n",
              ".sk-estimator-doc-link:hover span {\n",
              "  display: block;\n",
              "}\n",
              "\n",
              "/* \"?\"-specific style due to the `<a>` HTML tag */\n",
              "\n",
              "#sk-container-id-1 a.estimator_doc_link {\n",
              "  float: right;\n",
              "  font-size: 1rem;\n",
              "  line-height: 1em;\n",
              "  font-family: monospace;\n",
              "  background-color: var(--sklearn-color-background);\n",
              "  border-radius: 1rem;\n",
              "  height: 1rem;\n",
              "  width: 1rem;\n",
              "  text-decoration: none;\n",
              "  /* unfitted */\n",
              "  color: var(--sklearn-color-unfitted-level-1);\n",
              "  border: var(--sklearn-color-unfitted-level-1) 1pt solid;\n",
              "}\n",
              "\n",
              "#sk-container-id-1 a.estimator_doc_link.fitted {\n",
              "  /* fitted */\n",
              "  border: var(--sklearn-color-fitted-level-1) 1pt solid;\n",
              "  color: var(--sklearn-color-fitted-level-1);\n",
              "}\n",
              "\n",
              "/* On hover */\n",
              "#sk-container-id-1 a.estimator_doc_link:hover {\n",
              "  /* unfitted */\n",
              "  background-color: var(--sklearn-color-unfitted-level-3);\n",
              "  color: var(--sklearn-color-background);\n",
              "  text-decoration: none;\n",
              "}\n",
              "\n",
              "#sk-container-id-1 a.estimator_doc_link.fitted:hover {\n",
              "  /* fitted */\n",
              "  background-color: var(--sklearn-color-fitted-level-3);\n",
              "}\n",
              "</style><div id=\"sk-container-id-1\" class=\"sk-top-container\"><div class=\"sk-text-repr-fallback\"><pre>Pipeline(steps=[(&#x27;imputer&#x27;, SimpleImputer(strategy=&#x27;median&#x27;)),\n",
              "                (&#x27;scaler&#x27;, StandardScaler()),\n",
              "                (&#x27;regressor&#x27;, KNeighborsRegressor())])</pre><b>In a Jupyter environment, please rerun this cell to show the HTML representation or trust the notebook. <br />On GitHub, the HTML representation is unable to render, please try loading this page with nbviewer.org.</b></div><div class=\"sk-container\" hidden><div class=\"sk-item sk-dashed-wrapped\"><div class=\"sk-label-container\"><div class=\"sk-label fitted sk-toggleable\"><input class=\"sk-toggleable__control sk-hidden--visually\" id=\"sk-estimator-id-1\" type=\"checkbox\" ><label for=\"sk-estimator-id-1\" class=\"sk-toggleable__label fitted sk-toggleable__label-arrow\"><div><div>Pipeline</div></div><div><a class=\"sk-estimator-doc-link fitted\" rel=\"noreferrer\" target=\"_blank\" href=\"https://scikit-learn.org/1.6/modules/generated/sklearn.pipeline.Pipeline.html\">?<span>Documentation for Pipeline</span></a><span class=\"sk-estimator-doc-link fitted\">i<span>Fitted</span></span></div></label><div class=\"sk-toggleable__content fitted\"><pre>Pipeline(steps=[(&#x27;imputer&#x27;, SimpleImputer(strategy=&#x27;median&#x27;)),\n",
              "                (&#x27;scaler&#x27;, StandardScaler()),\n",
              "                (&#x27;regressor&#x27;, KNeighborsRegressor())])</pre></div> </div></div><div class=\"sk-serial\"><div class=\"sk-item\"><div class=\"sk-estimator fitted sk-toggleable\"><input class=\"sk-toggleable__control sk-hidden--visually\" id=\"sk-estimator-id-2\" type=\"checkbox\" ><label for=\"sk-estimator-id-2\" class=\"sk-toggleable__label fitted sk-toggleable__label-arrow\"><div><div>SimpleImputer</div></div><div><a class=\"sk-estimator-doc-link fitted\" rel=\"noreferrer\" target=\"_blank\" href=\"https://scikit-learn.org/1.6/modules/generated/sklearn.impute.SimpleImputer.html\">?<span>Documentation for SimpleImputer</span></a></div></label><div class=\"sk-toggleable__content fitted\"><pre>SimpleImputer(strategy=&#x27;median&#x27;)</pre></div> </div></div><div class=\"sk-item\"><div class=\"sk-estimator fitted sk-toggleable\"><input class=\"sk-toggleable__control sk-hidden--visually\" id=\"sk-estimator-id-3\" type=\"checkbox\" ><label for=\"sk-estimator-id-3\" class=\"sk-toggleable__label fitted sk-toggleable__label-arrow\"><div><div>StandardScaler</div></div><div><a class=\"sk-estimator-doc-link fitted\" rel=\"noreferrer\" target=\"_blank\" href=\"https://scikit-learn.org/1.6/modules/generated/sklearn.preprocessing.StandardScaler.html\">?<span>Documentation for StandardScaler</span></a></div></label><div class=\"sk-toggleable__content fitted\"><pre>StandardScaler()</pre></div> </div></div><div class=\"sk-item\"><div class=\"sk-estimator fitted sk-toggleable\"><input class=\"sk-toggleable__control sk-hidden--visually\" id=\"sk-estimator-id-4\" type=\"checkbox\" ><label for=\"sk-estimator-id-4\" class=\"sk-toggleable__label fitted sk-toggleable__label-arrow\"><div><div>KNeighborsRegressor</div></div><div><a class=\"sk-estimator-doc-link fitted\" rel=\"noreferrer\" target=\"_blank\" href=\"https://scikit-learn.org/1.6/modules/generated/sklearn.neighbors.KNeighborsRegressor.html\">?<span>Documentation for KNeighborsRegressor</span></a></div></label><div class=\"sk-toggleable__content fitted\"><pre>KNeighborsRegressor()</pre></div> </div></div></div></div></div></div>"
            ],
            "text/plain": [
              "Pipeline(steps=[('imputer', SimpleImputer(strategy='median')),\n",
              "                ('scaler', StandardScaler()),\n",
              "                ('regressor', KNeighborsRegressor())])"
            ]
          },
          "execution_count": 36,
          "metadata": {},
          "output_type": "execute_result"
        }
      ],
      "source": [
        "pipe.fit(X_train, y_train)"
      ]
    },
    {
      "cell_type": "markdown",
      "metadata": {
        "id": "vCscyxVBD7z0"
      },
      "source": [
        "- Note que estamos pasando `X_train` y **no** la versión imputada o escalada.\n",
        "\n",
        "- Cuando llamamos el método `fit` en el pipeline, este ejecuta los siguientes pasos:\n",
        "\n",
        "  - Ajusta `SimpleImputer` en `X_train`\n",
        "  - Transforma `X_train` usando el `SimpleImputer` ajustado para crear `X_train_imp`\n",
        "  - Ajusta `StandardScaler` en `X_train_imp`\n",
        "  - Transforma `X_train_imp` usando el `StandardScaler` ajustado para crear `X_train_imp_scaled`\n",
        "  - Ajusta el modelo de regresión `KNeighborsRegressor` en `X_train_imp_scaled`\n",
        "\n",
        "![Scaling](images/scaling2.png)\n",
        "\n",
        "\n",
        "\n",
        " "
      ]
    },
    {
      "cell_type": "code",
      "execution_count": 37,
      "metadata": {
        "id": "m9Z9a_ikGIZ5"
      },
      "outputs": [],
      "source": [
        "# Crear un clasificador KNN con diferentes números de vecinos\n",
        "n_neighbors = [9,11,13,15,16,17,18,19,20]\n",
        "det_coef = []\n",
        "\n",
        "for k in n_neighbors:\n",
        "  clf = Pipeline(\n",
        "    steps=[\n",
        "        (\"imputer\", SimpleImputer(strategy=\"median\")),\n",
        "        (\"scaler\", StandardScaler()),\n",
        "        (\"regressor\", KNeighborsRegressor(k)),\n",
        "    ])\n",
        "  # Entrenar el clasificador con los datos de entrenamiento\n",
        "  clf.fit(X_train, y_train)\n",
        "\n",
        "  # Evaluar el rendimiento del clasificador en los datos de validación\n",
        "  det_coef.append(clf.score(X_val, y_val))"
      ]
    },
    {
      "cell_type": "code",
      "execution_count": 39,
      "metadata": {
        "colab": {
          "base_uri": "https://localhost:8080/"
        },
        "id": "VuK7ZtckGZEY",
        "outputId": "ee3c36b8-af6c-492c-f95d-568394b84bbf"
      },
      "outputs": [
        {
          "name": "stdout",
          "output_type": "stream",
          "text": [
            "El número óptimo de vecinos es 9\n"
          ]
        },
        {
          "name": "stderr",
          "output_type": "stream",
          "text": [
            "/home/jlondono/Documents/EAFIT/Introduction-to-AI/.venv/lib/python3.10/site-packages/sklearn/utils/validation.py:2732: UserWarning: X has feature names, but SimpleImputer was fitted without feature names\n",
            "  warnings.warn(\n"
          ]
        },
        {
          "name": "stdout",
          "output_type": "stream",
          "text": [
            "El coeficiente de determinación en el conjunto de test es 0.73\n"
          ]
        }
      ],
      "source": [
        "#Re-entrenar el modelo con los datos de entrenamiento y validación para el valor de k óptimo\n",
        "k_opt = n_neighbors[np.argmax(det_coef)]\n",
        "print(f\"El número óptimo de vecinos es {k_opt}\")\n",
        "X_train_test = np.vstack([X_train,X_val])\n",
        "y_train_test = np.hstack([y_train,y_val])\n",
        "\n",
        "# Entrenar el regresor con los datos de entrenamiento\n",
        "clf = Pipeline(\n",
        "  steps=[\n",
        "        (\"imputer\", SimpleImputer(strategy=\"median\")),\n",
        "        (\"scaler\", StandardScaler()),\n",
        "        (\"regressor\", KNeighborsRegressor(k_opt)),\n",
        "      ])\n",
        "clf.fit(X_train_test, y_train_test)\n",
        "#Validar el rendimiento del clasificador con los datos de prueba\n",
        "det_coef = clf.score(X_test, y_test)\n",
        "\n",
        "print(f\"El coeficiente de determinación en el conjunto de test es {det_coef:0.2f}\")"
      ]
    },
    {
      "cell_type": "markdown",
      "metadata": {
        "id": "U4ikWb7ZHTrX"
      },
      "source": [
        "## **Variables categóricas**\n",
        "\n",
        "- Recuerde que no estamos utilizando la variable categórica `ocean_proximity` del `dataframe`. Sin embargo, esta característica podría ayudarnos a mejorar la estimación del precio de las casas.\n",
        "\n",
        "- Creemos de nuevo `X_train`, `X_val` y `X_test` conservando esta variable"
      ]
    },
    {
      "cell_type": "code",
      "execution_count": 40,
      "metadata": {
        "id": "JTeig7xvH1u2"
      },
      "outputs": [],
      "source": [
        "X_train = train_df.drop(columns=[\"median_house_value\"])\n",
        "y_train = train_df[\"median_house_value\"]\n",
        "\n",
        "X_val = val_df.drop(columns=[\"median_house_value\"])\n",
        "y_val = val_df[\"median_house_value\"]\n",
        "\n",
        "X_test = test_df.drop(columns=[\"median_house_value\"])\n",
        "y_test = test_df[\"median_house_value\"]"
      ]
    },
    {
      "cell_type": "markdown",
      "metadata": {
        "id": "3KrrMB2yIEMD"
      },
      "source": [
        "Intenemos construir un `KNeighborRegressor` en estos datos usando nuestro `pipeline`"
      ]
    },
    {
      "cell_type": "code",
      "execution_count": 41,
      "metadata": {
        "id": "EgYbUNr4IDrU"
      },
      "outputs": [],
      "source": [
        "pipe = Pipeline(\n",
        "    steps=[\n",
        "        (\"imputer\", SimpleImputer(strategy=\"median\")),\n",
        "        (\"scaler\", StandardScaler()),\n",
        "        (\"regressor\", KNeighborsRegressor()),\n",
        "    ]\n",
        ")"
      ]
    },
    {
      "cell_type": "code",
      "execution_count": 42,
      "metadata": {
        "colab": {
          "base_uri": "https://localhost:8080/",
          "height": 334
        },
        "id": "q5hJix2-ITGm",
        "outputId": "6fa738c6-c465-4ea1-edb1-d4c004a394bc"
      },
      "outputs": [
        {
          "ename": "ValueError",
          "evalue": "Cannot use median strategy with non-numeric data:\ncould not convert string to float: '<1H OCEAN'",
          "output_type": "error",
          "traceback": [
            "\u001b[0;31m---------------------------------------------------------------------------\u001b[0m",
            "\u001b[0;31mValueError\u001b[0m                                Traceback (most recent call last)",
            "Cell \u001b[0;32mIn[42], line 1\u001b[0m\n\u001b[0;32m----> 1\u001b[0m \u001b[43mpipe\u001b[49m\u001b[38;5;241;43m.\u001b[39;49m\u001b[43mfit\u001b[49m\u001b[43m(\u001b[49m\u001b[43mX_train\u001b[49m\u001b[43m,\u001b[49m\u001b[43m \u001b[49m\u001b[43my_train\u001b[49m\u001b[43m)\u001b[49m\n",
            "File \u001b[0;32m~/Documents/EAFIT/Introduction-to-AI/.venv/lib/python3.10/site-packages/sklearn/base.py:1389\u001b[0m, in \u001b[0;36m_fit_context.<locals>.decorator.<locals>.wrapper\u001b[0;34m(estimator, *args, **kwargs)\u001b[0m\n\u001b[1;32m   1382\u001b[0m     estimator\u001b[38;5;241m.\u001b[39m_validate_params()\n\u001b[1;32m   1384\u001b[0m \u001b[38;5;28;01mwith\u001b[39;00m config_context(\n\u001b[1;32m   1385\u001b[0m     skip_parameter_validation\u001b[38;5;241m=\u001b[39m(\n\u001b[1;32m   1386\u001b[0m         prefer_skip_nested_validation \u001b[38;5;129;01mor\u001b[39;00m global_skip_validation\n\u001b[1;32m   1387\u001b[0m     )\n\u001b[1;32m   1388\u001b[0m ):\n\u001b[0;32m-> 1389\u001b[0m     \u001b[38;5;28;01mreturn\u001b[39;00m \u001b[43mfit_method\u001b[49m\u001b[43m(\u001b[49m\u001b[43mestimator\u001b[49m\u001b[43m,\u001b[49m\u001b[43m \u001b[49m\u001b[38;5;241;43m*\u001b[39;49m\u001b[43margs\u001b[49m\u001b[43m,\u001b[49m\u001b[43m \u001b[49m\u001b[38;5;241;43m*\u001b[39;49m\u001b[38;5;241;43m*\u001b[39;49m\u001b[43mkwargs\u001b[49m\u001b[43m)\u001b[49m\n",
            "File \u001b[0;32m~/Documents/EAFIT/Introduction-to-AI/.venv/lib/python3.10/site-packages/sklearn/pipeline.py:654\u001b[0m, in \u001b[0;36mPipeline.fit\u001b[0;34m(self, X, y, **params)\u001b[0m\n\u001b[1;32m    647\u001b[0m     \u001b[38;5;28;01mraise\u001b[39;00m \u001b[38;5;167;01mValueError\u001b[39;00m(\n\u001b[1;32m    648\u001b[0m         \u001b[38;5;124m\"\u001b[39m\u001b[38;5;124mThe `transform_input` parameter can only be set if metadata \u001b[39m\u001b[38;5;124m\"\u001b[39m\n\u001b[1;32m    649\u001b[0m         \u001b[38;5;124m\"\u001b[39m\u001b[38;5;124mrouting is enabled. You can enable metadata routing using \u001b[39m\u001b[38;5;124m\"\u001b[39m\n\u001b[1;32m    650\u001b[0m         \u001b[38;5;124m\"\u001b[39m\u001b[38;5;124m`sklearn.set_config(enable_metadata_routing=True)`.\u001b[39m\u001b[38;5;124m\"\u001b[39m\n\u001b[1;32m    651\u001b[0m     )\n\u001b[1;32m    653\u001b[0m routed_params \u001b[38;5;241m=\u001b[39m \u001b[38;5;28mself\u001b[39m\u001b[38;5;241m.\u001b[39m_check_method_params(method\u001b[38;5;241m=\u001b[39m\u001b[38;5;124m\"\u001b[39m\u001b[38;5;124mfit\u001b[39m\u001b[38;5;124m\"\u001b[39m, props\u001b[38;5;241m=\u001b[39mparams)\n\u001b[0;32m--> 654\u001b[0m Xt \u001b[38;5;241m=\u001b[39m \u001b[38;5;28;43mself\u001b[39;49m\u001b[38;5;241;43m.\u001b[39;49m\u001b[43m_fit\u001b[49m\u001b[43m(\u001b[49m\u001b[43mX\u001b[49m\u001b[43m,\u001b[49m\u001b[43m \u001b[49m\u001b[43my\u001b[49m\u001b[43m,\u001b[49m\u001b[43m \u001b[49m\u001b[43mrouted_params\u001b[49m\u001b[43m,\u001b[49m\u001b[43m \u001b[49m\u001b[43mraw_params\u001b[49m\u001b[38;5;241;43m=\u001b[39;49m\u001b[43mparams\u001b[49m\u001b[43m)\u001b[49m\n\u001b[1;32m    655\u001b[0m \u001b[38;5;28;01mwith\u001b[39;00m _print_elapsed_time(\u001b[38;5;124m\"\u001b[39m\u001b[38;5;124mPipeline\u001b[39m\u001b[38;5;124m\"\u001b[39m, \u001b[38;5;28mself\u001b[39m\u001b[38;5;241m.\u001b[39m_log_message(\u001b[38;5;28mlen\u001b[39m(\u001b[38;5;28mself\u001b[39m\u001b[38;5;241m.\u001b[39msteps) \u001b[38;5;241m-\u001b[39m \u001b[38;5;241m1\u001b[39m)):\n\u001b[1;32m    656\u001b[0m     \u001b[38;5;28;01mif\u001b[39;00m \u001b[38;5;28mself\u001b[39m\u001b[38;5;241m.\u001b[39m_final_estimator \u001b[38;5;241m!=\u001b[39m \u001b[38;5;124m\"\u001b[39m\u001b[38;5;124mpassthrough\u001b[39m\u001b[38;5;124m\"\u001b[39m:\n",
            "File \u001b[0;32m~/Documents/EAFIT/Introduction-to-AI/.venv/lib/python3.10/site-packages/sklearn/pipeline.py:588\u001b[0m, in \u001b[0;36mPipeline._fit\u001b[0;34m(self, X, y, routed_params, raw_params)\u001b[0m\n\u001b[1;32m    581\u001b[0m \u001b[38;5;66;03m# Fit or load from cache the current transformer\u001b[39;00m\n\u001b[1;32m    582\u001b[0m step_params \u001b[38;5;241m=\u001b[39m \u001b[38;5;28mself\u001b[39m\u001b[38;5;241m.\u001b[39m_get_metadata_for_step(\n\u001b[1;32m    583\u001b[0m     step_idx\u001b[38;5;241m=\u001b[39mstep_idx,\n\u001b[1;32m    584\u001b[0m     step_params\u001b[38;5;241m=\u001b[39mrouted_params[name],\n\u001b[1;32m    585\u001b[0m     all_params\u001b[38;5;241m=\u001b[39mraw_params,\n\u001b[1;32m    586\u001b[0m )\n\u001b[0;32m--> 588\u001b[0m X, fitted_transformer \u001b[38;5;241m=\u001b[39m \u001b[43mfit_transform_one_cached\u001b[49m\u001b[43m(\u001b[49m\n\u001b[1;32m    589\u001b[0m \u001b[43m    \u001b[49m\u001b[43mcloned_transformer\u001b[49m\u001b[43m,\u001b[49m\n\u001b[1;32m    590\u001b[0m \u001b[43m    \u001b[49m\u001b[43mX\u001b[49m\u001b[43m,\u001b[49m\n\u001b[1;32m    591\u001b[0m \u001b[43m    \u001b[49m\u001b[43my\u001b[49m\u001b[43m,\u001b[49m\n\u001b[1;32m    592\u001b[0m \u001b[43m    \u001b[49m\u001b[43mweight\u001b[49m\u001b[38;5;241;43m=\u001b[39;49m\u001b[38;5;28;43;01mNone\u001b[39;49;00m\u001b[43m,\u001b[49m\n\u001b[1;32m    593\u001b[0m \u001b[43m    \u001b[49m\u001b[43mmessage_clsname\u001b[49m\u001b[38;5;241;43m=\u001b[39;49m\u001b[38;5;124;43m\"\u001b[39;49m\u001b[38;5;124;43mPipeline\u001b[39;49m\u001b[38;5;124;43m\"\u001b[39;49m\u001b[43m,\u001b[49m\n\u001b[1;32m    594\u001b[0m \u001b[43m    \u001b[49m\u001b[43mmessage\u001b[49m\u001b[38;5;241;43m=\u001b[39;49m\u001b[38;5;28;43mself\u001b[39;49m\u001b[38;5;241;43m.\u001b[39;49m\u001b[43m_log_message\u001b[49m\u001b[43m(\u001b[49m\u001b[43mstep_idx\u001b[49m\u001b[43m)\u001b[49m\u001b[43m,\u001b[49m\n\u001b[1;32m    595\u001b[0m \u001b[43m    \u001b[49m\u001b[43mparams\u001b[49m\u001b[38;5;241;43m=\u001b[39;49m\u001b[43mstep_params\u001b[49m\u001b[43m,\u001b[49m\n\u001b[1;32m    596\u001b[0m \u001b[43m\u001b[49m\u001b[43m)\u001b[49m\n\u001b[1;32m    597\u001b[0m \u001b[38;5;66;03m# Replace the transformer of the step with the fitted\u001b[39;00m\n\u001b[1;32m    598\u001b[0m \u001b[38;5;66;03m# transformer. This is necessary when loading the transformer\u001b[39;00m\n\u001b[1;32m    599\u001b[0m \u001b[38;5;66;03m# from the cache.\u001b[39;00m\n\u001b[1;32m    600\u001b[0m \u001b[38;5;28mself\u001b[39m\u001b[38;5;241m.\u001b[39msteps[step_idx] \u001b[38;5;241m=\u001b[39m (name, fitted_transformer)\n",
            "File \u001b[0;32m~/Documents/EAFIT/Introduction-to-AI/.venv/lib/python3.10/site-packages/joblib/memory.py:312\u001b[0m, in \u001b[0;36mNotMemorizedFunc.__call__\u001b[0;34m(self, *args, **kwargs)\u001b[0m\n\u001b[1;32m    311\u001b[0m \u001b[38;5;28;01mdef\u001b[39;00m\u001b[38;5;250m \u001b[39m\u001b[38;5;21m__call__\u001b[39m(\u001b[38;5;28mself\u001b[39m, \u001b[38;5;241m*\u001b[39margs, \u001b[38;5;241m*\u001b[39m\u001b[38;5;241m*\u001b[39mkwargs):\n\u001b[0;32m--> 312\u001b[0m     \u001b[38;5;28;01mreturn\u001b[39;00m \u001b[38;5;28;43mself\u001b[39;49m\u001b[38;5;241;43m.\u001b[39;49m\u001b[43mfunc\u001b[49m\u001b[43m(\u001b[49m\u001b[38;5;241;43m*\u001b[39;49m\u001b[43margs\u001b[49m\u001b[43m,\u001b[49m\u001b[43m \u001b[49m\u001b[38;5;241;43m*\u001b[39;49m\u001b[38;5;241;43m*\u001b[39;49m\u001b[43mkwargs\u001b[49m\u001b[43m)\u001b[49m\n",
            "File \u001b[0;32m~/Documents/EAFIT/Introduction-to-AI/.venv/lib/python3.10/site-packages/sklearn/pipeline.py:1551\u001b[0m, in \u001b[0;36m_fit_transform_one\u001b[0;34m(transformer, X, y, weight, message_clsname, message, params)\u001b[0m\n\u001b[1;32m   1549\u001b[0m \u001b[38;5;28;01mwith\u001b[39;00m _print_elapsed_time(message_clsname, message):\n\u001b[1;32m   1550\u001b[0m     \u001b[38;5;28;01mif\u001b[39;00m \u001b[38;5;28mhasattr\u001b[39m(transformer, \u001b[38;5;124m\"\u001b[39m\u001b[38;5;124mfit_transform\u001b[39m\u001b[38;5;124m\"\u001b[39m):\n\u001b[0;32m-> 1551\u001b[0m         res \u001b[38;5;241m=\u001b[39m \u001b[43mtransformer\u001b[49m\u001b[38;5;241;43m.\u001b[39;49m\u001b[43mfit_transform\u001b[49m\u001b[43m(\u001b[49m\u001b[43mX\u001b[49m\u001b[43m,\u001b[49m\u001b[43m \u001b[49m\u001b[43my\u001b[49m\u001b[43m,\u001b[49m\u001b[43m \u001b[49m\u001b[38;5;241;43m*\u001b[39;49m\u001b[38;5;241;43m*\u001b[39;49m\u001b[43mparams\u001b[49m\u001b[38;5;241;43m.\u001b[39;49m\u001b[43mget\u001b[49m\u001b[43m(\u001b[49m\u001b[38;5;124;43m\"\u001b[39;49m\u001b[38;5;124;43mfit_transform\u001b[39;49m\u001b[38;5;124;43m\"\u001b[39;49m\u001b[43m,\u001b[49m\u001b[43m \u001b[49m\u001b[43m{\u001b[49m\u001b[43m}\u001b[49m\u001b[43m)\u001b[49m\u001b[43m)\u001b[49m\n\u001b[1;32m   1552\u001b[0m     \u001b[38;5;28;01melse\u001b[39;00m:\n\u001b[1;32m   1553\u001b[0m         res \u001b[38;5;241m=\u001b[39m transformer\u001b[38;5;241m.\u001b[39mfit(X, y, \u001b[38;5;241m*\u001b[39m\u001b[38;5;241m*\u001b[39mparams\u001b[38;5;241m.\u001b[39mget(\u001b[38;5;124m\"\u001b[39m\u001b[38;5;124mfit\u001b[39m\u001b[38;5;124m\"\u001b[39m, {}))\u001b[38;5;241m.\u001b[39mtransform(\n\u001b[1;32m   1554\u001b[0m             X, \u001b[38;5;241m*\u001b[39m\u001b[38;5;241m*\u001b[39mparams\u001b[38;5;241m.\u001b[39mget(\u001b[38;5;124m\"\u001b[39m\u001b[38;5;124mtransform\u001b[39m\u001b[38;5;124m\"\u001b[39m, {})\n\u001b[1;32m   1555\u001b[0m         )\n",
            "File \u001b[0;32m~/Documents/EAFIT/Introduction-to-AI/.venv/lib/python3.10/site-packages/sklearn/utils/_set_output.py:319\u001b[0m, in \u001b[0;36m_wrap_method_output.<locals>.wrapped\u001b[0;34m(self, X, *args, **kwargs)\u001b[0m\n\u001b[1;32m    317\u001b[0m \u001b[38;5;129m@wraps\u001b[39m(f)\n\u001b[1;32m    318\u001b[0m \u001b[38;5;28;01mdef\u001b[39;00m\u001b[38;5;250m \u001b[39m\u001b[38;5;21mwrapped\u001b[39m(\u001b[38;5;28mself\u001b[39m, X, \u001b[38;5;241m*\u001b[39margs, \u001b[38;5;241m*\u001b[39m\u001b[38;5;241m*\u001b[39mkwargs):\n\u001b[0;32m--> 319\u001b[0m     data_to_wrap \u001b[38;5;241m=\u001b[39m \u001b[43mf\u001b[49m\u001b[43m(\u001b[49m\u001b[38;5;28;43mself\u001b[39;49m\u001b[43m,\u001b[49m\u001b[43m \u001b[49m\u001b[43mX\u001b[49m\u001b[43m,\u001b[49m\u001b[43m \u001b[49m\u001b[38;5;241;43m*\u001b[39;49m\u001b[43margs\u001b[49m\u001b[43m,\u001b[49m\u001b[43m \u001b[49m\u001b[38;5;241;43m*\u001b[39;49m\u001b[38;5;241;43m*\u001b[39;49m\u001b[43mkwargs\u001b[49m\u001b[43m)\u001b[49m\n\u001b[1;32m    320\u001b[0m     \u001b[38;5;28;01mif\u001b[39;00m \u001b[38;5;28misinstance\u001b[39m(data_to_wrap, \u001b[38;5;28mtuple\u001b[39m):\n\u001b[1;32m    321\u001b[0m         \u001b[38;5;66;03m# only wrap the first output for cross decomposition\u001b[39;00m\n\u001b[1;32m    322\u001b[0m         return_tuple \u001b[38;5;241m=\u001b[39m (\n\u001b[1;32m    323\u001b[0m             _wrap_data_with_container(method, data_to_wrap[\u001b[38;5;241m0\u001b[39m], X, \u001b[38;5;28mself\u001b[39m),\n\u001b[1;32m    324\u001b[0m             \u001b[38;5;241m*\u001b[39mdata_to_wrap[\u001b[38;5;241m1\u001b[39m:],\n\u001b[1;32m    325\u001b[0m         )\n",
            "File \u001b[0;32m~/Documents/EAFIT/Introduction-to-AI/.venv/lib/python3.10/site-packages/sklearn/base.py:921\u001b[0m, in \u001b[0;36mTransformerMixin.fit_transform\u001b[0;34m(self, X, y, **fit_params)\u001b[0m\n\u001b[1;32m    918\u001b[0m     \u001b[38;5;28;01mreturn\u001b[39;00m \u001b[38;5;28mself\u001b[39m\u001b[38;5;241m.\u001b[39mfit(X, \u001b[38;5;241m*\u001b[39m\u001b[38;5;241m*\u001b[39mfit_params)\u001b[38;5;241m.\u001b[39mtransform(X)\n\u001b[1;32m    919\u001b[0m \u001b[38;5;28;01melse\u001b[39;00m:\n\u001b[1;32m    920\u001b[0m     \u001b[38;5;66;03m# fit method of arity 2 (supervised transformation)\u001b[39;00m\n\u001b[0;32m--> 921\u001b[0m     \u001b[38;5;28;01mreturn\u001b[39;00m \u001b[38;5;28;43mself\u001b[39;49m\u001b[38;5;241;43m.\u001b[39;49m\u001b[43mfit\u001b[49m\u001b[43m(\u001b[49m\u001b[43mX\u001b[49m\u001b[43m,\u001b[49m\u001b[43m \u001b[49m\u001b[43my\u001b[49m\u001b[43m,\u001b[49m\u001b[43m \u001b[49m\u001b[38;5;241;43m*\u001b[39;49m\u001b[38;5;241;43m*\u001b[39;49m\u001b[43mfit_params\u001b[49m\u001b[43m)\u001b[49m\u001b[38;5;241m.\u001b[39mtransform(X)\n",
            "File \u001b[0;32m~/Documents/EAFIT/Introduction-to-AI/.venv/lib/python3.10/site-packages/sklearn/base.py:1389\u001b[0m, in \u001b[0;36m_fit_context.<locals>.decorator.<locals>.wrapper\u001b[0;34m(estimator, *args, **kwargs)\u001b[0m\n\u001b[1;32m   1382\u001b[0m     estimator\u001b[38;5;241m.\u001b[39m_validate_params()\n\u001b[1;32m   1384\u001b[0m \u001b[38;5;28;01mwith\u001b[39;00m config_context(\n\u001b[1;32m   1385\u001b[0m     skip_parameter_validation\u001b[38;5;241m=\u001b[39m(\n\u001b[1;32m   1386\u001b[0m         prefer_skip_nested_validation \u001b[38;5;129;01mor\u001b[39;00m global_skip_validation\n\u001b[1;32m   1387\u001b[0m     )\n\u001b[1;32m   1388\u001b[0m ):\n\u001b[0;32m-> 1389\u001b[0m     \u001b[38;5;28;01mreturn\u001b[39;00m \u001b[43mfit_method\u001b[49m\u001b[43m(\u001b[49m\u001b[43mestimator\u001b[49m\u001b[43m,\u001b[49m\u001b[43m \u001b[49m\u001b[38;5;241;43m*\u001b[39;49m\u001b[43margs\u001b[49m\u001b[43m,\u001b[49m\u001b[43m \u001b[49m\u001b[38;5;241;43m*\u001b[39;49m\u001b[38;5;241;43m*\u001b[39;49m\u001b[43mkwargs\u001b[49m\u001b[43m)\u001b[49m\n",
            "File \u001b[0;32m~/Documents/EAFIT/Introduction-to-AI/.venv/lib/python3.10/site-packages/sklearn/impute/_base.py:434\u001b[0m, in \u001b[0;36mSimpleImputer.fit\u001b[0;34m(self, X, y)\u001b[0m\n\u001b[1;32m    416\u001b[0m \u001b[38;5;129m@_fit_context\u001b[39m(prefer_skip_nested_validation\u001b[38;5;241m=\u001b[39m\u001b[38;5;28;01mTrue\u001b[39;00m)\n\u001b[1;32m    417\u001b[0m \u001b[38;5;28;01mdef\u001b[39;00m\u001b[38;5;250m \u001b[39m\u001b[38;5;21mfit\u001b[39m(\u001b[38;5;28mself\u001b[39m, X, y\u001b[38;5;241m=\u001b[39m\u001b[38;5;28;01mNone\u001b[39;00m):\n\u001b[1;32m    418\u001b[0m \u001b[38;5;250m    \u001b[39m\u001b[38;5;124;03m\"\"\"Fit the imputer on `X`.\u001b[39;00m\n\u001b[1;32m    419\u001b[0m \n\u001b[1;32m    420\u001b[0m \u001b[38;5;124;03m    Parameters\u001b[39;00m\n\u001b[0;32m   (...)\u001b[0m\n\u001b[1;32m    432\u001b[0m \u001b[38;5;124;03m        Fitted estimator.\u001b[39;00m\n\u001b[1;32m    433\u001b[0m \u001b[38;5;124;03m    \"\"\"\u001b[39;00m\n\u001b[0;32m--> 434\u001b[0m     X \u001b[38;5;241m=\u001b[39m \u001b[38;5;28;43mself\u001b[39;49m\u001b[38;5;241;43m.\u001b[39;49m\u001b[43m_validate_input\u001b[49m\u001b[43m(\u001b[49m\u001b[43mX\u001b[49m\u001b[43m,\u001b[49m\u001b[43m \u001b[49m\u001b[43min_fit\u001b[49m\u001b[38;5;241;43m=\u001b[39;49m\u001b[38;5;28;43;01mTrue\u001b[39;49;00m\u001b[43m)\u001b[49m\n\u001b[1;32m    436\u001b[0m     \u001b[38;5;66;03m# default fill_value is 0 for numerical input and \"missing_value\"\u001b[39;00m\n\u001b[1;32m    437\u001b[0m     \u001b[38;5;66;03m# otherwise\u001b[39;00m\n\u001b[1;32m    438\u001b[0m     \u001b[38;5;28;01mif\u001b[39;00m \u001b[38;5;28mself\u001b[39m\u001b[38;5;241m.\u001b[39mfill_value \u001b[38;5;129;01mis\u001b[39;00m \u001b[38;5;28;01mNone\u001b[39;00m:\n",
            "File \u001b[0;32m~/Documents/EAFIT/Introduction-to-AI/.venv/lib/python3.10/site-packages/sklearn/impute/_base.py:361\u001b[0m, in \u001b[0;36mSimpleImputer._validate_input\u001b[0;34m(self, X, in_fit)\u001b[0m\n\u001b[1;32m    355\u001b[0m \u001b[38;5;28;01mif\u001b[39;00m \u001b[38;5;124m\"\u001b[39m\u001b[38;5;124mcould not convert\u001b[39m\u001b[38;5;124m\"\u001b[39m \u001b[38;5;129;01min\u001b[39;00m \u001b[38;5;28mstr\u001b[39m(ve):\n\u001b[1;32m    356\u001b[0m     new_ve \u001b[38;5;241m=\u001b[39m \u001b[38;5;167;01mValueError\u001b[39;00m(\n\u001b[1;32m    357\u001b[0m         \u001b[38;5;124m\"\u001b[39m\u001b[38;5;124mCannot use \u001b[39m\u001b[38;5;132;01m{}\u001b[39;00m\u001b[38;5;124m strategy with non-numeric data:\u001b[39m\u001b[38;5;130;01m\\n\u001b[39;00m\u001b[38;5;132;01m{}\u001b[39;00m\u001b[38;5;124m\"\u001b[39m\u001b[38;5;241m.\u001b[39mformat(\n\u001b[1;32m    358\u001b[0m             \u001b[38;5;28mself\u001b[39m\u001b[38;5;241m.\u001b[39mstrategy, ve\n\u001b[1;32m    359\u001b[0m         )\n\u001b[1;32m    360\u001b[0m     )\n\u001b[0;32m--> 361\u001b[0m     \u001b[38;5;28;01mraise\u001b[39;00m new_ve \u001b[38;5;28;01mfrom\u001b[39;00m\u001b[38;5;250m \u001b[39m\u001b[38;5;28;01mNone\u001b[39;00m\n\u001b[1;32m    362\u001b[0m \u001b[38;5;28;01melse\u001b[39;00m:\n\u001b[1;32m    363\u001b[0m     \u001b[38;5;28;01mraise\u001b[39;00m ve\n",
            "\u001b[0;31mValueError\u001b[0m: Cannot use median strategy with non-numeric data:\ncould not convert string to float: '<1H OCEAN'"
          ]
        }
      ],
      "source": [
        "pipe.fit(X_train, y_train)"
      ]
    },
    {
      "cell_type": "markdown",
      "metadata": {
        "id": "STU7tq71IVM9"
      },
      "source": [
        "- Esto falla porque tenemos datos no-numéricos\n",
        "- ¿Cómo calcularíamos distancias cuando tenemos datos no-numéricos?"
      ]
    },
    {
      "cell_type": "markdown",
      "metadata": {
        "id": "ZcNjH5CMIg60"
      },
      "source": [
        "## ¿Podemos usar estos datos en nuestro modelo?\n",
        "\n",
        "- En `scikit-learn`, la mayoría de los algoritmos requieren entradas numéricas.\n",
        "- En teoría, los árboles de decisión podrían trabajar con variables categóricas, sin embargo, la implementación en `scikit-learn` no soporta este tipo de datos."
      ]
    },
    {
      "cell_type": "markdown",
      "metadata": {
        "id": "L9eeJJBQI7yo"
      },
      "source": [
        "## ¿Qué opciones tenemos?\n",
        "\n",
        "- Eliminar la columna (no recomendado)\n",
        "  - Si sabes que la columna no es relevante para predecir la variable objetivo, se puede eliminar.\n",
        "- Podemos transformar las variables categóricas en variables numéricas de forma que se puedan utilizar en el modelo.\n",
        " - `OrdinalEncoding:` Asigna un entero a cada una de las categorías que puede tomar la variable (recomendado ocasionalmente por ejemplo en árboles de decisión). \n",
        " - `OneHotEncoding:` Crea tantas nuevas variables como categorías en la variable a transformar (recomendado en la mayoría de los casos). Si tenemos $c$ categorías en nuestra columna, creamos $c$ nuevas columnas binarias para representar estas categorías.  \n",
        "\n",
        "| Índice | Color   |\n",
        "|--------|---------|\n",
        "| 0      | Rojo    |\n",
        "| 1      | Azul    |\n",
        "| 2      | Verde   |\n",
        "| 3      | Azul    |\n",
        "| 4      | Rojo    |\n",
        "| 5      | Verde   |\n",
        "\n",
        "Después de aplicar el `OrdinalEncoding` a la variable categórica `Color`, la tabla resultante se vería así:\n",
        "\n",
        "| Índice | Color_ordinal |\n",
        "|--------|---------------|\n",
        "| 0      | 1             |\n",
        "| 1      | 2             |\n",
        "| 2      | 3             |\n",
        "| 3      | 2             |\n",
        "| 4      | 1             |\n",
        "| 5      | 3             |\n",
        "\n",
        "Después de aplicar el `OneHotEncoding` a la variable categórica `Color`, la tabla resultante se vería así:\n",
        "\n",
        "| Índice | Color_Rojo | Color_Azul | Color_Verde |\n",
        "|--------|------------|------------|-------------|\n",
        "| 0      | 1          | 0          | 0           |\n",
        "| 1      | 0          | 1          | 0           |\n",
        "| 2      | 0          | 0          | 1           |\n",
        "| 3      | 0          | 1          | 0           |\n",
        "| 4      | 1          | 0          | 0           |\n",
        "| 5      | 0          | 0          | 1           |"
      ]
    },
    {
      "cell_type": "markdown",
      "metadata": {
        "id": "cu_R-EBaLjf4"
      },
      "source": [
        "Vamos a aplicar `OneHotEncoding` a nuestros datos"
      ]
    },
    {
      "cell_type": "code",
      "execution_count": 43,
      "metadata": {
        "id": "rp0pK3X4LiyX"
      },
      "outputs": [],
      "source": [
        "ohe = OneHotEncoder(sparse_output=False, dtype=\"int\")\n",
        "ohe.fit(X_train[[\"ocean_proximity\"]])\n",
        "X_imp_ohe_train = ohe.transform(X_train[[\"ocean_proximity\"]])"
      ]
    },
    {
      "cell_type": "markdown",
      "metadata": {
        "id": "o-9ArVOkMcPs"
      },
      "source": [
        "Podemos mirar las nuevas características creadas usando el atributo `categories_`"
      ]
    },
    {
      "cell_type": "code",
      "execution_count": 45,
      "metadata": {
        "colab": {
          "base_uri": "https://localhost:8080/"
        },
        "id": "IMh8yqQ_MkuE",
        "outputId": "e9ce2487-9438-4cec-fae2-49ee8845c940"
      },
      "outputs": [
        {
          "data": {
            "text/plain": [
              "[array(['<1H OCEAN', 'INLAND', 'ISLAND', 'NEAR BAY', 'NEAR OCEAN'],\n",
              "       dtype=object)]"
            ]
          },
          "execution_count": 45,
          "metadata": {},
          "output_type": "execute_result"
        }
      ],
      "source": [
        "ohe.categories_"
      ]
    },
    {
      "cell_type": "code",
      "execution_count": 46,
      "metadata": {
        "colab": {
          "base_uri": "https://localhost:8080/",
          "height": 423
        },
        "id": "BrhSZV9CMvWY",
        "outputId": "07e0d815-d835-4d17-faf7-1ee7a9a02253"
      },
      "outputs": [
        {
          "data": {
            "text/html": [
              "<div>\n",
              "<style scoped>\n",
              "    .dataframe tbody tr th:only-of-type {\n",
              "        vertical-align: middle;\n",
              "    }\n",
              "\n",
              "    .dataframe tbody tr th {\n",
              "        vertical-align: top;\n",
              "    }\n",
              "\n",
              "    .dataframe thead th {\n",
              "        text-align: right;\n",
              "    }\n",
              "</style>\n",
              "<table border=\"1\" class=\"dataframe\">\n",
              "  <thead>\n",
              "    <tr style=\"text-align: right;\">\n",
              "      <th></th>\n",
              "      <th>ocean_proximity_&lt;1H OCEAN</th>\n",
              "      <th>ocean_proximity_INLAND</th>\n",
              "      <th>ocean_proximity_ISLAND</th>\n",
              "      <th>ocean_proximity_NEAR BAY</th>\n",
              "      <th>ocean_proximity_NEAR OCEAN</th>\n",
              "    </tr>\n",
              "  </thead>\n",
              "  <tbody>\n",
              "    <tr>\n",
              "      <th>17854</th>\n",
              "      <td>1</td>\n",
              "      <td>0</td>\n",
              "      <td>0</td>\n",
              "      <td>0</td>\n",
              "      <td>0</td>\n",
              "    </tr>\n",
              "    <tr>\n",
              "      <th>10905</th>\n",
              "      <td>1</td>\n",
              "      <td>0</td>\n",
              "      <td>0</td>\n",
              "      <td>0</td>\n",
              "      <td>0</td>\n",
              "    </tr>\n",
              "    <tr>\n",
              "      <th>12881</th>\n",
              "      <td>0</td>\n",
              "      <td>1</td>\n",
              "      <td>0</td>\n",
              "      <td>0</td>\n",
              "      <td>0</td>\n",
              "    </tr>\n",
              "    <tr>\n",
              "      <th>12280</th>\n",
              "      <td>0</td>\n",
              "      <td>1</td>\n",
              "      <td>0</td>\n",
              "      <td>0</td>\n",
              "      <td>0</td>\n",
              "    </tr>\n",
              "    <tr>\n",
              "      <th>13104</th>\n",
              "      <td>0</td>\n",
              "      <td>1</td>\n",
              "      <td>0</td>\n",
              "      <td>0</td>\n",
              "      <td>0</td>\n",
              "    </tr>\n",
              "    <tr>\n",
              "      <th>...</th>\n",
              "      <td>...</td>\n",
              "      <td>...</td>\n",
              "      <td>...</td>\n",
              "      <td>...</td>\n",
              "      <td>...</td>\n",
              "    </tr>\n",
              "    <tr>\n",
              "      <th>5344</th>\n",
              "      <td>1</td>\n",
              "      <td>0</td>\n",
              "      <td>0</td>\n",
              "      <td>0</td>\n",
              "      <td>0</td>\n",
              "    </tr>\n",
              "    <tr>\n",
              "      <th>177</th>\n",
              "      <td>0</td>\n",
              "      <td>0</td>\n",
              "      <td>0</td>\n",
              "      <td>1</td>\n",
              "      <td>0</td>\n",
              "    </tr>\n",
              "    <tr>\n",
              "      <th>14108</th>\n",
              "      <td>0</td>\n",
              "      <td>0</td>\n",
              "      <td>0</td>\n",
              "      <td>0</td>\n",
              "      <td>1</td>\n",
              "    </tr>\n",
              "    <tr>\n",
              "      <th>8711</th>\n",
              "      <td>1</td>\n",
              "      <td>0</td>\n",
              "      <td>0</td>\n",
              "      <td>0</td>\n",
              "      <td>0</td>\n",
              "    </tr>\n",
              "    <tr>\n",
              "      <th>18303</th>\n",
              "      <td>0</td>\n",
              "      <td>0</td>\n",
              "      <td>0</td>\n",
              "      <td>1</td>\n",
              "      <td>0</td>\n",
              "    </tr>\n",
              "  </tbody>\n",
              "</table>\n",
              "<p>13209 rows × 5 columns</p>\n",
              "</div>"
            ],
            "text/plain": [
              "       ocean_proximity_<1H OCEAN  ocean_proximity_INLAND  \\\n",
              "17854                          1                       0   \n",
              "10905                          1                       0   \n",
              "12881                          0                       1   \n",
              "12280                          0                       1   \n",
              "13104                          0                       1   \n",
              "...                          ...                     ...   \n",
              "5344                           1                       0   \n",
              "177                            0                       0   \n",
              "14108                          0                       0   \n",
              "8711                           1                       0   \n",
              "18303                          0                       0   \n",
              "\n",
              "       ocean_proximity_ISLAND  ocean_proximity_NEAR BAY  \\\n",
              "17854                       0                         0   \n",
              "10905                       0                         0   \n",
              "12881                       0                         0   \n",
              "12280                       0                         0   \n",
              "13104                       0                         0   \n",
              "...                       ...                       ...   \n",
              "5344                        0                         0   \n",
              "177                         0                         1   \n",
              "14108                       0                         0   \n",
              "8711                        0                         0   \n",
              "18303                       0                         1   \n",
              "\n",
              "       ocean_proximity_NEAR OCEAN  \n",
              "17854                           0  \n",
              "10905                           0  \n",
              "12881                           0  \n",
              "12280                           0  \n",
              "13104                           0  \n",
              "...                           ...  \n",
              "5344                            0  \n",
              "177                             0  \n",
              "14108                           1  \n",
              "8711                            0  \n",
              "18303                           0  \n",
              "\n",
              "[13209 rows x 5 columns]"
            ]
          },
          "execution_count": 46,
          "metadata": {},
          "output_type": "execute_result"
        }
      ],
      "source": [
        "transformed_ohe = pd.DataFrame(\n",
        "    data=X_imp_ohe_train,\n",
        "    columns=ohe.get_feature_names_out([\"ocean_proximity\"]),\n",
        "    index=X_train.index,\n",
        ")\n",
        "transformed_ohe"
      ]
    },
    {
      "cell_type": "markdown",
      "metadata": {
        "id": "d0gv8qnXNA4h"
      },
      "source": [
        "Las variables generadas con `OneHotEncoding` se conocen comunmente como **dummy variables**. A menudo se utiliza el método [`get_dummies`](https://pandas.pydata.org/docs/reference/api/pandas.get_dummies.html) de pandas para convertir las variables categóricas en variabes **dummy**. Sin embargo, usar el transformador `OneHotEncoder` de `scikit-learn` tiene la ventaja de hacer el procedimiento fácil de tratar en particiones de entrenamiento, validación y prueba de una forma consistente."
      ]
    },
    {
      "cell_type": "markdown",
      "metadata": {
        "id": "slI-cUZ_OLar"
      },
      "source": [
        "## **`ColumnTransformers` de `scikit-learn`**\n",
        "\n",
        "- En la mayoría de aplicaciones tenemos variables categóricas, continuas, binarias uy/o ordinales.\n",
        "\n",
        "- Cuando queremos desarrollar `pipelines` de aprendizaje de máquina en bases de datos reales, a menudo, queremos aplicar diferentes transformaciones a diferentes columnas.\n",
        "\n",
        "- Para este ejemplo deberíamos aplicar:\n",
        "\n",
        " - Imputación, escalamiento en las variabes numéricas.\n",
        " - One-hot-encoding en la variable categórica"
      ]
    },
    {
      "cell_type": "code",
      "execution_count": 47,
      "metadata": {
        "id": "VcS5K1jGQ8hu"
      },
      "outputs": [],
      "source": [
        "X_train = train_df.drop(columns=[\"median_house_value\"])\n",
        "y_train = train_df[\"median_house_value\"]\n",
        "\n",
        "X_val = val_df.drop(columns=[\"median_house_value\"])\n",
        "y_val = val_df[\"median_house_value\"]\n",
        "\n",
        "X_test = test_df.drop(columns=[\"median_house_value\"])\n",
        "y_test = test_df[\"median_house_value\"]"
      ]
    },
    {
      "cell_type": "markdown",
      "metadata": {
        "id": "Fgufae17PkKq"
      },
      "source": [
        "Vamos a encontrar las variables numéricas y categóricas en nuestros datos"
      ]
    },
    {
      "cell_type": "code",
      "execution_count": 48,
      "metadata": {
        "id": "MI6YAOSePi6R"
      },
      "outputs": [],
      "source": [
        "cat_cols = X_train.select_dtypes(include=object).columns\n",
        "num_cols = X_train.select_dtypes(include=np.number).columns"
      ]
    },
    {
      "cell_type": "markdown",
      "metadata": {
        "id": "yiec4VqoQOIr"
      },
      "source": [
        "Ahora vamos a crear un `ColumnTransformer`"
      ]
    },
    {
      "cell_type": "code",
      "execution_count": 49,
      "metadata": {
        "id": "8tE5rpF2QFmi"
      },
      "outputs": [],
      "source": [
        "from sklearn.compose import ColumnTransformer"
      ]
    },
    {
      "cell_type": "code",
      "execution_count": 50,
      "metadata": {
        "id": "030reRcMQVFu"
      },
      "outputs": [],
      "source": [
        "numeric_transformer = Pipeline(\n",
        "    steps=[(\"imputer\", SimpleImputer(strategy=\"median\")),(\"scaler\", StandardScaler())]\n",
        ")\n",
        "\n",
        "categorical_transformer = Pipeline(\n",
        "    steps=[(\"encoder\", OneHotEncoder(handle_unknown=\"ignore\"))]\n",
        ")\n",
        "\n",
        "preprocessor = ColumnTransformer(\n",
        "    transformers=[\n",
        "        (\"num\", numeric_transformer, num_cols),\n",
        "        (\"cat\", categorical_transformer, cat_cols),\n",
        "    ]\n",
        ")"
      ]
    },
    {
      "cell_type": "code",
      "execution_count": 51,
      "metadata": {
        "id": "hf_bSEZsREkS"
      },
      "outputs": [],
      "source": [
        "transformed = preprocessor.fit_transform(X_train)"
      ]
    },
    {
      "cell_type": "code",
      "execution_count": 52,
      "metadata": {
        "colab": {
          "base_uri": "https://localhost:8080/",
          "height": 151
        },
        "id": "ICeNLHcHVCAM",
        "outputId": "77b030ec-ae66-44f8-df65-608bca8e0684"
      },
      "outputs": [
        {
          "data": {
            "text/html": [
              "<style>#sk-container-id-2 {\n",
              "  /* Definition of color scheme common for light and dark mode */\n",
              "  --sklearn-color-text: #000;\n",
              "  --sklearn-color-text-muted: #666;\n",
              "  --sklearn-color-line: gray;\n",
              "  /* Definition of color scheme for unfitted estimators */\n",
              "  --sklearn-color-unfitted-level-0: #fff5e6;\n",
              "  --sklearn-color-unfitted-level-1: #f6e4d2;\n",
              "  --sklearn-color-unfitted-level-2: #ffe0b3;\n",
              "  --sklearn-color-unfitted-level-3: chocolate;\n",
              "  /* Definition of color scheme for fitted estimators */\n",
              "  --sklearn-color-fitted-level-0: #f0f8ff;\n",
              "  --sklearn-color-fitted-level-1: #d4ebff;\n",
              "  --sklearn-color-fitted-level-2: #b3dbfd;\n",
              "  --sklearn-color-fitted-level-3: cornflowerblue;\n",
              "\n",
              "  /* Specific color for light theme */\n",
              "  --sklearn-color-text-on-default-background: var(--sg-text-color, var(--theme-code-foreground, var(--jp-content-font-color1, black)));\n",
              "  --sklearn-color-background: var(--sg-background-color, var(--theme-background, var(--jp-layout-color0, white)));\n",
              "  --sklearn-color-border-box: var(--sg-text-color, var(--theme-code-foreground, var(--jp-content-font-color1, black)));\n",
              "  --sklearn-color-icon: #696969;\n",
              "\n",
              "  @media (prefers-color-scheme: dark) {\n",
              "    /* Redefinition of color scheme for dark theme */\n",
              "    --sklearn-color-text-on-default-background: var(--sg-text-color, var(--theme-code-foreground, var(--jp-content-font-color1, white)));\n",
              "    --sklearn-color-background: var(--sg-background-color, var(--theme-background, var(--jp-layout-color0, #111)));\n",
              "    --sklearn-color-border-box: var(--sg-text-color, var(--theme-code-foreground, var(--jp-content-font-color1, white)));\n",
              "    --sklearn-color-icon: #878787;\n",
              "  }\n",
              "}\n",
              "\n",
              "#sk-container-id-2 {\n",
              "  color: var(--sklearn-color-text);\n",
              "}\n",
              "\n",
              "#sk-container-id-2 pre {\n",
              "  padding: 0;\n",
              "}\n",
              "\n",
              "#sk-container-id-2 input.sk-hidden--visually {\n",
              "  border: 0;\n",
              "  clip: rect(1px 1px 1px 1px);\n",
              "  clip: rect(1px, 1px, 1px, 1px);\n",
              "  height: 1px;\n",
              "  margin: -1px;\n",
              "  overflow: hidden;\n",
              "  padding: 0;\n",
              "  position: absolute;\n",
              "  width: 1px;\n",
              "}\n",
              "\n",
              "#sk-container-id-2 div.sk-dashed-wrapped {\n",
              "  border: 1px dashed var(--sklearn-color-line);\n",
              "  margin: 0 0.4em 0.5em 0.4em;\n",
              "  box-sizing: border-box;\n",
              "  padding-bottom: 0.4em;\n",
              "  background-color: var(--sklearn-color-background);\n",
              "}\n",
              "\n",
              "#sk-container-id-2 div.sk-container {\n",
              "  /* jupyter's `normalize.less` sets `[hidden] { display: none; }`\n",
              "     but bootstrap.min.css set `[hidden] { display: none !important; }`\n",
              "     so we also need the `!important` here to be able to override the\n",
              "     default hidden behavior on the sphinx rendered scikit-learn.org.\n",
              "     See: https://github.com/scikit-learn/scikit-learn/issues/21755 */\n",
              "  display: inline-block !important;\n",
              "  position: relative;\n",
              "}\n",
              "\n",
              "#sk-container-id-2 div.sk-text-repr-fallback {\n",
              "  display: none;\n",
              "}\n",
              "\n",
              "div.sk-parallel-item,\n",
              "div.sk-serial,\n",
              "div.sk-item {\n",
              "  /* draw centered vertical line to link estimators */\n",
              "  background-image: linear-gradient(var(--sklearn-color-text-on-default-background), var(--sklearn-color-text-on-default-background));\n",
              "  background-size: 2px 100%;\n",
              "  background-repeat: no-repeat;\n",
              "  background-position: center center;\n",
              "}\n",
              "\n",
              "/* Parallel-specific style estimator block */\n",
              "\n",
              "#sk-container-id-2 div.sk-parallel-item::after {\n",
              "  content: \"\";\n",
              "  width: 100%;\n",
              "  border-bottom: 2px solid var(--sklearn-color-text-on-default-background);\n",
              "  flex-grow: 1;\n",
              "}\n",
              "\n",
              "#sk-container-id-2 div.sk-parallel {\n",
              "  display: flex;\n",
              "  align-items: stretch;\n",
              "  justify-content: center;\n",
              "  background-color: var(--sklearn-color-background);\n",
              "  position: relative;\n",
              "}\n",
              "\n",
              "#sk-container-id-2 div.sk-parallel-item {\n",
              "  display: flex;\n",
              "  flex-direction: column;\n",
              "}\n",
              "\n",
              "#sk-container-id-2 div.sk-parallel-item:first-child::after {\n",
              "  align-self: flex-end;\n",
              "  width: 50%;\n",
              "}\n",
              "\n",
              "#sk-container-id-2 div.sk-parallel-item:last-child::after {\n",
              "  align-self: flex-start;\n",
              "  width: 50%;\n",
              "}\n",
              "\n",
              "#sk-container-id-2 div.sk-parallel-item:only-child::after {\n",
              "  width: 0;\n",
              "}\n",
              "\n",
              "/* Serial-specific style estimator block */\n",
              "\n",
              "#sk-container-id-2 div.sk-serial {\n",
              "  display: flex;\n",
              "  flex-direction: column;\n",
              "  align-items: center;\n",
              "  background-color: var(--sklearn-color-background);\n",
              "  padding-right: 1em;\n",
              "  padding-left: 1em;\n",
              "}\n",
              "\n",
              "\n",
              "/* Toggleable style: style used for estimator/Pipeline/ColumnTransformer box that is\n",
              "clickable and can be expanded/collapsed.\n",
              "- Pipeline and ColumnTransformer use this feature and define the default style\n",
              "- Estimators will overwrite some part of the style using the `sk-estimator` class\n",
              "*/\n",
              "\n",
              "/* Pipeline and ColumnTransformer style (default) */\n",
              "\n",
              "#sk-container-id-2 div.sk-toggleable {\n",
              "  /* Default theme specific background. It is overwritten whether we have a\n",
              "  specific estimator or a Pipeline/ColumnTransformer */\n",
              "  background-color: var(--sklearn-color-background);\n",
              "}\n",
              "\n",
              "/* Toggleable label */\n",
              "#sk-container-id-2 label.sk-toggleable__label {\n",
              "  cursor: pointer;\n",
              "  display: flex;\n",
              "  width: 100%;\n",
              "  margin-bottom: 0;\n",
              "  padding: 0.5em;\n",
              "  box-sizing: border-box;\n",
              "  text-align: center;\n",
              "  align-items: start;\n",
              "  justify-content: space-between;\n",
              "  gap: 0.5em;\n",
              "}\n",
              "\n",
              "#sk-container-id-2 label.sk-toggleable__label .caption {\n",
              "  font-size: 0.6rem;\n",
              "  font-weight: lighter;\n",
              "  color: var(--sklearn-color-text-muted);\n",
              "}\n",
              "\n",
              "#sk-container-id-2 label.sk-toggleable__label-arrow:before {\n",
              "  /* Arrow on the left of the label */\n",
              "  content: \"▸\";\n",
              "  float: left;\n",
              "  margin-right: 0.25em;\n",
              "  color: var(--sklearn-color-icon);\n",
              "}\n",
              "\n",
              "#sk-container-id-2 label.sk-toggleable__label-arrow:hover:before {\n",
              "  color: var(--sklearn-color-text);\n",
              "}\n",
              "\n",
              "/* Toggleable content - dropdown */\n",
              "\n",
              "#sk-container-id-2 div.sk-toggleable__content {\n",
              "  max-height: 0;\n",
              "  max-width: 0;\n",
              "  overflow: hidden;\n",
              "  text-align: left;\n",
              "  /* unfitted */\n",
              "  background-color: var(--sklearn-color-unfitted-level-0);\n",
              "}\n",
              "\n",
              "#sk-container-id-2 div.sk-toggleable__content.fitted {\n",
              "  /* fitted */\n",
              "  background-color: var(--sklearn-color-fitted-level-0);\n",
              "}\n",
              "\n",
              "#sk-container-id-2 div.sk-toggleable__content pre {\n",
              "  margin: 0.2em;\n",
              "  border-radius: 0.25em;\n",
              "  color: var(--sklearn-color-text);\n",
              "  /* unfitted */\n",
              "  background-color: var(--sklearn-color-unfitted-level-0);\n",
              "}\n",
              "\n",
              "#sk-container-id-2 div.sk-toggleable__content.fitted pre {\n",
              "  /* unfitted */\n",
              "  background-color: var(--sklearn-color-fitted-level-0);\n",
              "}\n",
              "\n",
              "#sk-container-id-2 input.sk-toggleable__control:checked~div.sk-toggleable__content {\n",
              "  /* Expand drop-down */\n",
              "  max-height: 200px;\n",
              "  max-width: 100%;\n",
              "  overflow: auto;\n",
              "}\n",
              "\n",
              "#sk-container-id-2 input.sk-toggleable__control:checked~label.sk-toggleable__label-arrow:before {\n",
              "  content: \"▾\";\n",
              "}\n",
              "\n",
              "/* Pipeline/ColumnTransformer-specific style */\n",
              "\n",
              "#sk-container-id-2 div.sk-label input.sk-toggleable__control:checked~label.sk-toggleable__label {\n",
              "  color: var(--sklearn-color-text);\n",
              "  background-color: var(--sklearn-color-unfitted-level-2);\n",
              "}\n",
              "\n",
              "#sk-container-id-2 div.sk-label.fitted input.sk-toggleable__control:checked~label.sk-toggleable__label {\n",
              "  background-color: var(--sklearn-color-fitted-level-2);\n",
              "}\n",
              "\n",
              "/* Estimator-specific style */\n",
              "\n",
              "/* Colorize estimator box */\n",
              "#sk-container-id-2 div.sk-estimator input.sk-toggleable__control:checked~label.sk-toggleable__label {\n",
              "  /* unfitted */\n",
              "  background-color: var(--sklearn-color-unfitted-level-2);\n",
              "}\n",
              "\n",
              "#sk-container-id-2 div.sk-estimator.fitted input.sk-toggleable__control:checked~label.sk-toggleable__label {\n",
              "  /* fitted */\n",
              "  background-color: var(--sklearn-color-fitted-level-2);\n",
              "}\n",
              "\n",
              "#sk-container-id-2 div.sk-label label.sk-toggleable__label,\n",
              "#sk-container-id-2 div.sk-label label {\n",
              "  /* The background is the default theme color */\n",
              "  color: var(--sklearn-color-text-on-default-background);\n",
              "}\n",
              "\n",
              "/* On hover, darken the color of the background */\n",
              "#sk-container-id-2 div.sk-label:hover label.sk-toggleable__label {\n",
              "  color: var(--sklearn-color-text);\n",
              "  background-color: var(--sklearn-color-unfitted-level-2);\n",
              "}\n",
              "\n",
              "/* Label box, darken color on hover, fitted */\n",
              "#sk-container-id-2 div.sk-label.fitted:hover label.sk-toggleable__label.fitted {\n",
              "  color: var(--sklearn-color-text);\n",
              "  background-color: var(--sklearn-color-fitted-level-2);\n",
              "}\n",
              "\n",
              "/* Estimator label */\n",
              "\n",
              "#sk-container-id-2 div.sk-label label {\n",
              "  font-family: monospace;\n",
              "  font-weight: bold;\n",
              "  display: inline-block;\n",
              "  line-height: 1.2em;\n",
              "}\n",
              "\n",
              "#sk-container-id-2 div.sk-label-container {\n",
              "  text-align: center;\n",
              "}\n",
              "\n",
              "/* Estimator-specific */\n",
              "#sk-container-id-2 div.sk-estimator {\n",
              "  font-family: monospace;\n",
              "  border: 1px dotted var(--sklearn-color-border-box);\n",
              "  border-radius: 0.25em;\n",
              "  box-sizing: border-box;\n",
              "  margin-bottom: 0.5em;\n",
              "  /* unfitted */\n",
              "  background-color: var(--sklearn-color-unfitted-level-0);\n",
              "}\n",
              "\n",
              "#sk-container-id-2 div.sk-estimator.fitted {\n",
              "  /* fitted */\n",
              "  background-color: var(--sklearn-color-fitted-level-0);\n",
              "}\n",
              "\n",
              "/* on hover */\n",
              "#sk-container-id-2 div.sk-estimator:hover {\n",
              "  /* unfitted */\n",
              "  background-color: var(--sklearn-color-unfitted-level-2);\n",
              "}\n",
              "\n",
              "#sk-container-id-2 div.sk-estimator.fitted:hover {\n",
              "  /* fitted */\n",
              "  background-color: var(--sklearn-color-fitted-level-2);\n",
              "}\n",
              "\n",
              "/* Specification for estimator info (e.g. \"i\" and \"?\") */\n",
              "\n",
              "/* Common style for \"i\" and \"?\" */\n",
              "\n",
              ".sk-estimator-doc-link,\n",
              "a:link.sk-estimator-doc-link,\n",
              "a:visited.sk-estimator-doc-link {\n",
              "  float: right;\n",
              "  font-size: smaller;\n",
              "  line-height: 1em;\n",
              "  font-family: monospace;\n",
              "  background-color: var(--sklearn-color-background);\n",
              "  border-radius: 1em;\n",
              "  height: 1em;\n",
              "  width: 1em;\n",
              "  text-decoration: none !important;\n",
              "  margin-left: 0.5em;\n",
              "  text-align: center;\n",
              "  /* unfitted */\n",
              "  border: var(--sklearn-color-unfitted-level-1) 1pt solid;\n",
              "  color: var(--sklearn-color-unfitted-level-1);\n",
              "}\n",
              "\n",
              ".sk-estimator-doc-link.fitted,\n",
              "a:link.sk-estimator-doc-link.fitted,\n",
              "a:visited.sk-estimator-doc-link.fitted {\n",
              "  /* fitted */\n",
              "  border: var(--sklearn-color-fitted-level-1) 1pt solid;\n",
              "  color: var(--sklearn-color-fitted-level-1);\n",
              "}\n",
              "\n",
              "/* On hover */\n",
              "div.sk-estimator:hover .sk-estimator-doc-link:hover,\n",
              ".sk-estimator-doc-link:hover,\n",
              "div.sk-label-container:hover .sk-estimator-doc-link:hover,\n",
              ".sk-estimator-doc-link:hover {\n",
              "  /* unfitted */\n",
              "  background-color: var(--sklearn-color-unfitted-level-3);\n",
              "  color: var(--sklearn-color-background);\n",
              "  text-decoration: none;\n",
              "}\n",
              "\n",
              "div.sk-estimator.fitted:hover .sk-estimator-doc-link.fitted:hover,\n",
              ".sk-estimator-doc-link.fitted:hover,\n",
              "div.sk-label-container:hover .sk-estimator-doc-link.fitted:hover,\n",
              ".sk-estimator-doc-link.fitted:hover {\n",
              "  /* fitted */\n",
              "  background-color: var(--sklearn-color-fitted-level-3);\n",
              "  color: var(--sklearn-color-background);\n",
              "  text-decoration: none;\n",
              "}\n",
              "\n",
              "/* Span, style for the box shown on hovering the info icon */\n",
              ".sk-estimator-doc-link span {\n",
              "  display: none;\n",
              "  z-index: 9999;\n",
              "  position: relative;\n",
              "  font-weight: normal;\n",
              "  right: .2ex;\n",
              "  padding: .5ex;\n",
              "  margin: .5ex;\n",
              "  width: min-content;\n",
              "  min-width: 20ex;\n",
              "  max-width: 50ex;\n",
              "  color: var(--sklearn-color-text);\n",
              "  box-shadow: 2pt 2pt 4pt #999;\n",
              "  /* unfitted */\n",
              "  background: var(--sklearn-color-unfitted-level-0);\n",
              "  border: .5pt solid var(--sklearn-color-unfitted-level-3);\n",
              "}\n",
              "\n",
              ".sk-estimator-doc-link.fitted span {\n",
              "  /* fitted */\n",
              "  background: var(--sklearn-color-fitted-level-0);\n",
              "  border: var(--sklearn-color-fitted-level-3);\n",
              "}\n",
              "\n",
              ".sk-estimator-doc-link:hover span {\n",
              "  display: block;\n",
              "}\n",
              "\n",
              "/* \"?\"-specific style due to the `<a>` HTML tag */\n",
              "\n",
              "#sk-container-id-2 a.estimator_doc_link {\n",
              "  float: right;\n",
              "  font-size: 1rem;\n",
              "  line-height: 1em;\n",
              "  font-family: monospace;\n",
              "  background-color: var(--sklearn-color-background);\n",
              "  border-radius: 1rem;\n",
              "  height: 1rem;\n",
              "  width: 1rem;\n",
              "  text-decoration: none;\n",
              "  /* unfitted */\n",
              "  color: var(--sklearn-color-unfitted-level-1);\n",
              "  border: var(--sklearn-color-unfitted-level-1) 1pt solid;\n",
              "}\n",
              "\n",
              "#sk-container-id-2 a.estimator_doc_link.fitted {\n",
              "  /* fitted */\n",
              "  border: var(--sklearn-color-fitted-level-1) 1pt solid;\n",
              "  color: var(--sklearn-color-fitted-level-1);\n",
              "}\n",
              "\n",
              "/* On hover */\n",
              "#sk-container-id-2 a.estimator_doc_link:hover {\n",
              "  /* unfitted */\n",
              "  background-color: var(--sklearn-color-unfitted-level-3);\n",
              "  color: var(--sklearn-color-background);\n",
              "  text-decoration: none;\n",
              "}\n",
              "\n",
              "#sk-container-id-2 a.estimator_doc_link.fitted:hover {\n",
              "  /* fitted */\n",
              "  background-color: var(--sklearn-color-fitted-level-3);\n",
              "}\n",
              "</style><div id=\"sk-container-id-2\" class=\"sk-top-container\"><div class=\"sk-text-repr-fallback\"><pre>ColumnTransformer(transformers=[(&#x27;num&#x27;,\n",
              "                                 Pipeline(steps=[(&#x27;imputer&#x27;,\n",
              "                                                  SimpleImputer(strategy=&#x27;median&#x27;)),\n",
              "                                                 (&#x27;scaler&#x27;, StandardScaler())]),\n",
              "                                 Index([&#x27;longitude&#x27;, &#x27;latitude&#x27;, &#x27;housing_median_age&#x27;, &#x27;total_rooms&#x27;,\n",
              "       &#x27;total_bedrooms&#x27;, &#x27;population&#x27;, &#x27;households&#x27;, &#x27;median_income&#x27;,\n",
              "       &#x27;rooms_per_household&#x27;, &#x27;bedrooms_per_household&#x27;,\n",
              "       &#x27;population_per_household&#x27;],\n",
              "      dtype=&#x27;object&#x27;)),\n",
              "                                (&#x27;cat&#x27;,\n",
              "                                 Pipeline(steps=[(&#x27;encoder&#x27;,\n",
              "                                                  OneHotEncoder(handle_unknown=&#x27;ignore&#x27;))]),\n",
              "                                 Index([&#x27;ocean_proximity&#x27;], dtype=&#x27;object&#x27;))])</pre><b>In a Jupyter environment, please rerun this cell to show the HTML representation or trust the notebook. <br />On GitHub, the HTML representation is unable to render, please try loading this page with nbviewer.org.</b></div><div class=\"sk-container\" hidden><div class=\"sk-item sk-dashed-wrapped\"><div class=\"sk-label-container\"><div class=\"sk-label fitted sk-toggleable\"><input class=\"sk-toggleable__control sk-hidden--visually\" id=\"sk-estimator-id-5\" type=\"checkbox\" ><label for=\"sk-estimator-id-5\" class=\"sk-toggleable__label fitted sk-toggleable__label-arrow\"><div><div>ColumnTransformer</div></div><div><a class=\"sk-estimator-doc-link fitted\" rel=\"noreferrer\" target=\"_blank\" href=\"https://scikit-learn.org/1.6/modules/generated/sklearn.compose.ColumnTransformer.html\">?<span>Documentation for ColumnTransformer</span></a><span class=\"sk-estimator-doc-link fitted\">i<span>Fitted</span></span></div></label><div class=\"sk-toggleable__content fitted\"><pre>ColumnTransformer(transformers=[(&#x27;num&#x27;,\n",
              "                                 Pipeline(steps=[(&#x27;imputer&#x27;,\n",
              "                                                  SimpleImputer(strategy=&#x27;median&#x27;)),\n",
              "                                                 (&#x27;scaler&#x27;, StandardScaler())]),\n",
              "                                 Index([&#x27;longitude&#x27;, &#x27;latitude&#x27;, &#x27;housing_median_age&#x27;, &#x27;total_rooms&#x27;,\n",
              "       &#x27;total_bedrooms&#x27;, &#x27;population&#x27;, &#x27;households&#x27;, &#x27;median_income&#x27;,\n",
              "       &#x27;rooms_per_household&#x27;, &#x27;bedrooms_per_household&#x27;,\n",
              "       &#x27;population_per_household&#x27;],\n",
              "      dtype=&#x27;object&#x27;)),\n",
              "                                (&#x27;cat&#x27;,\n",
              "                                 Pipeline(steps=[(&#x27;encoder&#x27;,\n",
              "                                                  OneHotEncoder(handle_unknown=&#x27;ignore&#x27;))]),\n",
              "                                 Index([&#x27;ocean_proximity&#x27;], dtype=&#x27;object&#x27;))])</pre></div> </div></div><div class=\"sk-parallel\"><div class=\"sk-parallel-item\"><div class=\"sk-item\"><div class=\"sk-label-container\"><div class=\"sk-label fitted sk-toggleable\"><input class=\"sk-toggleable__control sk-hidden--visually\" id=\"sk-estimator-id-6\" type=\"checkbox\" ><label for=\"sk-estimator-id-6\" class=\"sk-toggleable__label fitted sk-toggleable__label-arrow\"><div><div>num</div></div></label><div class=\"sk-toggleable__content fitted\"><pre>Index([&#x27;longitude&#x27;, &#x27;latitude&#x27;, &#x27;housing_median_age&#x27;, &#x27;total_rooms&#x27;,\n",
              "       &#x27;total_bedrooms&#x27;, &#x27;population&#x27;, &#x27;households&#x27;, &#x27;median_income&#x27;,\n",
              "       &#x27;rooms_per_household&#x27;, &#x27;bedrooms_per_household&#x27;,\n",
              "       &#x27;population_per_household&#x27;],\n",
              "      dtype=&#x27;object&#x27;)</pre></div> </div></div><div class=\"sk-serial\"><div class=\"sk-item\"><div class=\"sk-serial\"><div class=\"sk-item\"><div class=\"sk-estimator fitted sk-toggleable\"><input class=\"sk-toggleable__control sk-hidden--visually\" id=\"sk-estimator-id-7\" type=\"checkbox\" ><label for=\"sk-estimator-id-7\" class=\"sk-toggleable__label fitted sk-toggleable__label-arrow\"><div><div>SimpleImputer</div></div><div><a class=\"sk-estimator-doc-link fitted\" rel=\"noreferrer\" target=\"_blank\" href=\"https://scikit-learn.org/1.6/modules/generated/sklearn.impute.SimpleImputer.html\">?<span>Documentation for SimpleImputer</span></a></div></label><div class=\"sk-toggleable__content fitted\"><pre>SimpleImputer(strategy=&#x27;median&#x27;)</pre></div> </div></div><div class=\"sk-item\"><div class=\"sk-estimator fitted sk-toggleable\"><input class=\"sk-toggleable__control sk-hidden--visually\" id=\"sk-estimator-id-8\" type=\"checkbox\" ><label for=\"sk-estimator-id-8\" class=\"sk-toggleable__label fitted sk-toggleable__label-arrow\"><div><div>StandardScaler</div></div><div><a class=\"sk-estimator-doc-link fitted\" rel=\"noreferrer\" target=\"_blank\" href=\"https://scikit-learn.org/1.6/modules/generated/sklearn.preprocessing.StandardScaler.html\">?<span>Documentation for StandardScaler</span></a></div></label><div class=\"sk-toggleable__content fitted\"><pre>StandardScaler()</pre></div> </div></div></div></div></div></div></div><div class=\"sk-parallel-item\"><div class=\"sk-item\"><div class=\"sk-label-container\"><div class=\"sk-label fitted sk-toggleable\"><input class=\"sk-toggleable__control sk-hidden--visually\" id=\"sk-estimator-id-9\" type=\"checkbox\" ><label for=\"sk-estimator-id-9\" class=\"sk-toggleable__label fitted sk-toggleable__label-arrow\"><div><div>cat</div></div></label><div class=\"sk-toggleable__content fitted\"><pre>Index([&#x27;ocean_proximity&#x27;], dtype=&#x27;object&#x27;)</pre></div> </div></div><div class=\"sk-serial\"><div class=\"sk-item\"><div class=\"sk-serial\"><div class=\"sk-item\"><div class=\"sk-estimator fitted sk-toggleable\"><input class=\"sk-toggleable__control sk-hidden--visually\" id=\"sk-estimator-id-10\" type=\"checkbox\" ><label for=\"sk-estimator-id-10\" class=\"sk-toggleable__label fitted sk-toggleable__label-arrow\"><div><div>OneHotEncoder</div></div><div><a class=\"sk-estimator-doc-link fitted\" rel=\"noreferrer\" target=\"_blank\" href=\"https://scikit-learn.org/1.6/modules/generated/sklearn.preprocessing.OneHotEncoder.html\">?<span>Documentation for OneHotEncoder</span></a></div></label><div class=\"sk-toggleable__content fitted\"><pre>OneHotEncoder(handle_unknown=&#x27;ignore&#x27;)</pre></div> </div></div></div></div></div></div></div></div></div></div></div>"
            ],
            "text/plain": [
              "ColumnTransformer(transformers=[('num',\n",
              "                                 Pipeline(steps=[('imputer',\n",
              "                                                  SimpleImputer(strategy='median')),\n",
              "                                                 ('scaler', StandardScaler())]),\n",
              "                                 Index(['longitude', 'latitude', 'housing_median_age', 'total_rooms',\n",
              "       'total_bedrooms', 'population', 'households', 'median_income',\n",
              "       'rooms_per_household', 'bedrooms_per_household',\n",
              "       'population_per_household'],\n",
              "      dtype='object')),\n",
              "                                ('cat',\n",
              "                                 Pipeline(steps=[('encoder',\n",
              "                                                  OneHotEncoder(handle_unknown='ignore'))]),\n",
              "                                 Index(['ocean_proximity'], dtype='object'))])"
            ]
          },
          "execution_count": 52,
          "metadata": {},
          "output_type": "execute_result"
        }
      ],
      "source": [
        "preprocessor"
      ]
    },
    {
      "cell_type": "markdown",
      "metadata": {
        "id": "OU0B-o0iVHOL"
      },
      "source": [
        "- Cuando aplicamos `fit`, cada `transformer` se aplica a las columnas especificadas y el resultado de las transformaciones se concatena de forma horizontal.\n",
        "\n",
        "- Una ventaja es que creamos nuestras transformaciones en un solo objeto, de esta forma, nos aseguramos que se aplique el mismo procedimiento a las diferentes particiones de los datos."
      ]
    },
    {
      "cell_type": "markdown",
      "metadata": {
        "id": "2yk5PjBmVldf"
      },
      "source": [
        "¿Cómo vemos los datos transformados como un `dataframe`?\n",
        "\n",
        "- Estamos agregando más columnas, así que las columnas originales no coinciden con los datos transformados.\n",
        "- Creemos nombres de columnas para los nuevos datos"
      ]
    },
    {
      "cell_type": "code",
      "execution_count": 53,
      "metadata": {
        "colab": {
          "base_uri": "https://localhost:8080/"
        },
        "id": "Tnt_trgnV7FH",
        "outputId": "f639e05b-ca6a-4239-c623-8ec3bdef7bc2"
      },
      "outputs": [
        {
          "data": {
            "text/plain": [
              "['longitude',\n",
              " 'latitude',\n",
              " 'housing_median_age',\n",
              " 'total_rooms',\n",
              " 'total_bedrooms',\n",
              " 'population',\n",
              " 'households',\n",
              " 'median_income',\n",
              " 'rooms_per_household',\n",
              " 'bedrooms_per_household',\n",
              " 'population_per_household',\n",
              " 'ocean_proximity_<1H OCEAN',\n",
              " 'ocean_proximity_INLAND',\n",
              " 'ocean_proximity_ISLAND',\n",
              " 'ocean_proximity_NEAR BAY',\n",
              " 'ocean_proximity_NEAR OCEAN']"
            ]
          },
          "execution_count": 53,
          "metadata": {},
          "output_type": "execute_result"
        }
      ],
      "source": [
        "column_names = (\n",
        "    num_cols.to_list()   \n",
        "    + preprocessor.named_transformers_['cat'].named_steps['encoder'].get_feature_names_out().tolist()\n",
        ")\n",
        "column_names"
      ]
    },
    {
      "cell_type": "code",
      "execution_count": 54,
      "metadata": {
        "colab": {
          "base_uri": "https://localhost:8080/"
        },
        "id": "e1VujGKLXUvu",
        "outputId": "06f53c08-a4d4-43d3-f946-f95bc07315bb"
      },
      "outputs": [
        {
          "data": {
            "text/plain": [
              "{'num': Pipeline(steps=[('imputer', SimpleImputer(strategy='median')),\n",
              "                 ('scaler', StandardScaler())]),\n",
              " 'cat': Pipeline(steps=[('encoder', OneHotEncoder(handle_unknown='ignore'))])}"
            ]
          },
          "execution_count": 54,
          "metadata": {},
          "output_type": "execute_result"
        }
      ],
      "source": [
        "preprocessor.named_transformers_"
      ]
    },
    {
      "cell_type": "code",
      "execution_count": 55,
      "metadata": {
        "colab": {
          "base_uri": "https://localhost:8080/",
          "height": 505
        },
        "id": "qAM0fljOXgbf",
        "outputId": "a0fea81b-0ee7-40d2-f20a-2b892dca101b"
      },
      "outputs": [
        {
          "data": {
            "text/html": [
              "<div>\n",
              "<style scoped>\n",
              "    .dataframe tbody tr th:only-of-type {\n",
              "        vertical-align: middle;\n",
              "    }\n",
              "\n",
              "    .dataframe tbody tr th {\n",
              "        vertical-align: top;\n",
              "    }\n",
              "\n",
              "    .dataframe thead th {\n",
              "        text-align: right;\n",
              "    }\n",
              "</style>\n",
              "<table border=\"1\" class=\"dataframe\">\n",
              "  <thead>\n",
              "    <tr style=\"text-align: right;\">\n",
              "      <th></th>\n",
              "      <th>longitude</th>\n",
              "      <th>latitude</th>\n",
              "      <th>housing_median_age</th>\n",
              "      <th>total_rooms</th>\n",
              "      <th>total_bedrooms</th>\n",
              "      <th>population</th>\n",
              "      <th>households</th>\n",
              "      <th>median_income</th>\n",
              "      <th>rooms_per_household</th>\n",
              "      <th>bedrooms_per_household</th>\n",
              "      <th>population_per_household</th>\n",
              "      <th>ocean_proximity_&lt;1H OCEAN</th>\n",
              "      <th>ocean_proximity_INLAND</th>\n",
              "      <th>ocean_proximity_ISLAND</th>\n",
              "      <th>ocean_proximity_NEAR BAY</th>\n",
              "      <th>ocean_proximity_NEAR OCEAN</th>\n",
              "    </tr>\n",
              "  </thead>\n",
              "  <tbody>\n",
              "    <tr>\n",
              "      <th>0</th>\n",
              "      <td>-1.159335</td>\n",
              "      <td>0.857026</td>\n",
              "      <td>-1.877350</td>\n",
              "      <td>-0.524079</td>\n",
              "      <td>-0.844724</td>\n",
              "      <td>-0.664114</td>\n",
              "      <td>-0.829604</td>\n",
              "      <td>3.395843</td>\n",
              "      <td>1.170051</td>\n",
              "      <td>-0.223054</td>\n",
              "      <td>0.067133</td>\n",
              "      <td>1.0</td>\n",
              "      <td>0.0</td>\n",
              "      <td>0.0</td>\n",
              "      <td>0.0</td>\n",
              "      <td>0.0</td>\n",
              "    </tr>\n",
              "    <tr>\n",
              "      <th>1</th>\n",
              "      <td>0.853958</td>\n",
              "      <td>-0.874461</td>\n",
              "      <td>-1.081706</td>\n",
              "      <td>-0.832481</td>\n",
              "      <td>-0.580594</td>\n",
              "      <td>-0.100168</td>\n",
              "      <td>-0.652057</td>\n",
              "      <td>-0.546466</td>\n",
              "      <td>-0.879506</td>\n",
              "      <td>0.176602</td>\n",
              "      <td>0.196996</td>\n",
              "      <td>1.0</td>\n",
              "      <td>0.0</td>\n",
              "      <td>0.0</td>\n",
              "      <td>0.0</td>\n",
              "      <td>0.0</td>\n",
              "    </tr>\n",
              "    <tr>\n",
              "      <th>2</th>\n",
              "      <td>-0.884568</td>\n",
              "      <td>1.427949</td>\n",
              "      <td>-0.047369</td>\n",
              "      <td>0.334644</td>\n",
              "      <td>0.026191</td>\n",
              "      <td>0.096896</td>\n",
              "      <td>0.136457</td>\n",
              "      <td>0.208175</td>\n",
              "      <td>0.280941</td>\n",
              "      <td>-0.240038</td>\n",
              "      <td>-0.025045</td>\n",
              "      <td>0.0</td>\n",
              "      <td>1.0</td>\n",
              "      <td>0.0</td>\n",
              "      <td>0.0</td>\n",
              "      <td>0.0</td>\n",
              "    </tr>\n",
              "    <tr>\n",
              "      <th>3</th>\n",
              "      <td>1.288590</td>\n",
              "      <td>-0.799586</td>\n",
              "      <td>-0.206498</td>\n",
              "      <td>-0.993145</td>\n",
              "      <td>-1.123132</td>\n",
              "      <td>-1.038262</td>\n",
              "      <td>-1.161198</td>\n",
              "      <td>-0.087333</td>\n",
              "      <td>1.322719</td>\n",
              "      <td>0.177075</td>\n",
              "      <td>0.173898</td>\n",
              "      <td>0.0</td>\n",
              "      <td>1.0</td>\n",
              "      <td>0.0</td>\n",
              "      <td>0.0</td>\n",
              "      <td>0.0</td>\n",
              "    </tr>\n",
              "    <tr>\n",
              "      <th>4</th>\n",
              "      <td>-0.874576</td>\n",
              "      <td>1.301598</td>\n",
              "      <td>-0.922577</td>\n",
              "      <td>0.806480</td>\n",
              "      <td>0.271285</td>\n",
              "      <td>0.484666</td>\n",
              "      <td>0.353168</td>\n",
              "      <td>1.017217</td>\n",
              "      <td>0.625629</td>\n",
              "      <td>-0.163943</td>\n",
              "      <td>0.002901</td>\n",
              "      <td>0.0</td>\n",
              "      <td>1.0</td>\n",
              "      <td>0.0</td>\n",
              "      <td>0.0</td>\n",
              "      <td>0.0</td>\n",
              "    </tr>\n",
              "    <tr>\n",
              "      <th>...</th>\n",
              "      <td>...</td>\n",
              "      <td>...</td>\n",
              "      <td>...</td>\n",
              "      <td>...</td>\n",
              "      <td>...</td>\n",
              "      <td>...</td>\n",
              "      <td>...</td>\n",
              "      <td>...</td>\n",
              "      <td>...</td>\n",
              "      <td>...</td>\n",
              "      <td>...</td>\n",
              "      <td>...</td>\n",
              "      <td>...</td>\n",
              "      <td>...</td>\n",
              "      <td>...</td>\n",
              "      <td>...</td>\n",
              "    </tr>\n",
              "    <tr>\n",
              "      <th>13204</th>\n",
              "      <td>0.569200</td>\n",
              "      <td>-0.743430</td>\n",
              "      <td>1.862176</td>\n",
              "      <td>-0.402657</td>\n",
              "      <td>-0.554419</td>\n",
              "      <td>-0.636870</td>\n",
              "      <td>-0.513676</td>\n",
              "      <td>0.741289</td>\n",
              "      <td>0.164860</td>\n",
              "      <td>-0.215365</td>\n",
              "      <td>-0.059645</td>\n",
              "      <td>1.0</td>\n",
              "      <td>0.0</td>\n",
              "      <td>0.0</td>\n",
              "      <td>0.0</td>\n",
              "      <td>0.0</td>\n",
              "    </tr>\n",
              "    <tr>\n",
              "      <th>13205</th>\n",
              "      <td>-1.334187</td>\n",
              "      <td>1.016136</td>\n",
              "      <td>1.464354</td>\n",
              "      <td>-0.280774</td>\n",
              "      <td>0.111855</td>\n",
              "      <td>-0.202786</td>\n",
              "      <td>0.131235</td>\n",
              "      <td>-0.650729</td>\n",
              "      <td>-0.733651</td>\n",
              "      <td>-0.078170</td>\n",
              "      <td>-0.078224</td>\n",
              "      <td>0.0</td>\n",
              "      <td>0.0</td>\n",
              "      <td>0.0</td>\n",
              "      <td>1.0</td>\n",
              "      <td>0.0</td>\n",
              "    </tr>\n",
              "    <tr>\n",
              "      <th>13206</th>\n",
              "      <td>1.228641</td>\n",
              "      <td>-1.347111</td>\n",
              "      <td>-0.683884</td>\n",
              "      <td>-0.455750</td>\n",
              "      <td>-0.171311</td>\n",
              "      <td>-0.131044</td>\n",
              "      <td>-0.153361</td>\n",
              "      <td>-0.932609</td>\n",
              "      <td>-0.711128</td>\n",
              "      <td>-0.095732</td>\n",
              "      <td>-0.013405</td>\n",
              "      <td>0.0</td>\n",
              "      <td>0.0</td>\n",
              "      <td>0.0</td>\n",
              "      <td>0.0</td>\n",
              "      <td>1.0</td>\n",
              "    </tr>\n",
              "    <tr>\n",
              "      <th>13207</th>\n",
              "      <td>0.604170</td>\n",
              "      <td>-0.832344</td>\n",
              "      <td>0.589146</td>\n",
              "      <td>-0.583636</td>\n",
              "      <td>-0.740024</td>\n",
              "      <td>-0.684093</td>\n",
              "      <td>-0.743441</td>\n",
              "      <td>0.529944</td>\n",
              "      <td>0.395708</td>\n",
              "      <td>-0.104477</td>\n",
              "      <td>0.006150</td>\n",
              "      <td>1.0</td>\n",
              "      <td>0.0</td>\n",
              "      <td>0.0</td>\n",
              "      <td>0.0</td>\n",
              "      <td>0.0</td>\n",
              "    </tr>\n",
              "    <tr>\n",
              "      <th>13208</th>\n",
              "      <td>-1.279233</td>\n",
              "      <td>0.838308</td>\n",
              "      <td>0.589146</td>\n",
              "      <td>0.613037</td>\n",
              "      <td>1.199310</td>\n",
              "      <td>0.739849</td>\n",
              "      <td>1.282676</td>\n",
              "      <td>-0.177081</td>\n",
              "      <td>-0.602212</td>\n",
              "      <td>-0.104423</td>\n",
              "      <td>-0.071615</td>\n",
              "      <td>0.0</td>\n",
              "      <td>0.0</td>\n",
              "      <td>0.0</td>\n",
              "      <td>1.0</td>\n",
              "      <td>0.0</td>\n",
              "    </tr>\n",
              "  </tbody>\n",
              "</table>\n",
              "<p>13209 rows × 16 columns</p>\n",
              "</div>"
            ],
            "text/plain": [
              "       longitude  latitude  housing_median_age  total_rooms  total_bedrooms  \\\n",
              "0      -1.159335  0.857026           -1.877350    -0.524079       -0.844724   \n",
              "1       0.853958 -0.874461           -1.081706    -0.832481       -0.580594   \n",
              "2      -0.884568  1.427949           -0.047369     0.334644        0.026191   \n",
              "3       1.288590 -0.799586           -0.206498    -0.993145       -1.123132   \n",
              "4      -0.874576  1.301598           -0.922577     0.806480        0.271285   \n",
              "...          ...       ...                 ...          ...             ...   \n",
              "13204   0.569200 -0.743430            1.862176    -0.402657       -0.554419   \n",
              "13205  -1.334187  1.016136            1.464354    -0.280774        0.111855   \n",
              "13206   1.228641 -1.347111           -0.683884    -0.455750       -0.171311   \n",
              "13207   0.604170 -0.832344            0.589146    -0.583636       -0.740024   \n",
              "13208  -1.279233  0.838308            0.589146     0.613037        1.199310   \n",
              "\n",
              "       population  households  median_income  rooms_per_household  \\\n",
              "0       -0.664114   -0.829604       3.395843             1.170051   \n",
              "1       -0.100168   -0.652057      -0.546466            -0.879506   \n",
              "2        0.096896    0.136457       0.208175             0.280941   \n",
              "3       -1.038262   -1.161198      -0.087333             1.322719   \n",
              "4        0.484666    0.353168       1.017217             0.625629   \n",
              "...           ...         ...            ...                  ...   \n",
              "13204   -0.636870   -0.513676       0.741289             0.164860   \n",
              "13205   -0.202786    0.131235      -0.650729            -0.733651   \n",
              "13206   -0.131044   -0.153361      -0.932609            -0.711128   \n",
              "13207   -0.684093   -0.743441       0.529944             0.395708   \n",
              "13208    0.739849    1.282676      -0.177081            -0.602212   \n",
              "\n",
              "       bedrooms_per_household  population_per_household  \\\n",
              "0                   -0.223054                  0.067133   \n",
              "1                    0.176602                  0.196996   \n",
              "2                   -0.240038                 -0.025045   \n",
              "3                    0.177075                  0.173898   \n",
              "4                   -0.163943                  0.002901   \n",
              "...                       ...                       ...   \n",
              "13204               -0.215365                 -0.059645   \n",
              "13205               -0.078170                 -0.078224   \n",
              "13206               -0.095732                 -0.013405   \n",
              "13207               -0.104477                  0.006150   \n",
              "13208               -0.104423                 -0.071615   \n",
              "\n",
              "       ocean_proximity_<1H OCEAN  ocean_proximity_INLAND  \\\n",
              "0                            1.0                     0.0   \n",
              "1                            1.0                     0.0   \n",
              "2                            0.0                     1.0   \n",
              "3                            0.0                     1.0   \n",
              "4                            0.0                     1.0   \n",
              "...                          ...                     ...   \n",
              "13204                        1.0                     0.0   \n",
              "13205                        0.0                     0.0   \n",
              "13206                        0.0                     0.0   \n",
              "13207                        1.0                     0.0   \n",
              "13208                        0.0                     0.0   \n",
              "\n",
              "       ocean_proximity_ISLAND  ocean_proximity_NEAR BAY  \\\n",
              "0                         0.0                       0.0   \n",
              "1                         0.0                       0.0   \n",
              "2                         0.0                       0.0   \n",
              "3                         0.0                       0.0   \n",
              "4                         0.0                       0.0   \n",
              "...                       ...                       ...   \n",
              "13204                     0.0                       0.0   \n",
              "13205                     0.0                       1.0   \n",
              "13206                     0.0                       0.0   \n",
              "13207                     0.0                       0.0   \n",
              "13208                     0.0                       1.0   \n",
              "\n",
              "       ocean_proximity_NEAR OCEAN  \n",
              "0                             0.0  \n",
              "1                             0.0  \n",
              "2                             0.0  \n",
              "3                             0.0  \n",
              "4                             0.0  \n",
              "...                           ...  \n",
              "13204                         0.0  \n",
              "13205                         0.0  \n",
              "13206                         1.0  \n",
              "13207                         0.0  \n",
              "13208                         0.0  \n",
              "\n",
              "[13209 rows x 16 columns]"
            ]
          },
          "execution_count": 55,
          "metadata": {},
          "output_type": "execute_result"
        }
      ],
      "source": [
        "pd.DataFrame(transformed, columns=column_names)\n"
      ]
    },
    {
      "cell_type": "markdown",
      "metadata": {
        "id": "rD2avWIrYTgg"
      },
      "source": [
        "\n",
        "![Scaling](images/scaling3.png)\n"
      ]
    },
    {
      "cell_type": "markdown",
      "metadata": {
        "id": "zSIuOJn3YiZB"
      },
      "source": [
        "## **Entrenamiento del modelo**\n"
      ]
    },
    {
      "cell_type": "code",
      "execution_count": 56,
      "metadata": {
        "colab": {
          "base_uri": "https://localhost:8080/",
          "height": 206
        },
        "id": "ot5-S4aVYvul",
        "outputId": "291576a4-3759-4b47-b076-3f77c81a8601"
      },
      "outputs": [
        {
          "data": {
            "text/html": [
              "<div>\n",
              "<style scoped>\n",
              "    .dataframe tbody tr th:only-of-type {\n",
              "        vertical-align: middle;\n",
              "    }\n",
              "\n",
              "    .dataframe tbody tr th {\n",
              "        vertical-align: top;\n",
              "    }\n",
              "\n",
              "    .dataframe thead th {\n",
              "        text-align: right;\n",
              "    }\n",
              "</style>\n",
              "<table border=\"1\" class=\"dataframe\">\n",
              "  <thead>\n",
              "    <tr style=\"text-align: right;\">\n",
              "      <th></th>\n",
              "      <th>longitude</th>\n",
              "      <th>latitude</th>\n",
              "      <th>housing_median_age</th>\n",
              "      <th>total_rooms</th>\n",
              "      <th>total_bedrooms</th>\n",
              "      <th>population</th>\n",
              "      <th>households</th>\n",
              "      <th>median_income</th>\n",
              "      <th>median_house_value</th>\n",
              "      <th>ocean_proximity</th>\n",
              "    </tr>\n",
              "  </thead>\n",
              "  <tbody>\n",
              "    <tr>\n",
              "      <th>0</th>\n",
              "      <td>-122.23</td>\n",
              "      <td>37.88</td>\n",
              "      <td>41.0</td>\n",
              "      <td>880.0</td>\n",
              "      <td>129.0</td>\n",
              "      <td>322.0</td>\n",
              "      <td>126.0</td>\n",
              "      <td>8.3252</td>\n",
              "      <td>452600.0</td>\n",
              "      <td>NEAR BAY</td>\n",
              "    </tr>\n",
              "    <tr>\n",
              "      <th>1</th>\n",
              "      <td>-122.22</td>\n",
              "      <td>37.86</td>\n",
              "      <td>21.0</td>\n",
              "      <td>7099.0</td>\n",
              "      <td>1106.0</td>\n",
              "      <td>2401.0</td>\n",
              "      <td>1138.0</td>\n",
              "      <td>8.3014</td>\n",
              "      <td>358500.0</td>\n",
              "      <td>NEAR BAY</td>\n",
              "    </tr>\n",
              "    <tr>\n",
              "      <th>2</th>\n",
              "      <td>-122.24</td>\n",
              "      <td>37.85</td>\n",
              "      <td>52.0</td>\n",
              "      <td>1467.0</td>\n",
              "      <td>190.0</td>\n",
              "      <td>496.0</td>\n",
              "      <td>177.0</td>\n",
              "      <td>7.2574</td>\n",
              "      <td>352100.0</td>\n",
              "      <td>NEAR BAY</td>\n",
              "    </tr>\n",
              "    <tr>\n",
              "      <th>3</th>\n",
              "      <td>-122.25</td>\n",
              "      <td>37.85</td>\n",
              "      <td>52.0</td>\n",
              "      <td>1274.0</td>\n",
              "      <td>235.0</td>\n",
              "      <td>558.0</td>\n",
              "      <td>219.0</td>\n",
              "      <td>5.6431</td>\n",
              "      <td>341300.0</td>\n",
              "      <td>NEAR BAY</td>\n",
              "    </tr>\n",
              "    <tr>\n",
              "      <th>4</th>\n",
              "      <td>-122.25</td>\n",
              "      <td>37.85</td>\n",
              "      <td>52.0</td>\n",
              "      <td>1627.0</td>\n",
              "      <td>280.0</td>\n",
              "      <td>565.0</td>\n",
              "      <td>259.0</td>\n",
              "      <td>3.8462</td>\n",
              "      <td>342200.0</td>\n",
              "      <td>NEAR BAY</td>\n",
              "    </tr>\n",
              "  </tbody>\n",
              "</table>\n",
              "</div>"
            ],
            "text/plain": [
              "   longitude  latitude  housing_median_age  total_rooms  total_bedrooms  \\\n",
              "0    -122.23     37.88                41.0        880.0           129.0   \n",
              "1    -122.22     37.86                21.0       7099.0          1106.0   \n",
              "2    -122.24     37.85                52.0       1467.0           190.0   \n",
              "3    -122.25     37.85                52.0       1274.0           235.0   \n",
              "4    -122.25     37.85                52.0       1627.0           280.0   \n",
              "\n",
              "   population  households  median_income  median_house_value ocean_proximity  \n",
              "0       322.0       126.0         8.3252            452600.0        NEAR BAY  \n",
              "1      2401.0      1138.0         8.3014            358500.0        NEAR BAY  \n",
              "2       496.0       177.0         7.2574            352100.0        NEAR BAY  \n",
              "3       558.0       219.0         5.6431            341300.0        NEAR BAY  \n",
              "4       565.0       259.0         3.8462            342200.0        NEAR BAY  "
            ]
          },
          "execution_count": 56,
          "metadata": {},
          "output_type": "execute_result"
        }
      ],
      "source": [
        "# Cargar los datos\n",
        "housing_df = pd.read_csv(\"housing.csv\")\n",
        "housing_df.head()"
      ]
    },
    {
      "cell_type": "code",
      "execution_count": 57,
      "metadata": {
        "id": "gjre_SHHY8Uf"
      },
      "outputs": [],
      "source": [
        "#Particiones\n",
        "train_df, test_df = train_test_split(housing_df, test_size=0.20, random_state=123)\n",
        "train_df, val_df = train_test_split(train_df, test_size = 0.20, random_state=123)"
      ]
    },
    {
      "cell_type": "code",
      "execution_count": 58,
      "metadata": {
        "id": "FqMR1zsGZEf5"
      },
      "outputs": [],
      "source": [
        "#Creación de nuevas variables\n",
        "train_df = train_df.assign(\n",
        "    rooms_per_household=train_df[\"total_rooms\"] / train_df[\"households\"]\n",
        ")\n",
        "\n",
        "val_df = val_df.assign(\n",
        "    rooms_per_household=val_df[\"total_rooms\"] / val_df[\"households\"]\n",
        ")\n",
        "\n",
        "test_df = test_df.assign(\n",
        "    rooms_per_household=test_df[\"total_rooms\"] / test_df[\"households\"]\n",
        ")\n",
        "\n",
        "train_df = train_df.assign(\n",
        "    bedrooms_per_household=train_df[\"total_bedrooms\"] / train_df[\"households\"]\n",
        ")\n",
        "\n",
        "val_df = val_df.assign(\n",
        "    bedrooms_per_household=val_df[\"total_bedrooms\"] / val_df[\"households\"]\n",
        ")\n",
        "\n",
        "test_df = test_df.assign(\n",
        "    bedrooms_per_household=test_df[\"total_bedrooms\"] / test_df[\"households\"]\n",
        ")\n",
        "\n",
        "train_df = train_df.assign(\n",
        "    population_per_household=train_df[\"population\"] / train_df[\"households\"]\n",
        ")\n",
        "\n",
        "val_df = val_df.assign(\n",
        "    population_per_household=val_df[\"population\"] / val_df[\"households\"]\n",
        ")\n",
        "\n",
        "test_df = test_df.assign(\n",
        "    population_per_household=test_df[\"population\"] / test_df[\"households\"]\n",
        ")"
      ]
    },
    {
      "cell_type": "code",
      "execution_count": 59,
      "metadata": {
        "id": "dfnUUgocYmUc"
      },
      "outputs": [],
      "source": [
        "#Definir características y variable objetivo\n",
        "X_train = train_df.drop(columns=[\"median_house_value\"])\n",
        "y_train = train_df[\"median_house_value\"]\n",
        "\n",
        "X_val = val_df.drop(columns=[\"median_house_value\"])\n",
        "y_val = val_df[\"median_house_value\"]\n",
        "\n",
        "X_test = test_df.drop(columns=[\"median_house_value\"])\n",
        "y_test = test_df[\"median_house_value\"]"
      ]
    },
    {
      "cell_type": "code",
      "execution_count": 60,
      "metadata": {
        "id": "7WnvpnnQZQKt"
      },
      "outputs": [],
      "source": [
        "#Encontrar variables numéricas y categóricas\n",
        "cat_cols = X_train.select_dtypes(include=object).columns\n",
        "num_cols = X_train.select_dtypes(include=np.number).columns"
      ]
    },
    {
      "cell_type": "code",
      "execution_count": 61,
      "metadata": {
        "id": "OjyixSu6ZYMh"
      },
      "outputs": [],
      "source": [
        "#Definir el pipeline de pre-procesamiento\n",
        "numeric_transformer = Pipeline(\n",
        "    steps=[(\"imputer\", SimpleImputer(strategy=\"median\")),(\"scaler\", StandardScaler())]\n",
        ")\n",
        "\n",
        "categorical_transformer = Pipeline(\n",
        "    steps=[(\"encoder\", OneHotEncoder(handle_unknown=\"ignore\"))]\n",
        ")\n",
        "\n",
        "preprocessor = ColumnTransformer(\n",
        "    transformers=[\n",
        "        (\"num\", numeric_transformer, num_cols),\n",
        "        (\"cat\", categorical_transformer, cat_cols),\n",
        "    ]\n",
        ")"
      ]
    },
    {
      "cell_type": "code",
      "execution_count": 62,
      "metadata": {
        "id": "I63E5j8EZqor"
      },
      "outputs": [],
      "source": [
        "# Crear un clasificador KNN con diferentes números de vecinos\n",
        "n_neighbors = [9,11,13,15,16,17,18,19,20]\n",
        "det_coef = []\n",
        "\n",
        "for k in n_neighbors:\n",
        "  clf = Pipeline(steps=[(\"preprocessor\", preprocessor), (\"regressor\", KNeighborsRegressor(k))])\n",
        "  # Entrenar el clasificador con los datos de entrenamiento\n",
        "  clf.fit(X_train, y_train)\n",
        "  # Evaluar el rendimiento del clasificador en los datos de validación\n",
        "  det_coef.append(clf.score(X_val, y_val))"
      ]
    },
    {
      "cell_type": "code",
      "execution_count": 63,
      "metadata": {
        "colab": {
          "base_uri": "https://localhost:8080/",
          "height": 525
        },
        "id": "-tyFZGJnZ9Jn",
        "outputId": "09d44f06-3bb0-48a0-ff44-41457e4163eb"
      },
      "outputs": [
        {
          "data": {
            "image/png": "[encoded data removed]",
            "text/plain": [
              "<Figure size 640x480 with 1 Axes>"
            ]
          },
          "metadata": {},
          "output_type": "display_data"
        }
      ],
      "source": [
        "#Gráfica para selección del hiperparámetro\n",
        "gfg = sns.barplot(x = n_neighbors,y = det_coef)\n",
        "gfg.set(xlabel =\"Number of neighbors\", ylabel = \"Determination Coefficient (%)\", title ='k-NN Regression')\n",
        "plt.show()"
      ]
    },
    {
      "cell_type": "code",
      "execution_count": 64,
      "metadata": {
        "colab": {
          "base_uri": "https://localhost:8080/"
        },
        "id": "XBld1DTyaELl",
        "outputId": "a08ecd8f-25ea-4e3a-d6fd-29afea3c27f8"
      },
      "outputs": [
        {
          "name": "stdout",
          "output_type": "stream",
          "text": [
            "El número óptimo de vecinos es 15\n",
            "El coeficiente de determinación en el conjunto de test es 0.74\n"
          ]
        }
      ],
      "source": [
        "#Re-entrenar el modelo con los datos de entrenamiento y validación para el valor de k óptimo\n",
        "k_opt = n_neighbors[np.argmax(det_coef)]\n",
        "print(f\"El número óptimo de vecinos es {k_opt}\")\n",
        "X_train_test = pd.concat([X_train,X_val],axis=0)\n",
        "y_train_test = np.hstack([y_train,y_val])\n",
        "clf = Pipeline(steps=[(\"preprocessor\", preprocessor), (\"regressor\", KNeighborsRegressor(k_opt))])\n",
        "# Entrenar el clasificador con los datos de entrenamiento\n",
        "clf.fit(X_train_test, y_train_test)\n",
        "det_coef = clf.score(X_test, y_test)\n",
        "print(f\"El coeficiente de determinación en el conjunto de test es {det_coef:0.2f}\")"
      ]
    },
    {
      "cell_type": "markdown",
      "metadata": {
        "id": "fmF4Ug4jbWK-"
      },
      "source": [
        "## **¿Qué aprendimos hoy?**\n",
        "\n",
        "- Motivación para el preprocesamiento de datos\n",
        "- Técnicas comunes de preprocesamiento:\n",
        "  - Imputación\n",
        "  - Escalamiento\n",
        "  - OneHotEncoding\n",
        "- Aplicar diferentes transformaciones a diferentes columnas\n"
      ]
    }
  ],
  "metadata": {
    "colab": {
      "authorship_tag": "ABX9TyN9wPS8pgYmjKtntRmpElwR",
      "include_colab_link": true,
      "provenance": []
    },
    "kernelspec": {
      "display_name": ".venv",
      "language": "python",
      "name": "python3"
    },
    "language_info": {
      "codemirror_mode": {
        "name": "ipython",
        "version": 3
      },
      "file_extension": ".py",
      "mimetype": "text/x-python",
      "name": "python",
      "nbconvert_exporter": "python",
      "pygments_lexer": "ipython3",
      "version": "3.10.12"
    }
  },
  "nbformat": 4,
  "nbformat_minor": 0
}
