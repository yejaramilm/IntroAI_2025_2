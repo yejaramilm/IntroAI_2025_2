{
  "nbformat": 4,
  "nbformat_minor": 0,
  "metadata": {
    "colab": {
      "provenance": []
    },
    "kernelspec": {
      "name": "python3",
      "display_name": "Python 3"
    },
    "language_info": {
      "name": "python"
    }
  },
  "cells": [
    {
      "cell_type": "code",
      "execution_count": null,
      "metadata": {
        "id": "xoZn6b-uZt8r"
      },
      "outputs": [],
      "source": [
        "import heapq #El módulo heapq implementa colas de prioridad (heaps)"
      ]
    },
    {
      "cell_type": "code",
      "source": [
        "class Node:\n",
        "    def __init__(self, position, parent=None, path_cost=0): #AGREGAR ACTION\n",
        "        self.position = position\n",
        "        self.parent = parent\n",
        "        self.path_cost = path_cost\n",
        "\n",
        "    def __lt__(self, other):\n",
        "        return self.path_cost < other.path_cost\n",
        "\n",
        "class Problem:\n",
        "    #DEFINA la Class problem como lo considere necesario, puede basarse del ejemplo de Bucharest#"
      ],
      "metadata": {
        "id": "4Rahk-56Z9jq"
      },
      "execution_count": null,
      "outputs": []
    },
    {
      "cell_type": "code",
      "source": [
        "def find_exit(maze):\n",
        "    start = (1, 1)  # Posición inicial basado en la documentación suministrada\n",
        "    end = (1, 6)    # Posición de la salida basado en la documentación suministrada\n",
        "\n",
        "    #DEFINA el conjunto de actions posibles#\n",
        "\n",
        "    problem=Problem()#COMPLETE LA DEFINICIÓN DEL OBJETO Y ADAPTELO EN LOS PUNTOS QUE LO REQUIERAN\n",
        "\n",
        "    def manhatan_distance(pos, goal):\n",
        "        return abs(pos[0] - goal[0]) + abs(pos[1] - goal[1])  # Distancia de Manhattan\n",
        "\n",
        "    def get_neighbors(pos):  #ESTA ES LA FUNCIÓN QUE DEBERIA AJUSTAR PARA HACER TRACKING DE LOS MOVIMIENTOS (Up, Down, Right, Left)\n",
        "        neighbors = [] #lista de vecinos\n",
        "        for move in [x for x in problem.actions.keys()]:  #Tenga en cuenta que para que esto sea funcional ya debio haber definido el objeto problem\n",
        "            neighbor = (pos[0] + move[0], pos[1] + move[1])\n",
        "            if maze[neighbor[0]][neighbor[1]] != \"#\": #si el vecino es diferente a \"#\" pared agregarlo a la lista de vecinos                neighbors.append(neighbor)\n",
        "              neighbors.append(neighbor)\n",
        "        return neighbors\n",
        "\n",
        "    start_node = Node(start, path_cost=0)\n",
        "    frontier = [(manhatan_distance(start, goal), start_node)]\n",
        "    heapq.heapify(frontier) #Convierte la lista frontier en una cola de prioridad (heap)\n",
        "    reached = {start: start_node}\n",
        "\n",
        "    while frontier:\n",
        "        _, node = heapq.heappop(frontier)\n",
        "        if node.position == goal:\n",
        "            return reconstruct_path(node)\n",
        "\n",
        "        for neighbor in get_neighbors(node.position):\n",
        "            new_cost = node.path_cost + 1\n",
        "            if neighbor not in reached or new_cost < reached[neighbor].path_cost:\n",
        "                reached[neighbor] = Node(neighbor, parent=node, path_cost=new_cost)\n",
        "                heapq.heappush(frontier, (manhatan_distance(neighbor, end), reached[neighbor]))\n",
        "\n",
        "    return None  # No se encontró salida"
      ],
      "metadata": {
        "id": "7B4dgvTgaBhf"
      },
      "execution_count": null,
      "outputs": []
    },
    {
      "cell_type": "code",
      "source": [
        "def reconstruct_path(node):  #AJUSTAR FUNCIONES PARA ADEMAS DE LAS POSICIONES, MOSTRAR LAS ACCIONES TOMADAS\n",
        "    path = []\n",
        "    while node:\n",
        "        path.append(node.position)\n",
        "        node = node.parent\n",
        "    path.reverse()\n",
        "    return path\n"
      ],
      "metadata": {
        "id": "nr1f-OMmaPZy"
      },
      "execution_count": null,
      "outputs": []
    },
    {
      "cell_type": "code",
      "source": [
        "maze = [\n",
        "    [\"#\", \"#\", \"#\", \"#\", \"#\", \"#\", \"#\",\"#\"],\n",
        "    [\"#\", \"S\", \"#\", \" \", \"#\", \" \", \"E\",\"#\"],\n",
        "    [\"#\", \" \", \" \", \" \", \"#\", \" \", \" \",\"#\"],\n",
        "    [\"#\", \" \", \"#\", \" \", \" \", \" \", \"#\",\"#\"],\n",
        "    [\"#\", \"#\", \"#\", \"#\", \"#\", \"#\", \"#\",\"#\"],\n",
        "    [\"#\", \"#\", \"#\", \"#\", \"#\", \"#\", \"#\",\"#\"]\n",
        "]\n",
        "path = find_exit(maze)\n",
        "print(\"Path to exit:\", path)"
      ],
      "metadata": {
        "id": "goDWZANwaRuK"
      },
      "execution_count": null,
      "outputs": []
    },
    {
      "cell_type": "markdown",
      "source": [
        "**UNA VEZ SOLUCIONADO EL EJERCICIO, RESPONDA:**\n",
        "\n",
        "1. ¿Cómo cambia el comportamiento del algoritmo si cambiamos la función de costo?\n",
        "2. ¿Qué sucede si hay múltiples salidas en el laberinto? ¿Cómo podrías modificar el algoritmo para manejar esto?\n",
        "3. Modifica el laberinto por uno mas grande y con otros tipos de obstaculos a demas de pared ¿que limitación encuentras en el algoritmo? Nota: Resuelve este problema en una celda aparte, con el fin de mantener la integridad de tu código original"
      ],
      "metadata": {
        "id": "H26eDnSU4YEK"
      }
    }
  ]
}