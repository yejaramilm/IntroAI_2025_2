{
  "nbformat": 4,
  "nbformat_minor": 0,
  "metadata": {
    "colab": {
      "provenance": []
    },
    "kernelspec": {
      "name": "python3",
      "display_name": "Python 3"
    },
    "language_info": {
      "name": "python"
    }
  },
  "cells": [
    {
      "cell_type": "code",
      "source": [
        "import heapq\n",
        "\n",
        "class Node:\n",
        "    def __init__(self, state, parent=None, path_cost=0, f_value=float('inf')):\n",
        "        self.state = state\n",
        "        self.parent = parent\n",
        "        self.path_cost = path_cost #Costo del path g(n)\n",
        "        self.f_value = f_value #valor del costo para el camino alternativo\n",
        "\n",
        "    def __lt__(self, other):\n",
        "        return self.f_value < other.f_value #comparación para la organización de prioridad\n",
        "\n",
        "    def __repr__(self):\n",
        "        return f\"Node({self.state})\" #Impresión del estado ante la invocación del método print\n"
      ],
      "metadata": {
        "id": "eGon9sww7NJO"
      },
      "execution_count": null,
      "outputs": []
    },
    {
      "cell_type": "code",
      "source": [
        "class Problem:\n",
        "    def __init__(self, initial, goal, actions, result, h):\n",
        "        self.initial = initial\n",
        "        self.goal = goal\n",
        "        self.actions = actions #conjunto de actions posible para un estado [s]\n",
        "        self.result = result\n",
        "        self.h = h #Aplicación de la función heuristica\n",
        "\n",
        "    def is_goal(self, state):\n",
        "        return state == self.goal\n"
      ],
      "metadata": {
        "id": "kkImKdHX7Sqe"
      },
      "execution_count": null,
      "outputs": []
    },
    {
      "cell_type": "code",
      "source": [
        "def f(node, problem):\n",
        "    return node.path_cost + problem.h(node.state) #retorna f(n)=g(n)+h(n)\n"
      ],
      "metadata": {
        "id": "dCKd7QiY7UbH"
      },
      "execution_count": null,
      "outputs": []
    },
    {
      "cell_type": "code",
      "source": [
        "def expand(node, problem):\n",
        "    successors = [] #lista de sucesores, recuerden qye tambien podrian usar yield si lo requieren\n",
        "    for action, cost in problem.actions[node.state].items():\n",
        "        child_state = problem.result(node.state, action)\n",
        "        child = Node(state=child_state, parent=node, path_cost=node.path_cost + cost)#definición de costo del camino g(n)\n",
        "        child.f_value = f(child, problem)#aplicación f(n)=g(n)+h(n) para hacer un set del atributo\n",
        "        successors.append(child)\n",
        "    return successors\n"
      ],
      "metadata": {
        "id": "1bNj0XS77XdJ"
      },
      "execution_count": null,
      "outputs": []
    },
    {
      "cell_type": "code",
      "source": [
        "def recursive_best_first_search(problem):\n",
        "    initial_node = Node(problem.initial, path_cost=0, f_value=problem.h(problem.initial))\n",
        "    return rbfs(problem, initial_node, float('inf'))\n",
        "\n",
        "def rbfs(problem, node, f_limit):\n",
        "        if problem.is_goal(node.state):#validación si estoy en el objetivo, en tal caso retornar nodo y f(n)\n",
        "            return node, node.f_value\n",
        "\n",
        "        successors = expand(node, problem) #Expansion del nodo, devuelve una lista de hijos\n",
        "        print(successors)\n",
        "        if not successors:  #retornar cuando no hay sucesores\n",
        "            return None, float('inf')\n",
        "\n",
        "        heapq.heapify(successors) #Crear cola de prioridad a partir de los sucesores se comparan mediante el metodo __lt__ del nodo\n",
        "\n",
        "        while True:\n",
        "            best = heapq.heappop(successors)#tomar el menor costo\n",
        "            if best.f_value > f_limit: #caso en que el camino alternativo tenga menor costo\n",
        "                return None, best.f_value\n",
        "            alternative = successors[0].f_value if successors else float('inf')#Guardamos el camino alternativo que seria el segundo mejor(recuerda que ya tomamos el primero)\n",
        "            result, best.f_value = rbfs(problem, best, min(f_limit, alternative)) #llamamos recursivamente a la función con el mejor node y el nuevo f_limit\n",
        "            if result is not None:\n",
        "                return result, best.f_value\n",
        "            heapq.heappush(successors, best)#reintroduce el mejor nodo en la cola de prioridad\n"
      ],
      "metadata": {
        "id": "LxFVmOlO7aLc"
      },
      "execution_count": null,
      "outputs": []
    },
    {
      "cell_type": "code",
      "source": [
        "action = {\n",
        "    'Arad': {'Zerind': 75, 'Sibiu': 140, 'Timisoara': 118},\n",
        "    'Zerind': {'Oradea': 71, 'Arad': 75},\n",
        "    'Oradea': {'Sibiu': 151, 'Zerind': 71},\n",
        "    'Sibiu': {'Fagaras': 99, 'Rimnicu Vilcea': 80, 'Oradea': 151, 'Arad': 140},\n",
        "    'Fagaras': {'Bucharest': 211, 'Sibiu': 99},\n",
        "    'Rimnicu Vilcea': {'Pitesti': 97, 'Craiova': 146, 'Sibiu': 80},\n",
        "    'Pitesti': {'Bucharest': 101, 'Rimnicu Vilcea': 97},\n",
        "    'Timisoara': {'Lugoj': 111, 'Arad': 118},\n",
        "    'Lugoj': {'Mehadia': 70, 'Timisoara': 111},\n",
        "    'Mehadia': {'Drobeta': 75, 'Lugoj': 70},\n",
        "    'Drobeta': {'Craiova': 120, 'Mehadia': 75},\n",
        "    'Craiova': {'Pitesti': 138, 'Rimnicu Vilcea': 146, 'Drobeta': 120},\n",
        "    'Bucharest': {'Fagaras': 211, 'Pitesti': 101, 'Urziceni': 85, 'Giurgiu': 90},\n",
        "    'Giurgiu': {'Bucharest': 90},\n",
        "    'Urziceni': {'Bucharest': 85, 'Hirsova': 98, 'Vaslui': 142},\n",
        "    'Hirsova': {'Urziceni': 98, 'Eforie': 86},\n",
        "    'Eforie': {'Hirsova': 86},\n",
        "    'Vaslui': {'Iasi': 92, 'Urziceni': 142},\n",
        "    'Iasi': {'Neamt': 87, 'Vaslui': 92},\n",
        "    'Neamt': {'Iasi': 87}\n",
        "}\n",
        "\n",
        "h_values = {\n",
        "    'Arad': 366, 'Bucharest': 0, 'Craiova': 160, 'Drobeta': 242, 'Eforie': 161,\n",
        "    'Fagaras': 176, 'Giurgiu': 77, 'Hirsova': 151, 'Iasi': 226, 'Lugoj': 244,\n",
        "    'Mehadia': 241, 'Neamt': 234, 'Oradea': 380, 'Pitesti': 100, 'Rimnicu Vilcea': 193,\n",
        "    'Sibiu': 253, 'Timisoara': 329, 'Urziceni': 80, 'Vaslui': 199, 'Zerind': 374\n",
        "}\n",
        "\n",
        "def result(state, action):\n",
        "    return action\n",
        "\n",
        "romania_problem = Problem(\n",
        "    initial='Arad',\n",
        "    goal='Bucharest',\n",
        "    actions=action,\n",
        "    result=result,\n",
        "    h=lambda s: h_values[s]\n",
        ")\n",
        "\n",
        "solution, _ = recursive_best_first_search(romania_problem)\n",
        "\n",
        "if solution:\n",
        "    path = []\n",
        "    while solution:\n",
        "        path.append(solution.state)\n",
        "        solution = solution.parent\n",
        "    path.reverse()\n",
        "    print(\"Solution path:\", path)\n",
        "else:\n",
        "    print(\"No solution found\")\n"
      ],
      "metadata": {
        "colab": {
          "base_uri": "https://localhost:8080/"
        },
        "id": "o9ywDwKr7j-M",
        "outputId": "7a9d5919-ad45-4bda-b3dd-91e63279b74d"
      },
      "execution_count": null,
      "outputs": [
        {
          "output_type": "stream",
          "name": "stdout",
          "text": [
            "[Node(Zerind), Node(Sibiu), Node(Timisoara)]\n",
            "[Node(Fagaras), Node(Rimnicu Vilcea), Node(Oradea), Node(Arad)]\n",
            "[Node(Pitesti), Node(Craiova), Node(Sibiu)]\n",
            "[Node(Bucharest), Node(Sibiu)]\n",
            "[Node(Pitesti), Node(Craiova), Node(Sibiu)]\n",
            "[Node(Bucharest), Node(Rimnicu Vilcea)]\n",
            "Solution path: ['Arad', 'Sibiu', 'Rimnicu Vilcea', 'Pitesti', 'Bucharest']\n"
          ]
        }
      ]
    },
    {
      "cell_type": "markdown",
      "source": [
        " **ACTIVIDAD**\n",
        "\n",
        " USTED DEBE CONVERTIR EL PROBLEMA DE BEST FIRST SEARCH (CLASE PASADA) QUE SOLUCIONA LA RUTA ÓPTIMA HASTA BUCHAREST, EN UN ALGORITMO DE A*SEARCH USANDO LA HEURISTICA QUE LE HA SUMINISTRADO EL DOCENTE EN LA PRESENTACIÓN DE CLASE, Y EL PRESENTE CÓDIGO"
      ],
      "metadata": {
        "id": "1OvB8LHvEsw7"
      }
    },
    {
      "cell_type": "code",
      "source": [],
      "metadata": {
        "id": "WZHUOom-FNhz"
      },
      "execution_count": null,
      "outputs": []
    }
  ]
}