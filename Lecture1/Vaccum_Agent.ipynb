{
  "nbformat": 4,
  "nbformat_minor": 0,
  "metadata": {
    "colab": {
      "provenance": []
    },
    "kernelspec": {
      "name": "python3",
      "display_name": "Python 3"
    },
    "language_info": {
      "name": "python"
    }
  },
  "cells": [
    {
      "cell_type": "code",
      "execution_count": null,
      "metadata": {
        "colab": {
          "base_uri": "https://localhost:8080/"
        },
        "id": "RvJmQlb0QUOc",
        "outputId": "640d6ff4-f717-420a-e0be-57306a393a02"
      },
      "outputs": [
        {
          "output_type": "stream",
          "name": "stdout",
          "text": [
            "Actions taken: ['Suck', 'Down', 'Suck', 'Right', 'Up', 'Suck', 'Left', 'Down', 'Right', 'Up']\n",
            "Final world state: {'A': 'Clean', 'B': 'Clean', 'C': 'Clean', 'D': 'Clean'}\n"
          ]
        }
      ],
      "source": [
        "def action_vacuum_agent(location, status):\n",
        "    if status == \"Dirty\":\n",
        "        return \"Suck\"\n",
        "    elif location == \"A\":\n",
        "        return \"Right\"\n",
        "    elif location == \"B\":\n",
        "        return \"Up\"\n",
        "    elif location == \"C\":\n",
        "        return \"Left\"\n",
        "    elif location == \"D\":\n",
        "        return \"Down\"\n",
        "\n",
        "# Simulación del entorno de la aspiradora\n",
        "def simulate_vacuum_agent():\n",
        "    # Definimos el estado inicial\n",
        "    world = {\"A\": \"Dirty\", \"B\": \"Clean\", \"C\" : \"Dirty\", \"D\" : \"Dirty\"}  # Estado inicial: ambas celdas sucias\n",
        "    location = \"D\"  # La aspiradora empieza en la celda A\n",
        "    actions = []\n",
        "\n",
        "    for _ in range(10):  # Simulamos 10 interacciones\n",
        "        status = world[location]\n",
        "        action = action_vacuum_agent(location, status)\n",
        "        actions.append(action)\n",
        "\n",
        "        if action == \"Suck\":\n",
        "            world[location] = \"Clean\"\n",
        "        elif action == \"Right\":\n",
        "            location = \"B\"\n",
        "        elif action == \"Up\":\n",
        "            location = \"C\"\n",
        "        elif action == \"Left\":\n",
        "            location = \"D\"\n",
        "        elif action == \"Down\":\n",
        "            location = \"A\"\n",
        "\n",
        "    return actions, world\n",
        "\n",
        "actions, final_world_state = simulate_vacuum_agent()\n",
        "print(\"Actions taken:\", actions)\n",
        "print(\"Final world state:\", final_world_state)\n",
        "\n"
      ]
    },
    {
      "cell_type": "markdown",
      "source": [
        "\n",
        "\n",
        "A. Haga un análisis detallado del codigo anterior y relacionelo con los conceptos vistos en clase, varie los estados del mundo y mire como cambia el comportamiento ¿Tiene sentido?\n",
        "\n",
        "B. Realice el análisis del algoritmo de la aspiradora considerando un grid de 2x2, ¿Cuantos son los estados posibles para el mundo?¿Puede establecer una formula general para el número de estados para este tipo de problemas si crece el numero de grids?\n",
        "\n",
        "C. Modifique el algoritmo con el fin de responder a esta necesidad (grid de 2x2), considere 2 nuevas acciones (subir y bajar).\n",
        "Agregue y modifique el codigo en las acciones del agente y como responde el entorno a estas.\n",
        "\n",
        "\n",
        "\n",
        "\n",
        "\n",
        "\n",
        "\n",
        "\n"
      ],
      "metadata": {
        "id": "FPcMukgUtVWz"
      }
    }
  ]
}