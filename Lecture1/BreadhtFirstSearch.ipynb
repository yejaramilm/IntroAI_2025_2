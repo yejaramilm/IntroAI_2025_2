{
  "nbformat": 4,
  "nbformat_minor": 0,
  "metadata": {
    "colab": {
      "provenance": []
    },
    "kernelspec": {
      "name": "python3",
      "display_name": "Python 3"
    },
    "language_info": {
      "name": "python"
    }
  },
  "cells": [
    {
      "cell_type": "markdown",
      "source": [
        "**ALGORITMOS DE BUSQUEDA-BREADTH-First Search**"
      ],
      "metadata": {
        "id": "fit7pBpFRjKI"
      }
    },
    {
      "cell_type": "code",
      "source": [
        "from collections import deque #Implementación de colas\n",
        "#tenga en cuenta que el módulo heapq se usa para priorización de colas\n",
        "\n"
      ],
      "metadata": {
        "id": "TpisO_kwo1q4"
      },
      "execution_count": 1,
      "outputs": []
    },
    {
      "cell_type": "code",
      "source": [
        "class Node: #definición de clase node\n",
        "    def __init__(self, state, parent=None, action=None):\n",
        "        self.state = state #El estado que define el nodo\n",
        "        self.parent = parent #El nodo padre de donde se origina el nodo actual\n",
        "        self.action = action #Action tomada desde el padre para llegar al nodo\n",
        "    ##En este caso el path_cost no es tan necesario debido a que todas las acciones tienen costo uniforme\n"
      ],
      "metadata": {
        "id": "IR8K7QnCpfjV"
      },
      "execution_count": 2,
      "outputs": []
    },
    {
      "cell_type": "code",
      "source": [
        "def breadth_first_search(problem):\n",
        "    node = Node(state=problem.initial) #Crea el nodo raíz con el estado inicial del problema.\n",
        "    frontier = deque([node])  # Manejo de frontera como una cola  (FIFO)\n",
        "    reached = {node.state} #registrar los estados alcanzados mediante un set.\n",
        "    #la definición de reachede como set evita duplicidad de datos\n",
        "    if problem.is_goal(node.state):   #Si el estado del nodo es el estado objetivo, devuelve el nodo.\n",
        "      return node\n",
        "\n",
        "    while frontier:\n",
        "        node = frontier.popleft() #Extrae el primer valor en la frontera.\n",
        "\n",
        "        for child in expand(problem, node): #Expande el nodo generando sus nodos hijos.\n",
        "            s = child.state\n",
        "            if problem.is_goal(s):\n",
        "                return child\n",
        "            if s not in reached: #Si el estado del nodo hijo no ha sido alcanzado antes añade el hijo a la frontera.\n",
        "                reached.add(child.state)\n",
        "                frontier.append(child) # Añade el nodo hijo a la frontera\n",
        "\n",
        "    return None  #Se exploran todos los nodos posibles, y no se encuentra una solución solución"
      ],
      "metadata": {
        "id": "PlP2QMWC0yra"
      },
      "execution_count": 3,
      "outputs": []
    },
    {
      "cell_type": "code",
      "source": [
        "def expand(problem, node):\n",
        "    s = node.state #estado actual\n",
        "    for action in problem.actions(s): #[\"SIBOU\",\"ZERIND\", \"TIMISOURA\"]pasa por todas las acciones posibles en el estado actual\n",
        "        s_prime = problem.result(s, action) #Nuevo estado despues de aplicar la acción\n",
        "        yield Node(state=s_prime, parent=node, action=action) #conserva el valor y pausa la ejecución de la función,\n",
        "        #cuando se vuelva a invocar se reiniciará desde la declaración del yield"
      ],
      "metadata": {
        "id": "I4n7q2UKLG-l"
      },
      "execution_count": 4,
      "outputs": []
    },
    {
      "cell_type": "code",
      "source": [
        "class Problem:\n",
        "    def __init__(self, initial, goal, actions, result, is_goal):\n",
        "        self.initial = initial #Estado inicial\n",
        "        self.goal = goal #Estado objetivo\n",
        "        self.actions = actions #acciones disponibles desde un estado.\n",
        "        self.result = result  #estado resultante de aplicar una acción\n",
        "        self.is_goal = is_goal #verificación de si el estado es el estado objetivo"
      ],
      "metadata": {
        "id": "MW6-XPnPLK0G"
      },
      "execution_count": 5,
      "outputs": []
    },
    {
      "cell_type": "code",
      "source": [
        "def problem_bucharest():\n",
        "    initial = 'Arad'\n",
        "    goal = 'Bucharest'\n",
        "\n",
        "    actions = {\n",
        "        'Arad': ['Sibiu', 'Timisoara', 'Zerind'],\n",
        "        'Sibiu': ['Arad', 'Fagaras', 'Rimnicu Vilcea'],\n",
        "        'Timisoara': ['Arad', 'Lugoj'],\n",
        "        'Zerind': ['Arad', 'Oradea'],\n",
        "        'Fagaras': ['Sibiu', 'Bucharest'],\n",
        "        'Rimnicu Vilcea': ['Sibiu', 'Pitesti', 'Craiova'],\n",
        "        'Lugoj': ['Timisoara', 'Mehadia'],\n",
        "        'Oradea': ['Zerind', 'Sibiu'],\n",
        "        'Pitesti': ['Rimnicu Vilcea', 'Bucharest'],\n",
        "        'Craiova': ['Rimnicu Vilcea', 'Drobeta', 'Pitesti'],\n",
        "        'Mehadia': ['Lugoj', 'Drobeta'],\n",
        "        'Drobeta': ['Mehadia', 'Craiova'],\n",
        "        'Bucharest': ['Fagaras', 'Pitesti', 'Urziceni', 'Giurgiu'],\n",
        "        'Giurgiu': ['Bucharest'],\n",
        "        'Urziceni': ['Bucharest', 'Hirsova', 'Vaslui'],\n",
        "        'Hirsova': ['Urziceni', 'Eforie'],\n",
        "        'Eforie': ['Hirsova'],\n",
        "        'Vaslui': ['Urziceni', 'Iasi'],\n",
        "        'Iasi': ['Vaslui', 'Neamt'],\n",
        "        'Neamt': ['Iasi']\n",
        "    }\n",
        "\n",
        "    def result(state, action):\n",
        "        return action\n",
        "    def is_goal(state):\n",
        "        return state == goal\n",
        "\n",
        "    problem = Problem(initial, goal, lambda s: actions.get(s, []), result, is_goal)\n",
        "\n",
        "    solution = breadth_first_search(problem)#Resultado del algoritmo breadth_first_search aplicado al problema definido.\n",
        "\n",
        "    if solution:\n",
        "        path = []\n",
        "        while solution:\n",
        "            path.append(solution.state)\n",
        "            solution = solution.parent\n",
        "        path.reverse()\n",
        "        print(\"Solution path:\", path)\n",
        "    else:\n",
        "        print(\"No solution found\")\n",
        "\n",
        "problem_bucharest()"
      ],
      "metadata": {
        "colab": {
          "base_uri": "https://localhost:8080/"
        },
        "id": "2kSU2IqOPWJX",
        "outputId": "fad2111e-f1a7-4a79-e0b6-fa73a5349746"
      },
      "execution_count": 6,
      "outputs": [
        {
          "output_type": "stream",
          "name": "stdout",
          "text": [
            "Solution path: ['Arad', 'Sibiu', 'Fagaras', 'Bucharest']\n"
          ]
        }
      ]
    }
  ]
}